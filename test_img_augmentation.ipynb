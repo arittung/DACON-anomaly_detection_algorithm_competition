{
 "cells": [
  {
   "cell_type": "code",
   "execution_count": 1,
   "id": "dd30ba69",
   "metadata": {},
   "outputs": [
    {
     "name": "stdout",
     "output_type": "stream",
     "text": [
      "Requirement already satisfied: nbconvert in c:\\users\\user\\.conda\\envs\\nas\\lib\\site-packages (6.0.7)\n",
      "Requirement already satisfied: jupyterlab-pygments in c:\\users\\user\\.conda\\envs\\nas\\lib\\site-packages (from nbconvert) (0.1.2)\n",
      "Requirement already satisfied: testpath in c:\\users\\user\\.conda\\envs\\nas\\lib\\site-packages (from nbconvert) (0.6.0)\n",
      "Requirement already satisfied: entrypoints>=0.2.2 in c:\\users\\user\\.conda\\envs\\nas\\lib\\site-packages (from nbconvert) (0.4)\n",
      "Requirement already satisfied: nbclient<0.6.0,>=0.5.0 in c:\\users\\user\\.conda\\envs\\nas\\lib\\site-packages (from nbconvert) (0.5.9)\n",
      "Requirement already satisfied: mistune<2,>=0.8.1 in c:\\users\\user\\.conda\\envs\\nas\\lib\\site-packages (from nbconvert) (0.8.4)\n",
      "Requirement already satisfied: defusedxml in c:\\users\\user\\.conda\\envs\\nas\\lib\\site-packages (from nbconvert) (0.7.1)\n",
      "Requirement already satisfied: pandocfilters>=1.4.1 in c:\\users\\user\\.conda\\envs\\nas\\lib\\site-packages (from nbconvert) (1.5.0)\n",
      "Requirement already satisfied: bleach in c:\\users\\user\\.conda\\envs\\nas\\lib\\site-packages (from nbconvert) (4.1.0)\n",
      "Requirement already satisfied: pygments>=2.4.1 in c:\\users\\user\\.conda\\envs\\nas\\lib\\site-packages (from nbconvert) (2.11.2)\n",
      "Requirement already satisfied: traitlets>=4.2 in c:\\users\\user\\.conda\\envs\\nas\\lib\\site-packages (from nbconvert) (4.3.3)\n",
      "Requirement already satisfied: jupyter-core in c:\\users\\user\\.conda\\envs\\nas\\lib\\site-packages (from nbconvert) (4.9.2)\n",
      "Requirement already satisfied: nbformat>=4.4 in c:\\users\\user\\.conda\\envs\\nas\\lib\\site-packages (from nbconvert) (5.1.3)\n",
      "Requirement already satisfied: jinja2>=2.4 in c:\\users\\user\\.conda\\envs\\nas\\lib\\site-packages (from nbconvert) (3.0.3)\n",
      "Requirement already satisfied: MarkupSafe>=2.0 in c:\\users\\user\\.conda\\envs\\nas\\lib\\site-packages (from jinja2>=2.4->nbconvert) (2.0.1)\n",
      "Requirement already satisfied: nest-asyncio in c:\\users\\user\\.conda\\envs\\nas\\lib\\site-packages (from nbclient<0.6.0,>=0.5.0->nbconvert) (1.5.4)\n",
      "Requirement already satisfied: async-generator in c:\\users\\user\\.conda\\envs\\nas\\lib\\site-packages (from nbclient<0.6.0,>=0.5.0->nbconvert) (1.10)\n",
      "Requirement already satisfied: jupyter-client>=6.1.5 in c:\\users\\user\\.conda\\envs\\nas\\lib\\site-packages (from nbclient<0.6.0,>=0.5.0->nbconvert) (7.1.2)\n",
      "Requirement already satisfied: pyzmq>=13 in c:\\users\\user\\.conda\\envs\\nas\\lib\\site-packages (from jupyter-client>=6.1.5->nbclient<0.6.0,>=0.5.0->nbconvert) (22.3.0)\n",
      "Requirement already satisfied: python-dateutil>=2.1 in c:\\users\\user\\.conda\\envs\\nas\\lib\\site-packages (from jupyter-client>=6.1.5->nbclient<0.6.0,>=0.5.0->nbconvert) (2.8.1)\n",
      "Requirement already satisfied: tornado>=4.1 in c:\\users\\user\\.conda\\envs\\nas\\lib\\site-packages (from jupyter-client>=6.1.5->nbclient<0.6.0,>=0.5.0->nbconvert) (6.1)\n",
      "Requirement already satisfied: pywin32>=1.0 in c:\\users\\user\\.conda\\envs\\nas\\lib\\site-packages (from jupyter-core->nbconvert) (303)\n",
      "Requirement already satisfied: ipython-genutils in c:\\users\\user\\.conda\\envs\\nas\\lib\\site-packages (from nbformat>=4.4->nbconvert) (0.2.0)\n",
      "Requirement already satisfied: jsonschema!=2.5.0,>=2.4 in c:\\users\\user\\.conda\\envs\\nas\\lib\\site-packages (from nbformat>=4.4->nbconvert) (3.2.0)\n",
      "Requirement already satisfied: six>=1.11.0 in c:\\users\\user\\.conda\\envs\\nas\\lib\\site-packages (from jsonschema!=2.5.0,>=2.4->nbformat>=4.4->nbconvert) (1.16.0)\n",
      "Requirement already satisfied: setuptools in c:\\users\\user\\.conda\\envs\\nas\\lib\\site-packages (from jsonschema!=2.5.0,>=2.4->nbformat>=4.4->nbconvert) (58.0.4)\n",
      "Requirement already satisfied: attrs>=17.4.0 in c:\\users\\user\\.conda\\envs\\nas\\lib\\site-packages (from jsonschema!=2.5.0,>=2.4->nbformat>=4.4->nbconvert) (21.4.0)\n",
      "Requirement already satisfied: importlib-metadata in c:\\users\\user\\.conda\\envs\\nas\\lib\\site-packages (from jsonschema!=2.5.0,>=2.4->nbformat>=4.4->nbconvert) (4.8.3)\n",
      "Requirement already satisfied: pyrsistent>=0.14.0 in c:\\users\\user\\.conda\\envs\\nas\\lib\\site-packages (from jsonschema!=2.5.0,>=2.4->nbformat>=4.4->nbconvert) (0.18.0)\n",
      "Requirement already satisfied: decorator in c:\\users\\user\\.conda\\envs\\nas\\lib\\site-packages (from traitlets>=4.2->nbconvert) (5.1.1)\n",
      "Requirement already satisfied: packaging in c:\\users\\user\\.conda\\envs\\nas\\lib\\site-packages (from bleach->nbconvert) (20.1)\n",
      "Requirement already satisfied: webencodings in c:\\users\\user\\.conda\\envs\\nas\\lib\\site-packages (from bleach->nbconvert) (0.5.1)\n",
      "Requirement already satisfied: zipp>=0.5 in c:\\users\\user\\.conda\\envs\\nas\\lib\\site-packages (from importlib-metadata->jsonschema!=2.5.0,>=2.4->nbformat>=4.4->nbconvert) (3.6.0)\n",
      "Requirement already satisfied: typing-extensions>=3.6.4 in c:\\users\\user\\.conda\\envs\\nas\\lib\\site-packages (from importlib-metadata->jsonschema!=2.5.0,>=2.4->nbformat>=4.4->nbconvert) (3.10.0.2)\n",
      "Requirement already satisfied: pyparsing>=2.0.2 in c:\\users\\user\\.conda\\envs\\nas\\lib\\site-packages (from packaging->bleach->nbconvert) (3.0.7)\n",
      "Note: you may need to restart the kernel to use updated packages.\n"
     ]
    }
   ],
   "source": [
    "pip install nbconvert\n"
   ]
  },
  {
   "cell_type": "code",
   "execution_count": 6,
   "id": "9b1a3cd9",
   "metadata": {},
   "outputs": [
    {
     "ename": "SyntaxError",
     "evalue": "invalid syntax (<ipython-input-6-cc780a73e45a>, line 2)",
     "output_type": "error",
     "traceback": [
      "\u001b[1;36m  File \u001b[1;32m\"<ipython-input-6-cc780a73e45a>\"\u001b[1;36m, line \u001b[1;32m2\u001b[0m\n\u001b[1;33m    jupyter nbconvert --to script data_augmentation.ipynb SMOTETomekOverSample.ipynb\u001b[0m\n\u001b[1;37m                    ^\u001b[0m\n\u001b[1;31mSyntaxError\u001b[0m\u001b[1;31m:\u001b[0m invalid syntax\n"
     ]
    }
   ],
   "source": [
    "import nbconvert\n",
    "jupyter nbconvert --to script data_augmentation.ipynb SMOTETomekOverSample.ipynb\n"
   ]
  }
 ],
 "metadata": {
  "kernelspec": {
   "display_name": "nas",
   "language": "python",
   "name": "nas"
  },
  "language_info": {
   "codemirror_mode": {
    "name": "ipython",
    "version": 3
   },
   "file_extension": ".py",
   "mimetype": "text/x-python",
   "name": "python",
   "nbconvert_exporter": "python",
   "pygments_lexer": "ipython3",
   "version": "3.6.13"
  }
 },
 "nbformat": 4,
 "nbformat_minor": 5
}
