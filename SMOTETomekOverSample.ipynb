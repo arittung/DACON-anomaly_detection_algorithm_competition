{
 "cells": [
  {
   "cell_type": "code",
   "execution_count": 1,
   "id": "8219ae19",
   "metadata": {},
   "outputs": [
    {
     "name": "stdout",
     "output_type": "stream",
     "text": [
      "importing Jupyter notebook from data_augmentation.ipynb\n"
     ]
    }
   ],
   "source": [
    "import warnings\n",
    "warnings.filterwarnings('ignore')\n",
    "\n",
    "from glob import glob\n",
    "import pandas as pd\n",
    "import numpy as np \n",
    "from tqdm import tqdm\n",
    "import cv2\n",
    "\n",
    "import os\n",
    "import timm\n",
    "import random\n",
    "\n",
    "import torch\n",
    "from torch.utils.data import Dataset, DataLoader\n",
    "import torch.nn as nn\n",
    "import torchvision.transforms as transforms\n",
    "from sklearn.metrics import f1_score, accuracy_score\n",
    "import time\n",
    "import import_ipynb\n",
    "#from data_undersampling import undersampling1\n",
    "#from data_oversampling import *\n",
    "from data_augmentation import *\n",
    "device = torch.device('cuda')"
   ]
  },
  {
   "cell_type": "code",
   "execution_count": null,
   "id": "597cfb8b",
   "metadata": {},
   "outputs": [
    {
     "name": "stdout",
     "output_type": "stream",
     "text": [
      "Counter({'hazelnut-good': 391, 'screw-good': 320, 'carpet-good': 280, 'pill-good': 267, 'grid-good': 264, 'wood-good': 247, 'leather-good': 245, 'zipper-good': 240, 'tile-good': 230, 'cable-good': 224, 'metal_nut-good': 220, 'capsule-good': 219, 'transistor-good': 213, 'bottle-good': 209, 'toothbrush-good': 60, 'toothbrush-defective': 15, 'pill-crack': 13, 'pill-color': 13, 'screw-scratch_neck': 13, 'metal_nut-bent': 13, 'metal_nut-scratch': 12, 'screw-thread_side': 12, 'pill-scratch': 12, 'screw-manipulated_front': 12, 'screw-thread_top': 12, 'capsule-crack': 12, 'metal_nut-flip': 12, 'screw-scratch_head': 12, 'capsule-scratch': 12, 'bottle-contamination': 11, 'capsule-poke': 11, 'metal_nut-color': 11, 'bottle-broken_small': 11, 'pill-contamination': 11, 'wood-scratch': 11, 'capsule-faulty_imprint': 11, 'capsule-squeeze': 10, 'bottle-broken_large': 10, 'leather-cut': 10, 'carpet-thread': 10, 'pill-faulty_imprint': 10, 'leather-glue': 10, 'carpet-color': 10, 'zipper-broken_teeth': 10, 'leather-color': 10, 'carpet-hole': 9, 'zipper-fabric_border': 9, 'hazelnut-crack': 9, 'zipper-split_teeth': 9, 'zipper-rough': 9, 'carpet-metal_contamination': 9, 'leather-fold': 9, 'tile-glue_strip': 9, 'hazelnut-cut': 9, 'hazelnut-hole': 9, 'leather-poke': 9, 'pill-combined': 9, 'hazelnut-print': 9, 'tile-oil': 9, 'carpet-cut': 9, 'tile-crack': 9, 'zipper-fabric_interior': 8, 'zipper-squeezed_teeth': 8, 'tile-gray_stroke': 8, 'zipper-combined': 8, 'tile-rough': 8, 'cable-bent_wire': 7, 'cable-cut_inner_insulation': 7, 'wood-combined': 6, 'cable-missing_cable': 6, 'grid-broken': 6, 'grid-glue': 6, 'grid-bent': 6, 'cable-combined': 6, 'grid-thread': 6, 'grid-metal_contamination': 6, 'cable-cable_swap': 6, 'pill-pill_type': 5, 'transistor-bent_lead': 5, 'cable-cut_outer_insulation': 5, 'cable-missing_wire': 5, 'transistor-damaged_case': 5, 'transistor-misplaced': 5, 'cable-poke_insulation': 5, 'transistor-cut_lead': 5, 'wood-hole': 5, 'wood-liquid': 5, 'wood-color': 4})\n",
      "Class=transistor-good, n=213 (4.980%)\n",
      "Class=capsule-good, n=219 (5.120%)\n",
      "Class=wood-good, n=247 (5.775%)\n",
      "Class=bottle-good, n=209 (4.887%)\n",
      "Class=screw-good, n=320 (7.482%)\n",
      "Class=cable-bent_wire, n=7 (0.164%)\n",
      "Class=carpet-hole, n=9 (0.210%)\n",
      "Class=hazelnut-good, n=391 (9.142%)\n",
      "Class=pill-pill_type, n=5 (0.117%)\n",
      "Class=cable-good, n=224 (5.237%)\n",
      "Class=metal_nut-scratch, n=12 (0.281%)\n",
      "Class=pill-good, n=267 (6.243%)\n",
      "Class=screw-thread_side, n=12 (0.281%)\n",
      "Class=zipper-fabric_border, n=9 (0.210%)\n",
      "Class=leather-good, n=245 (5.728%)\n",
      "Class=pill-scratch, n=12 (0.281%)\n",
      "Class=toothbrush-good, n=60 (1.403%)\n",
      "Class=hazelnut-crack, n=9 (0.210%)\n",
      "Class=screw-manipulated_front, n=12 (0.281%)\n",
      "Class=zipper-good, n=240 (5.611%)\n",
      "Class=tile-good, n=230 (5.378%)\n",
      "Class=carpet-good, n=280 (6.547%)\n",
      "Class=metal_nut-good, n=220 (5.144%)\n",
      "Class=bottle-contamination, n=11 (0.257%)\n",
      "Class=grid-good, n=264 (6.173%)\n",
      "Class=zipper-split_teeth, n=9 (0.210%)\n",
      "Class=pill-crack, n=13 (0.304%)\n",
      "Class=wood-combined, n=6 (0.140%)\n",
      "Class=pill-color, n=13 (0.304%)\n",
      "Class=screw-thread_top, n=12 (0.281%)\n",
      "Class=cable-missing_cable, n=6 (0.140%)\n",
      "Class=capsule-squeeze, n=10 (0.234%)\n",
      "Class=zipper-rough, n=9 (0.210%)\n",
      "Class=capsule-crack, n=12 (0.281%)\n",
      "Class=capsule-poke, n=11 (0.257%)\n",
      "Class=metal_nut-flip, n=12 (0.281%)\n",
      "Class=carpet-metal_contamination, n=9 (0.210%)\n",
      "Class=metal_nut-color, n=11 (0.257%)\n",
      "Class=transistor-bent_lead, n=5 (0.117%)\n",
      "Class=zipper-fabric_interior, n=8 (0.187%)\n",
      "Class=leather-fold, n=9 (0.210%)\n",
      "Class=tile-glue_strip, n=9 (0.210%)\n",
      "Class=screw-scratch_neck, n=13 (0.304%)\n",
      "Class=screw-scratch_head, n=12 (0.281%)\n",
      "Class=hazelnut-cut, n=9 (0.210%)\n",
      "Class=bottle-broken_large, n=10 (0.234%)\n",
      "Class=bottle-broken_small, n=11 (0.257%)\n",
      "Class=leather-cut, n=10 (0.234%)\n",
      "Class=cable-cut_outer_insulation, n=5 (0.117%)\n",
      "Class=zipper-squeezed_teeth, n=8 (0.187%)\n",
      "Class=toothbrush-defective, n=15 (0.351%)\n",
      "Class=cable-cut_inner_insulation, n=7 (0.164%)\n",
      "Class=pill-contamination, n=11 (0.257%)\n",
      "Class=cable-missing_wire, n=5 (0.117%)\n",
      "Class=carpet-thread, n=10 (0.234%)\n",
      "Class=grid-broken, n=6 (0.140%)\n",
      "Class=pill-faulty_imprint, n=10 (0.234%)\n",
      "Class=hazelnut-hole, n=9 (0.210%)\n",
      "Class=leather-glue, n=10 (0.234%)\n",
      "Class=leather-poke, n=9 (0.210%)\n",
      "Class=transistor-damaged_case, n=5 (0.117%)\n",
      "Class=wood-scratch, n=11 (0.257%)\n",
      "Class=tile-gray_stroke, n=8 (0.187%)\n",
      "Class=capsule-faulty_imprint, n=11 (0.257%)\n",
      "Class=grid-glue, n=6 (0.140%)\n",
      "Class=zipper-combined, n=8 (0.187%)\n",
      "Class=carpet-color, n=10 (0.234%)\n",
      "Class=grid-bent, n=6 (0.140%)\n",
      "Class=pill-combined, n=9 (0.210%)\n",
      "Class=hazelnut-print, n=9 (0.210%)\n",
      "Class=cable-combined, n=6 (0.140%)\n",
      "Class=capsule-scratch, n=12 (0.281%)\n",
      "Class=metal_nut-bent, n=13 (0.304%)\n",
      "Class=zipper-broken_teeth, n=10 (0.234%)\n",
      "Class=tile-oil, n=9 (0.210%)\n",
      "Class=transistor-misplaced, n=5 (0.117%)\n",
      "Class=grid-thread, n=6 (0.140%)\n",
      "Class=grid-metal_contamination, n=6 (0.140%)\n",
      "Class=carpet-cut, n=9 (0.210%)\n",
      "Class=wood-color, n=4 (0.094%)\n",
      "Class=cable-cable_swap, n=6 (0.140%)\n",
      "Class=tile-crack, n=9 (0.210%)\n",
      "Class=leather-color, n=10 (0.234%)\n",
      "Class=cable-poke_insulation, n=5 (0.117%)\n",
      "Class=transistor-cut_lead, n=5 (0.117%)\n",
      "Class=wood-hole, n=5 (0.117%)\n",
      "Class=tile-rough, n=8 (0.187%)\n",
      "Class=wood-liquid, n=5 (0.117%)\n"
     ]
    },
    {
     "data": {
      "image/png": "[encoded data removed]",
      "text/plain": [
       "<Figure size 432x288 with 1 Axes>"
      ]
     },
     "metadata": {
      "needs_background": "light"
     },
     "output_type": "display_data"
    },
    {
     "name": "stdout",
     "output_type": "stream",
     "text": [
      "Counter({'transistor-bent_lead': 176, 'carpet-cut': 171, 'carpet-color': 163, 'cable-missing_wire': 163, 'pill-faulty_imprint': 161, 'metal_nut-bent': 160, 'zipper-rough': 159, 'wood-good': 158, 'zipper-fabric_border': 158, 'cable-combined': 157, 'metal_nut-flip': 156, 'wood-liquid': 153, 'zipper-split_teeth': 152, 'cable-cut_outer_insulation': 152, 'carpet-metal_contamination': 150, 'leather-fold': 150, 'cable-bent_wire': 149, 'transistor-cut_lead': 149, 'wood-scratch': 148, 'screw-manipulated_front': 148, 'bottle-good': 146, 'capsule-squeeze': 146, 'pill-contamination': 146, 'grid-broken': 146, 'pill-scratch': 145, 'tile-oil': 145, 'tile-crack': 145, 'bottle-broken_small': 145, 'screw-thread_side': 144, 'zipper-fabric_interior': 144, 'tile-glue_strip': 144, 'screw-thread_top': 143, 'leather-glue': 143, 'hazelnut-cut': 142, 'leather-poke': 142, 'metal_nut-good': 141, 'tile-gray_stroke': 141, 'zipper-broken_teeth': 141, 'toothbrush-defective': 141, 'screw-good': 140, 'toothbrush-good': 140, 'transistor-damaged_case': 140, 'screw-scratch_neck': 140, 'pill-good': 139, 'carpet-hole': 139, 'pill-color': 139, 'hazelnut-print': 139, 'capsule-poke': 138, 'hazelnut-hole': 138, 'zipper-squeezed_teeth': 138, 'cable-cable_swap': 137, 'tile-rough': 137, 'bottle-broken_large': 136, 'carpet-thread': 136, 'wood-hole': 136, 'hazelnut-good': 135, 'metal_nut-color': 135, 'pill-combined': 135, 'capsule-crack': 135, 'grid-metal_contamination': 135, 'leather-cut': 135, 'wood-color': 135, 'cable-good': 134, 'grid-good': 134, 'grid-thread': 134, 'leather-good': 133, 'pill-crack': 133, 'transistor-good': 132, 'screw-scratch_head': 132, 'leather-color': 132, 'cable-poke_insulation': 132, 'capsule-faulty_imprint': 131, 'grid-glue': 131, 'wood-combined': 130, 'tile-good': 127, 'carpet-good': 127, 'hazelnut-crack': 127, 'cable-missing_cable': 127, 'zipper-good': 126, 'cable-cut_inner_insulation': 126, 'pill-pill_type': 125, 'grid-bent': 125, 'bottle-contamination': 124, 'capsule-good': 123, 'capsule-scratch': 122, 'zipper-combined': 119, 'metal_nut-scratch': 118, 'transistor-misplaced': 114})\n",
      "Class=transistor-good, n=132 (1.070%)\n",
      "Class=capsule-good, n=123 (0.997%)\n",
      "Class=wood-good, n=158 (1.281%)\n",
      "Class=bottle-good, n=146 (1.183%)\n",
      "Class=cable-bent_wire, n=149 (1.208%)\n",
      "Class=hazelnut-good, n=135 (1.094%)\n",
      "Class=pill-pill_type, n=125 (1.013%)\n",
      "Class=metal_nut-scratch, n=118 (0.956%)\n",
      "Class=screw-thread_side, n=144 (1.167%)\n",
      "Class=pill-scratch, n=145 (1.175%)\n",
      "Class=pill-good, n=139 (1.127%)\n",
      "Class=cable-good, n=134 (1.086%)\n",
      "Class=screw-good, n=140 (1.135%)\n",
      "Class=tile-good, n=127 (1.029%)\n",
      "Class=metal_nut-good, n=141 (1.143%)\n",
      "Class=carpet-good, n=127 (1.029%)\n",
      "Class=bottle-contamination, n=124 (1.005%)\n",
      "Class=grid-good, n=134 (1.086%)\n",
      "Class=zipper-good, n=126 (1.021%)\n",
      "Class=zipper-split_teeth, n=152 (1.232%)\n",
      "Class=leather-good, n=133 (1.078%)\n",
      "Class=hazelnut-crack, n=127 (1.029%)\n",
      "Class=capsule-squeeze, n=146 (1.183%)\n",
      "Class=zipper-rough, n=159 (1.289%)\n",
      "Class=capsule-poke, n=138 (1.118%)\n",
      "Class=toothbrush-good, n=140 (1.135%)\n",
      "Class=metal_nut-flip, n=156 (1.264%)\n",
      "Class=carpet-metal_contamination, n=150 (1.216%)\n",
      "Class=bottle-broken_large, n=136 (1.102%)\n",
      "Class=leather-fold, n=150 (1.216%)\n",
      "Class=cable-cut_outer_insulation, n=152 (1.232%)\n",
      "Class=pill-contamination, n=146 (1.183%)\n",
      "Class=metal_nut-color, n=135 (1.094%)\n",
      "Class=carpet-thread, n=136 (1.102%)\n",
      "Class=carpet-hole, n=139 (1.127%)\n",
      "Class=hazelnut-hole, n=138 (1.118%)\n",
      "Class=transistor-damaged_case, n=140 (1.135%)\n",
      "Class=wood-scratch, n=148 (1.200%)\n",
      "Class=zipper-fabric_interior, n=144 (1.167%)\n",
      "Class=tile-gray_stroke, n=141 (1.143%)\n",
      "Class=carpet-color, n=163 (1.321%)\n",
      "Class=pill-combined, n=135 (1.094%)\n",
      "Class=cable-combined, n=157 (1.272%)\n",
      "Class=capsule-scratch, n=122 (0.989%)\n",
      "Class=capsule-crack, n=135 (1.094%)\n",
      "Class=pill-color, n=139 (1.127%)\n",
      "Class=cable-cut_inner_insulation, n=126 (1.021%)\n",
      "Class=zipper-squeezed_teeth, n=138 (1.118%)\n",
      "Class=transistor-misplaced, n=114 (0.924%)\n",
      "Class=tile-oil, n=145 (1.175%)\n",
      "Class=grid-thread, n=134 (1.086%)\n",
      "Class=zipper-broken_teeth, n=141 (1.143%)\n",
      "Class=toothbrush-defective, n=141 (1.143%)\n",
      "Class=grid-bent, n=125 (1.013%)\n",
      "Class=tile-glue_strip, n=144 (1.167%)\n",
      "Class=carpet-cut, n=171 (1.386%)\n",
      "Class=hazelnut-cut, n=142 (1.151%)\n",
      "Class=tile-crack, n=145 (1.175%)\n",
      "Class=leather-poke, n=142 (1.151%)\n",
      "Class=grid-metal_contamination, n=135 (1.094%)\n",
      "Class=pill-faulty_imprint, n=161 (1.305%)\n",
      "Class=capsule-faulty_imprint, n=131 (1.062%)\n",
      "Class=metal_nut-bent, n=160 (1.297%)\n",
      "Class=screw-manipulated_front, n=148 (1.200%)\n",
      "Class=screw-scratch_neck, n=140 (1.135%)\n",
      "Class=pill-crack, n=133 (1.078%)\n",
      "Class=screw-thread_top, n=143 (1.159%)\n",
      "Class=leather-glue, n=143 (1.159%)\n",
      "Class=bottle-broken_small, n=145 (1.175%)\n",
      "Class=cable-missing_cable, n=127 (1.029%)\n",
      "Class=screw-scratch_head, n=132 (1.070%)\n",
      "Class=zipper-combined, n=119 (0.964%)\n",
      "Class=cable-cable_swap, n=137 (1.110%)\n",
      "Class=leather-color, n=132 (1.070%)\n",
      "Class=tile-rough, n=137 (1.110%)\n",
      "Class=wood-liquid, n=153 (1.240%)\n",
      "Class=wood-combined, n=130 (1.054%)\n",
      "Class=transistor-bent_lead, n=176 (1.426%)\n",
      "Class=leather-cut, n=135 (1.094%)\n",
      "Class=hazelnut-print, n=139 (1.127%)\n",
      "Class=grid-glue, n=131 (1.062%)\n",
      "Class=transistor-cut_lead, n=149 (1.208%)\n",
      "Class=zipper-fabric_border, n=158 (1.281%)\n",
      "Class=grid-broken, n=146 (1.183%)\n",
      "Class=cable-missing_wire, n=163 (1.321%)\n",
      "Class=cable-poke_insulation, n=132 (1.070%)\n",
      "Class=wood-color, n=135 (1.094%)\n",
      "Class=wood-hole, n=136 (1.102%)\n"
     ]
    },
    {
     "data": {
      "image/png": "[encoded data removed]",
      "text/plain": [
       "<Figure size 432x288 with 1 Axes>"
      ]
     },
     "metadata": {
      "needs_background": "light"
     },
     "output_type": "display_data"
    },
    {
     "name": "stdout",
     "output_type": "stream",
     "text": [
      "oversampling 해야 하는 개수:  [126, 134, 113, -63, 142, 131, 151, 119, 147, -90, 121, 158, 127, 123, 120, -96, 127, 110, 136, 153, 162, -153, 130, 141, 126, 119, 140, 125, -130, 129, 128, 118, 133, -256, 129, 130, 122, 125, 141, 133, -112, 133, 147, 124, 144, -79, 106, 126, 126, 135, 120, 151, -128, 120, 133, -180, 136, 120, 127, 132, 131, 136, 135, -103, 133, 136, 129, 126, 80, 171, 144, 135, -81, 109, 131, 124, -89, 131, 148, 137, 131, 111, 149, 136, -114, 150, 143, 130]\n",
      "total num :  88\n",
      "[11143, 13456, 10260, 11828, 10839, 10712, 12253] 7\n",
      "[11264.97285138489, 12290.52515138731, 10243.580897036383, 10759.163177189594, 10247.853399127822, 10247.84135267961, 10764.969358999228, 10766.083106678348, 10257.89597311009, 13329.202536619705, 12307.876526436854, 13339.519857741434, 10782.013370416716, 10784.36311777823, 10787.599064514929, 10790.670323403605, 10281.90600428433, 10793.56066898041, 10795.834741308801, 10798.630586251804, 13362.72759668194, 10802.57802582391, 10804.269325018735, 11829.625902808593, 12345.50292006974, 10809.597150041482, 11843.114624791957, 12870.9854956782, 11335.23011435957, 10830.11389929126, 10320.049142677055, 10835.190565729492, 11862.425601081284, 10842.924754716478, 10843.62253949045, 11869.124089352734, 10848.985212872587, 11879.671928929993, 10855.0188438211, 10859.516266828572, 11885.468387763221, 10862.356889416717, 11889.824112630302, 11890.886371013296, 10868.742555287601, 11896.214992129664, 10874.18430415004, 10881.692458852534, 10885.48222094069, 10887.187429076997, 10888.439535114965, 12936.538154543798, 10889.947361151884, 10891.709204095967, 10382.091423705559, 11406.410911029876, 11919.22635898803, 11921.641101723433, 10899.25911006313, 10901.81643733398, 10904.04702792427, 10912.810852470757, 12971.657899515909, 10925.795630964842, 10925.89057367451, 11951.58396280264, 11973.056163551488, 11979.400478979771, 11984.391751519775, 11985.647816289842, 11473.092208767895, 11985.315110827709, 11989.60960772143, 11997.459383268757, 11490.190317825414, 10988.108123254606, 12014.227969467775, 10991.584309161282, 10487.973779680278, 12038.28611184248, 12053.18307095594, 12070.293704045216, 11047.487820471779, 12075.570497384262, 11052.471593984279, 12590.205186994961, 11061.718744803879, 12089.807739555292, 13120.368113407914, 11585.37843966214, 10564.218602946788, 10565.101593373514, 11084.995322585788, 11087.791381746376, 11088.08274750627, 12116.231280243592, 11095.555372104887, 11095.612406783834, 11095.052612118721, 11101.04832144838, 12639.259675105917, 12130.386929229446, 12132.349166129452, 12132.345135262123, 10600.100322772098, 10604.427711327797, 11130.12575975592, 11138.386810145683, 10627.270093087314, 11141.260719827464, 12178.596944537874, 12223.196959550452, 11716.303554480877, 12232.166732702965, 12234.822343299236, 11213.64408472865, 12240.105336030423, 12248.797719751889, 10713.362080944215, 10714.882340060989, 10205.666806022804, 11743.527633987042, 11748.967506885094, 10728.29274067695, 10738.162516692375, 10739.385120714904, 11764.362707186781, 10740.228876765226, 10742.227738436732, 10743.200793402335, 10229.171656534196, 10237.696321914877, 10750.745018952935] 133\n"
     ]
    },
    {
     "name": "stderr",
     "output_type": "stream",
     "text": [
      "1 : bottle-broken_large label's deleting process: 100%|████████████████████████████████| 7/7 [00:00<00:00, 3493.59it/s]\n"
     ]
    },
    {
     "name": "stdout",
     "output_type": "stream",
     "text": [
      "del:  ./data/train/11143.png\n",
      "del:  ./data/train/13456.png\n",
      "del:  ./data/train/10260.png\n",
      "del:  ./data/train/11828.png\n",
      "del:  ./data/train/10839.png\n",
      "del:  ./data/train/10712.png\n",
      "del:  ./data/train/12253.png\n"
     ]
    },
    {
     "name": "stderr",
     "output_type": "stream",
     "text": [
      "1 : bottle-broken_large label's augmentation process: 100%|██████████████████████████| 133/133 [00:38<00:00,  3.49it/s]\n"
     ]
    },
    {
     "name": "stdout",
     "output_type": "stream",
     "text": [
      "[11905, 10244, 10217, 10767, 11791, 13679, 12278, 14139] 8\n",
      "[10241.649398199412, 11778.815642912308, 10243.236025481427, 10243.922102252884, 10243.738926289096, 10243.26260299567, 11788.169600920835, 10765.705748955546, 11790.81510948481, 11788.915703425124, 11792.867745836487, 11793.874883420376, 11794.090474758217, 11794.500783254367, 11796.209270264326, 11795.01712094201, 11794.20975522117, 10263.480173783379, 11800.354438366996, 11801.832574303968, 11796.618730300495, 13343.41528051806, 11820.21238900712, 11824.12445666435, 11824.119904580602, 11830.832498134785, 11831.040224282264, 11835.494914797302, 11840.550071752188, 11842.572437744246, 11847.816646672092, 11848.034142190332, 13898.71677557465, 11855.536144627957, 11857.956485732728, 13908.83598887749, 12377.436363087365, 13913.134490015529, 11885.659906413202, 11888.686385892563, 12400.945777190263, 10353.379554021029, 11895.31599664987, 11897.990258428079, 11898.355235030098, 11901.359643379488, 11903.604895641352, 11904.785274469377, 11904.114870423758, 13444.574463302803, 13447.817255984495, 13457.587255994435, 11930.136977584554, 13980.537684691564, 13980.429372411496, 13484.511214043443, 10412.851738476043, 10418.80903709046, 13498.747954300432, 11964.616948606132, 14014.032600337483, 13504.70671090518, 13507.71799927534, 11463.500203362053, 14024.116073132682, 10444.387745374901, 10459.522484003533, 10460.733137922556, 12010.603173164489, 12025.225438895142, 11002.325805712057, 14074.676494818048, 11524.231376058615, 14101.30303068425, 10519.057005531096, 12077.882904926228, 13620.569746483481, 13622.814005543636, 10239.204546601393, 11591.50786987513, 11593.922548136345, 13129.064381000377, 10580.302314996226, 10585.785184298478, 13659.1456959033, 10589.686320179757, 11108.684977737157, 13668.349266320043, 13670.551182593577, 13672.13021186598, 11628.03334280847, 11628.630387711119, 11629.594881714633, 11636.598933233608, 12660.25604721013, 13693.40331391364, 11647.853231412417, 10631.29842731009, 11658.078554171403, 11663.344599541324, 11665.879756969382, 11672.781141898751, 13724.207420520544, 11676.237894107475, 11680.859492989743, 11683.561854420186, 11683.875855284985, 10664.809019763528, 11689.240167526745, 12203.86471503746, 10668.730125686996, 12212.731218640667, 11701.48389688008, 11702.243560386893, 11702.235424696399, 11705.757897114952, 11710.735445427732, 13759.884807690682, 10689.12919386002, 11792.196965999246, 12227.867045087974, 11717.113924737001, 11208.477713644912, 10702.488494869405, 12252.327623480764, 10718.765597393902, 11744.754370135208, 11750.056513228903, 11750.065982655731, 11752.361224538601, 10217.433575157318, 10733.048126062684, 11759.085245167667, 11760.90187329558, 11763.899691317576, 10228.204445667354, 10228.435112085976, 10231.578595793868, 10232.837431179149, 10236.39418430951, 11774.784870653999, 10239.158015804516] 142\n"
     ]
    },
    {
     "name": "stderr",
     "output_type": "stream",
     "text": [
      "2 : bottle-broken_small label's deleting process: 100%|████████████████████████████████| 8/8 [00:00<00:00, 4011.77it/s]\n"
     ]
    },
    {
     "name": "stdout",
     "output_type": "stream",
     "text": [
      "del:  ./data/train/11905.png\n",
      "del:  ./data/train/10244.png\n",
      "del:  ./data/train/10217.png\n",
      "del:  ./data/train/10767.png\n",
      "del:  ./data/train/11791.png\n",
      "del:  ./data/train/13679.png\n",
      "del:  ./data/train/12278.png\n",
      "del:  ./data/train/14139.png\n"
     ]
    },
    {
     "name": "stderr",
     "output_type": "stream",
     "text": [
      "2 : bottle-broken_small label's augmentation process: 100%|██████████████████████████| 142/142 [00:38<00:00,  3.73it/s]\n"
     ]
    },
    {
     "name": "stdout",
     "output_type": "stream",
     "text": [
      "[10759, 11273, 11763, 12276, 10837, 12757, 12787, 13112, 13462] 9\n",
      "[10761.26165749753, 12810.515355009999, 11275.481241983209, 11275.261211070636, 10763.884839803884, 11276.626874936861, 11279.79222234729, 10768.755220294452, 12816.641300005263, 10770.73081715181, 11282.905815897766, 11281.68439330846, 11280.858096043028, 10774.3051865567, 11287.62684873351, 12825.703363735774, 11290.442124045876, 11037.554467832915, 11295.283721141688, 11297.720296997506, 13089.311097484839, 12836.560415135478, 11303.057546344286, 10793.501142544455, 12586.368068632673, 13102.719330779759, 12849.207279736513, 13361.274668906382, 11058.143935882395, 10805.062686770623, 12088.220544250582, 12859.384628029886, 10811.601883902384, 13115.162303746234, 13121.072687376865, 12867.43755621626, 12870.501592170109, 10826.825444303266, 10826.979511779356, 11338.148759052798, 12877.707656016335, 10831.032172515648, 13395.111983372466, 11094.859917447058, 11351.688891906759, 12890.899873818327, 13150.26250470017, 12384.52799816035, 12385.644560036235, 13152.322172514403, 11620.416933457336, 11109.217637660711, 12390.22121922036, 10858.08398287547, 12538.234191896732, 11628.844758411693, 11373.411593535757, 11118.472636856372, 12913.51573607111, 12150.810788959081, 10872.819541258827, 11385.657658593656, 12921.111503961496, 12924.87644133634, 12414.108452134193, 12927.925908838228, 12929.2555155961, 12935.758558580603, 11400.64106187918, 10380.428537337004, 10893.977805710938, 11148.582382686982, 10637.500064973712, 11019.526376693077, 12433.616995008975, 10898.189051568283, 10899.810828630469, 10899.925679960792, 11152.305986141439, 10133.376207530271, 12693.937737171831, 11932.38135783187, 11169.322544884491, 11687.069320127495, 12968.697101451891, 11278.261075978224, 10410.252179972718, 11178.951887882038, 12973.269494528395, 12983.810560802494, 10171.276178617974, 11195.717115387612, 11710.861626433016, 13247.349292227782, 12737.407665176112, 12998.121622256105, 11463.252983586897, 11464.155708244318, 10953.568535844823, 13003.799255024618, 10956.911776024479, 11212.678227191982, 12558.841711161947, 12757.63899574357, 10966.947076309456, 12503.721258368327, 12757.472573197949, 11224.372573214023, 10972.52795574643, 12509.928579144655, 10973.706253032991, 12768.958767830434, 12768.977259566345, 12774.235835832076, 12779.370450236263, 12781.126730510461, 12781.099622848253, 12021.748804130473, 10999.404396756008, 13048.672797143656, 11257.18980011206, 12026.72430688565] 122\n"
     ]
    },
    {
     "name": "stderr",
     "output_type": "stream",
     "text": [
      "3 : bottle-contamination label's deleting process: 100%|███████████████████████████████| 9/9 [00:00<00:00, 3006.19it/s]\n"
     ]
    },
    {
     "name": "stdout",
     "output_type": "stream",
     "text": [
      "del:  ./data/train/10759.png\n",
      "del:  ./data/train/11273.png\n",
      "del:  ./data/train/11763.png\n",
      "del:  ./data/train/12276.png\n",
      "del:  ./data/train/10837.png\n",
      "del:  ./data/train/12757.png\n",
      "del:  ./data/train/12787.png\n",
      "del:  ./data/train/13112.png\n",
      "del:  ./data/train/13462.png\n"
     ]
    },
    {
     "name": "stderr",
     "output_type": "stream",
     "text": [
      "3 : bottle-contamination label's augmentation process: 100%|█████████████████████████| 122/122 [00:34<00:00,  3.50it/s]\n"
     ]
    },
    {
     "name": "stdout",
     "output_type": "stream",
     "text": [
      "[10248, 13834, 12817, 10772, 13334, 11799, 11804, 10784, 11815, 10792, 11310, 13872, 13874, 11323, 11837, 11840, 10308, 13893, 11338, 10827, 11352, 11866, 11885, 12910, 12401, 10355, 12404, 10875, 11389, 10375, 11912, 11401, 10382, 10385, 10898, 13458, 13969, 13976, 13466, 10401, 10913, 10916, 12965, 11949, 14002, 12982, 11961, 12988, 13506, 11973, 10447, 11989, 11990, 10968, 13529, 10458, 13531, 13541, 13032, 10991, 10482, 12020, 13561, 13059, 13063, 14089, 11018, 13581, 11023, 13588, 10520, 10524, 11559, 12584, 11051, 13100, 10542, 10552, 13113, 10566, 13126, 11083, 10060, 10574, 14158, 10581, 13152, 11629, 12655, 11647, 12671, 13696, 11140, 12676, 12171, 11664, 13714, 10645, 12185, 12187, 10653, 12193, 11170, 12706, 12196, 10159, 10674, 13241, 13758, 13763, 11716, 10701, 11728, 13268, 11734, 11735, 13271, 11741, 13286, 12786, 11252, 12277, 12281, 10751] 124\n",
      "[12929.58490304202, 13697.46571494482, 11267.498040909735, 10373.085802912386, 13561.848035513094, 13062.105624183328, 13577.056057967045, 10250.688218313247, 13578.818683867776, 11022.622577872065, 11022.046227206501, 10384.836594197872, 10257.065509823886, 13714.29491886181, 12690.831697706699, 11029.903423425287, 11672.321273997575, 10781.522459815691, 12574.734148605095, 13472.420662042608, 13985.231896523319, 12196.344002028323, 12581.132043588066, 10534.519466851987, 10792.547816229768, 12972.973127950252, 13873.974402671232, 12215.25473742203, 13113.477491718633, 11964.494656332441, 13116.113158729388, 13507.955914436847, 13764.652809086392, 10568.900482871279, 10057.785634193919, 11598.197163243467, 11897.367190094008, 10195.416124349833, 12373.861016756777, 11733.187080534708, 11734.496484968111, 13269.872650684403, 14169.619509776476, 10458.054922909445, 13535.39212817075, 12768.522128163446, 13537.66995219917, 11875.591967927685, 10468.68921872747, 13285.447058078158, 12391.870138545997, 12156.741656328282, 12909.487028807098, 11630.361844007546, 14063.602221598414, 10872.7089409483, 11897.325978796734, 12154.336801940079, 10364.223732313909, 10365.15954686572, 12670.228647779299] 61\n"
     ]
    },
    {
     "name": "stderr",
     "output_type": "stream",
     "text": [
      "4 : bottle-good label's deleting process: 100%|████████████████████████████████████| 124/124 [00:00<00:00, 4440.43it/s]\n"
     ]
    },
    {
     "name": "stdout",
     "output_type": "stream",
     "text": [
      "del:  ./data/train/10248.png\n",
      "del:  ./data/train/13834.png\n",
      "del:  ./data/train/12817.png\n",
      "del:  ./data/train/10772.png\n",
      "del:  ./data/train/13334.png\n",
      "del:  ./data/train/11799.png\n",
      "del:  ./data/train/11804.png\n",
      "del:  ./data/train/10784.png\n",
      "del:  ./data/train/11815.png\n",
      "del:  ./data/train/10792.png\n",
      "del:  ./data/train/11310.png\n",
      "del:  ./data/train/13872.png\n",
      "del:  ./data/train/13874.png\n",
      "del:  ./data/train/11323.png\n",
      "del:  ./data/train/11837.png\n",
      "del:  ./data/train/11840.png\n",
      "del:  ./data/train/10308.png\n",
      "del:  ./data/train/13893.png\n",
      "del:  ./data/train/11338.png\n",
      "del:  ./data/train/10827.png\n",
      "del:  ./data/train/11352.png\n",
      "del:  ./data/train/11866.png\n",
      "del:  ./data/train/11885.png\n",
      "del:  ./data/train/12910.png\n",
      "del:  ./data/train/12401.png\n",
      "del:  ./data/train/10355.png\n",
      "del:  ./data/train/12404.png\n",
      "del:  ./data/train/10875.png\n",
      "del:  ./data/train/11389.png\n",
      "del:  ./data/train/10375.png\n",
      "del:  ./data/train/11912.png\n",
      "del:  ./data/train/11401.png\n",
      "del:  ./data/train/10382.png\n",
      "del:  ./data/train/10385.png\n",
      "del:  ./data/train/10898.png\n",
      "del:  ./data/train/13458.png\n",
      "del:  ./data/train/13969.png\n",
      "del:  ./data/train/13976.png\n",
      "del:  ./data/train/13466.png\n",
      "del:  ./data/train/10401.png\n",
      "del:  ./data/train/10913.png\n",
      "del:  ./data/train/10916.png\n",
      "del:  ./data/train/12965.png\n",
      "del:  ./data/train/11949.png\n",
      "del:  ./data/train/14002.png\n",
      "del:  ./data/train/12982.png\n",
      "del:  ./data/train/11961.png\n",
      "del:  ./data/train/12988.png\n",
      "del:  ./data/train/13506.png\n",
      "del:  ./data/train/11973.png\n",
      "del:  ./data/train/10447.png\n",
      "del:  ./data/train/11989.png\n",
      "del:  ./data/train/11990.png\n",
      "del:  ./data/train/10968.png\n",
      "del:  ./data/train/13529.png\n",
      "del:  ./data/train/10458.png\n",
      "del:  ./data/train/13531.png\n",
      "del:  ./data/train/13541.png\n",
      "del:  ./data/train/13032.png\n",
      "del:  ./data/train/10991.png\n",
      "del:  ./data/train/10482.png\n",
      "del:  ./data/train/12020.png\n",
      "del:  ./data/train/13561.png\n",
      "del:  ./data/train/13059.png\n",
      "del:  ./data/train/13063.png\n",
      "del:  ./data/train/14089.png\n",
      "del:  ./data/train/11018.png\n",
      "del:  ./data/train/13581.png\n",
      "del:  ./data/train/11023.png\n",
      "del:  ./data/train/13588.png\n",
      "del:  ./data/train/10520.png\n",
      "del:  ./data/train/10524.png\n",
      "del:  ./data/train/11559.png\n",
      "del:  ./data/train/12584.png\n",
      "del:  ./data/train/11051.png\n",
      "del:  ./data/train/13100.png\n",
      "del:  ./data/train/10542.png\n",
      "del:  ./data/train/10552.png\n",
      "del:  ./data/train/13113.png\n",
      "del:  ./data/train/10566.png\n",
      "del:  ./data/train/13126.png\n",
      "del:  ./data/train/11083.png\n",
      "del:  ./data/train/10060.png\n",
      "del:  ./data/train/10574.png\n",
      "del:  ./data/train/14158.png\n",
      "del:  ./data/train/10581.png\n",
      "del:  ./data/train/13152.png\n",
      "del:  ./data/train/11629.png\n",
      "del:  ./data/train/12655.png\n",
      "del:  ./data/train/11647.png\n",
      "del:  ./data/train/12671.png\n",
      "del:  ./data/train/13696.png\n",
      "del:  ./data/train/11140.png\n",
      "del:  ./data/train/12676.png\n",
      "del:  ./data/train/12171.png\n",
      "del:  ./data/train/11664.png\n",
      "del:  ./data/train/13714.png\n",
      "del:  ./data/train/10645.png\n",
      "del:  ./data/train/12185.png\n",
      "del:  ./data/train/12187.png\n",
      "del:  ./data/train/10653.png\n",
      "del:  ./data/train/12193.png\n",
      "del:  ./data/train/11170.png\n",
      "del:  ./data/train/12706.png\n",
      "del:  ./data/train/12196.png\n",
      "del:  ./data/train/10159.png\n",
      "del:  ./data/train/10674.png\n",
      "del:  ./data/train/13241.png\n",
      "del:  ./data/train/13758.png\n",
      "del:  ./data/train/13763.png\n",
      "del:  ./data/train/11716.png\n",
      "del:  ./data/train/10701.png\n",
      "del:  ./data/train/11728.png\n",
      "del:  ./data/train/13268.png\n",
      "del:  ./data/train/11734.png\n",
      "del:  ./data/train/11735.png\n",
      "del:  ./data/train/13271.png\n",
      "del:  ./data/train/11741.png\n",
      "del:  ./data/train/13286.png\n",
      "del:  ./data/train/12786.png\n",
      "del:  ./data/train/11252.png\n",
      "del:  ./data/train/12277.png\n",
      "del:  ./data/train/12281.png\n",
      "del:  ./data/train/10751.png\n"
     ]
    },
    {
     "name": "stderr",
     "output_type": "stream",
     "text": [
      "4 : bottle-good label's augmentation process: 100%|████████████████████████████████████| 61/61 [00:16<00:00,  3.59it/s]\n"
     ]
    },
    {
     "name": "stdout",
     "output_type": "stream",
     "text": [
      "[11552, 13795, 11086, 11599] 4\n",
      "[10760.498360805947, 11788.777234890284, 10281.23967161123, 13357.561745867259, 13357.246503751041, 10806.532150501198, 13369.187712156514, 11330.08441087155, 11334.18387637487, 11334.785362848952, 13391.777739196606, 11868.81805955101, 11365.596204961575, 13414.1272997865, 11371.156692355933, 13420.963849650287, 11379.069910361575, 11380.070786454608, 11384.268060751778, 13435.52553533374, 11393.395083031637, 11397.081777074403, 10888.706416270446, 11403.015600151277, 13453.710132160992, 13453.096312003838, 13458.024424084335, 11928.201975268701, 12440.316900070755, 13467.65054547792, 11426.404379738498, 13476.70992376606, 13477.301937913653, 10412.205041770383, 13495.519100036421, 13495.847448034188, 10940.25700194624, 13512.91005539491, 11465.92860233747, 13007.040905692129, 11474.923241193934, 13523.614965268118, 11477.62028403456, 13530.907637932953, 11483.523610439675, 11483.50830487466, 13537.630966556895, 11499.748653215509, 11499.661781236206, 13549.957454261377, 12523.299917911361, 11506.61984640681, 10494.946917409296, 11521.658145896656, 11521.620567124335, 11521.213645688966, 13064.338755812709, 13590.92078037781, 10014.44393757417, 11554.508471195328, 11043.901769912605, 11557.336592245556, 12584.096802398242, 11562.374160783143, 11564.339755929204, 11568.704701188526, 11569.103117460345, 11570.433071052033, 11571.794291756942, 11578.425122651674, 13114.18424186343, 11578.173676709104, 11582.042889662349, 12606.827622768642, 13630.072280563378, 10563.959209746472, 11590.886961282837, 11590.938015571368, 11592.48795538806, 10568.673178785102, 11593.330563787842, 11595.47047853543, 13656.220390925379, 11612.934301324287, 11116.027795305317, 10092.869100951153, 13678.847454909632, 11635.400737630625, 11124.160476154328, 10614.694049759582, 13688.069018246448, 13183.497290408584, 10113.535331761115, 11653.802196390683, 13706.76068223481, 11147.225524075766, 13195.640932617236, 10638.779025761945, 11159.07650248173, 13721.924839889349, 13211.48800864228, 13213.290987886508, 13214.070763930154, 13213.690565766616, 13214.753315957196, 13212.679831720032, 13211.8104882677, 13211.008621917525, 13211.808017157586, 13211.713230077667, 13214.642605411365, 13219.31750677078, 13212.725952983204, 13212.463932320501, 13212.665071727346, 13211.122319355929, 13211.80162769729, 13213.46828277923, 13213.198041663338, 13213.567714738212, 13213.930845040575, 13213.272213542004, 13214.337252381987, 13214.036952533772, 13723.823465133411, 10678.32551280563, 13213.043733463435, 13237.477323809297, 10172.962810353003, 13246.656099651082, 13758.463057621311, 11713.805764980494, 13263.566759658643, 10192.499420530057, 13265.16364509075, 10707.659867586002, 13269.174220837911, 11223.936480115926, 13273.379726922138, 11227.050425540612, 11745.75010143696, 10215.48674039142, 10218.451118825968, 10735.44647214828, 10224.452161970125, 11768.436271478658] 146\n"
     ]
    },
    {
     "name": "stderr",
     "output_type": "stream",
     "text": [
      "5 : cable-bent_wire label's deleting process: 100%|████████████████████████████████████| 4/4 [00:00<00:00, 4013.69it/s]\n"
     ]
    },
    {
     "name": "stdout",
     "output_type": "stream",
     "text": [
      "del:  ./data/train/11552.png\n",
      "del:  ./data/train/13795.png\n",
      "del:  ./data/train/11086.png\n",
      "del:  ./data/train/11599.png\n"
     ]
    },
    {
     "name": "stderr",
     "output_type": "stream",
     "text": [
      "5 : cable-bent_wire label's augmentation process: 100%|██████████████████████████████| 146/146 [01:18<00:00,  1.87it/s]\n"
     ]
    },
    {
     "name": "stdout",
     "output_type": "stream",
     "text": [
      "[11168] 1\n",
      "[11780.954639515883, 11781.40061667933, 12805.108043840713, 11784.583342720376, 11786.953993681986, 12810.087567502751, 13332.435107165717, 13332.435917556257, 13334.946470989582, 11798.19883854765, 12312.076049430032, 11288.802951189575, 12314.423024641332, 13851.47857813084, 11801.308482368224, 12826.522670369013, 11798.081890421434, 13855.173377592419, 11808.285307360595, 11802.844021299223, 11810.128202651382, 11299.50611670279, 11304.523106485265, 13868.206889027762, 11822.332538991446, 11827.605790417465, 11828.23532165806, 12854.217179441952, 11829.418827960042, 11321.466070724035, 12347.461690201806, 11841.62556710466, 12866.529371001341, 11841.59206343387, 12871.123055908773, 11847.934076409345, 13386.426774236086, 11341.509595572574, 11854.345047770797, 11854.417913282976, 12884.057237560355, 12373.35318696116, 13402.826038762354, 13916.868596011427, 12894.62700829555, 11365.80756660424, 12901.377282421889, 12905.182211949288, 11886.645069053407, 11376.102256578159, 12914.123833612584, 12914.725545500833, 13426.371105840935, 13435.131745057603, 13435.465812276347, 12928.912643804375, 12929.679712604317, 11395.75116764781, 12934.07193720089, 11912.039052888189, 11914.648283103315, 11915.785685706614, 13453.936382116612, 11408.557908073884, 12945.960611855826, 12946.59289342993, 12437.652345846858, 12955.900175500765, 11420.41575446122, 12956.509797783041, 12958.631351951848, 12959.896092408713, 11439.49084706331, 11952.138073232207, 11441.19921358371, 13496.036055026936, 12994.236179332216, 13507.15765421085, 11458.888912584865, 11974.570692843914, 11975.847704052712, 11988.596490583877, 12500.804464243756, 13018.928342735406, 12517.375177057549, 11498.226606062099, 12013.67379875406, 12557.200269286852, 13071.299494931482, 13088.29468803767, 11557.109323081771, 13608.237928127195, 12604.203080456167, 11582.780188803234, 12097.515292157768, 12611.14593241686, 13635.737856772726, 11589.223613681554, 12102.780483657192, 13128.800863881646, 12105.124014176548, 13133.94500766133, 13141.67503283069, 12653.973521395474, 11638.38722002531, 13204.493773071792, 13725.032368900687, 12703.471772865327, 13216.164662559506, 12197.734994832868, 11180.555003801488, 13232.665102517769, 12721.910342100078, 11187.254200502386, 11192.142937671095, 13251.74920989059, 12231.63265460429, 13263.939453027686, 11217.853338682087, 11735.317996080315, 11735.347404764294, 11741.862625440866, 13282.037601357508, 11243.087611392768, 11244.537570489616, 11761.035796334914, 11762.043317745218, 11761.032175137518, 12786.799525587112, 13298.735633596485, 11766.311311614652, 11775.96492186832] 132\n"
     ]
    },
    {
     "name": "stderr",
     "output_type": "stream",
     "text": [
      "6 : cable-cable_swap label's deleting process: 100%|████████████████████████████████████| 1/1 [00:00<00:00, 998.17it/s]\n"
     ]
    },
    {
     "name": "stdout",
     "output_type": "stream",
     "text": [
      "del:  ./data/train/11168.png\n"
     ]
    },
    {
     "name": "stderr",
     "output_type": "stream",
     "text": [
      "6 : cable-cable_swap label's augmentation process: 100%|█████████████████████████████| 132/132 [01:10<00:00,  1.86it/s]\n"
     ]
    },
    {
     "name": "stdout",
     "output_type": "stream",
     "text": [
      "[12711, 14251, 12942, 13208, 11993] 5\n",
      "[11268.556981324082, 12295.597643369165, 12316.76535016404, 12836.17278823946, 12837.62835593738, 12333.071135894608, 12333.56804616774, 13360.821310498726, 11320.630064561261, 12860.588568244886, 11328.910237249669, 12865.372824659358, 12864.234303438745, 12868.673465367416, 12870.345279235731, 12875.38048320092, 12369.196550183324, 12885.822099847925, 11350.048938995615, 12375.720449364178, 12895.279187780172, 12896.633552295189, 11875.727034621386, 13412.951895115028, 13414.37882155757, 12902.39669145552, 12916.600863289312, 12917.105786351816, 12919.79083673571, 12922.052353908563, 10874.297815631897, 12922.62509843482, 12930.708191415873, 12420.984998507663, 12934.686188982529, 12934.264738528229, 13960.726489180219, 12936.191969353109, 12937.131636023152, 12942.890123085446, 13456.03875048944, 13456.852908993098, 13975.287633690974, 12955.682936728088, 13979.449878593054, 13989.734752413317, 12965.098626622712, 13991.54692945984, 12970.66955412332, 13484.685366770293, 14008.070102439971, 12986.67649063531, 12477.625757304706, 11454.162549700719, 12990.70413507518, 12992.733069186956, 14017.430627008835, 12995.094240105156, 11974.184516394316, 12999.253748990284, 13001.736016727755, 11985.134701158575, 12499.633721047121, 12499.353909602607, 13015.616136900406, 12508.08660408359, 13024.197689730421, 13024.166166478259, 12003.857822056636, 14052.908004549208, 13029.911825965419, 13031.57310444288, 14056.411403509133, 13035.75635323711, 11500.539935413302, 13038.558681211494, 13040.334967657252, 13046.535444267278, 12028.366386867438, 14083.147906896262, 14090.247345767819, 12560.16930352575, 13586.146725984669, 12564.04385841498, 12053.56927660674, 13078.924970584038, 12566.531255509875, 12567.183889931226, 13082.792825146054, 12059.352413341643, 13084.873662296206, 13596.75793191644, 13086.568667197174, 12583.449505795774, 12072.68185620296, 12075.736480449648, 14125.355007881073, 12590.503689998035, 12083.436098951144, 11066.367257488162, 12092.69118725835, 12618.442197366947, 13643.45194061092, 13130.451960025488, 12109.749606569449, 12624.3160678431, 12114.52440954004, 13651.829800656056, 12629.373052662686, 12117.361092521183, 12630.357339689388, 13155.811522554155, 14183.551060706648, 13162.31372082196, 12650.804292346336, 12661.14624544202, 13174.25022422157, 13175.370499778772, 13176.683072490838, 13178.02438849073, 12168.465133241198, 12168.444246771563, 13197.558850248775, 11662.370400503494, 12696.639073709493, 14234.302539351085, 13212.284171907848, 12701.969009993389, 12196.232894333516, 12198.671585236627, 12711.814205165398, 13734.276370382488, 12204.949184082168, 12723.620396418835, 13237.721154053745, 12726.847068955167, 12728.402743733863, 12728.49070778939, 12735.145612100438, 13248.669880376434, 11714.686985656757, 12231.342674750653, 13767.308251421146, 13256.086416826589, 12752.782599973285, 10713.672727512321, 12252.177535654437, 12765.190726049375, 12767.603283484788, 11233.263722040028, 12261.737548794259, 12266.165670212133, 12782.227019157726, 12784.870674775397, 12275.484156354798, 12796.663688644854] 156\n"
     ]
    },
    {
     "name": "stderr",
     "output_type": "stream",
     "text": [
      "7 : cable-combined label's deleting process: 100%|█████████████████████████████████████| 5/5 [00:00<00:00, 2510.66it/s]\n"
     ]
    },
    {
     "name": "stdout",
     "output_type": "stream",
     "text": [
      "del:  ./data/train/12711.png\n",
      "del:  ./data/train/14251.png\n",
      "del:  ./data/train/12942.png\n",
      "del:  ./data/train/13208.png\n",
      "del:  ./data/train/11993.png\n"
     ]
    },
    {
     "name": "stderr",
     "output_type": "stream",
     "text": [
      "7 : cable-combined label's augmentation process: 100%|███████████████████████████████| 156/156 [01:26<00:00,  1.80it/s]\n"
     ]
    },
    {
     "name": "stdout",
     "output_type": "stream",
     "text": [
      "[10891, 11215, 12372, 13013, 10239] 5\n",
      "[10499.727965866656, 13828.580443658062, 12550.228240091596, 10765.833576990619, 12814.744625753283, 11789.370417581305, 11023.772266434786, 11024.894006190787, 13336.015840360911, 12059.928343316153, 10780.348226521624, 12062.440897991339, 12575.453672679061, 11039.186991343533, 11043.257968903134, 10788.592618361768, 13349.516366462265, 10789.404842494565, 10795.965583808049, 11051.912200884568, 11056.279906825448, 12593.46222992611, 13620.975329441577, 10549.91818407646, 12088.503852817577, 10810.557532743016, 10812.756142932334, 10812.656273688986, 10813.495470994765, 10813.457531771626, 13630.286987584537, 10818.777378258825, 10307.914785339754, 10820.762253580553, 10818.743322275917, 13381.977398177092, 10823.136961472143, 13638.199076649002, 11080.008734705058, 10828.303871831096, 10572.624441361266, 10830.417737085525, 11085.944870483101, 11598.077565814003, 12623.27599232038, 10834.394942053177, 11098.891791438875, 10843.14290315844, 10845.213336127352, 11869.689914174895, 10846.459099266893, 10846.472463084752, 10338.65934817121, 10339.15868929974, 10338.65540249866, 12134.674253512745, 10855.12952384085, 10856.423203611395, 10855.697659123041, 13418.923190870499, 10858.404369709102, 10348.471915544884, 11120.4296113271, 11121.208836835953, 11379.181339035937, 10867.115353545185, 10611.52026248213, 12406.588979819815, 10870.127167238308, 12408.257214836893, 13433.179733815066, 10615.993626797783, 13691.842219624514, 13949.585252068811, 10365.56093290095, 11140.952980639328, 11140.680643168404, 13190.805933642441, 10887.40152271015, 11143.614258616857, 12175.590844540367, 11154.599793477764, 10656.12261975557, 12961.179218656764, 12962.238756428533, 12451.558647325626, 12451.719853495058, 10402.842760267391, 10918.487018650481, 10665.828672637144, 12713.635216888231, 12974.411458766914, 12463.26784768156, 10673.430677608798, 10418.953626092392, 10420.52593282566, 13493.281885391589, 10941.640276529028, 12478.73861361802, 10942.645920018063, 13504.907441615485, 11199.621995156285, 11460.275441080163, 12743.60481938837, 10697.734855366014, 10700.473509447653, 10960.575196524976, 11988.891113341637, 12756.419046562301, 12246.819339056452, 10718.100918182714, 10463.360822731227, 10982.159214886935, 10726.468705116482, 10728.544844741602, 11241.92994295028, 10986.826041664153, 10988.896414293624, 10990.86110348437, 10737.225128658787, 11508.28226858953, 12791.656494764566, 10491.824086587178, 11005.251580621036] 124\n"
     ]
    },
    {
     "name": "stderr",
     "output_type": "stream",
     "text": [
      "8 : cable-cut_inner_insulation label's deleting process: 100%|█████████████████████████| 5/5 [00:00<00:00, 2507.06it/s]\n"
     ]
    },
    {
     "name": "stdout",
     "output_type": "stream",
     "text": [
      "del:  ./data/train/10891.png\n",
      "del:  ./data/train/11215.png\n",
      "del:  ./data/train/12372.png\n",
      "del:  ./data/train/13013.png\n",
      "del:  ./data/train/10239.png\n"
     ]
    },
    {
     "name": "stderr",
     "output_type": "stream",
     "text": [
      "8 : cable-cut_inner_insulation label's augmentation process: 100%|███████████████████| 124/124 [01:08<00:00,  1.81it/s]\n"
     ]
    },
    {
     "name": "stdout",
     "output_type": "stream",
     "text": [
      "[10249] 1\n",
      "[10240.3710288225, 10240.555835348452, 10242.149065598765, 10243.30146352944, 10244.504204818882, 10242.190775580686, 10246.220587864498, 10247.808917580345, 10248.485465391237, 10247.620864059629, 10248.803062071667, 10245.07040179814, 10755.896986253863, 10245.267753765263, 10245.193137179233, 10246.178903777602, 10247.765652461852, 11281.323531628002, 11282.635172163622, 10254.155939503264, 11796.714017710743, 10265.059083351662, 11802.539567738455, 10780.901441297781, 10272.417262383204, 11811.663866629398, 12841.28114199189, 12330.170147644521, 11308.755709078496, 13361.680758533541, 10292.51918600138, 10810.135514660087, 10300.991941124292, 12860.21649010074, 11841.48372281743, 11843.01437726342, 11332.334752494327, 13381.229259845535, 11846.686478638743, 10313.486278551585, 12875.577931735135, 12876.090532352358, 10832.616874410753, 10838.799889265722, 11862.591947226563, 11354.906037357769, 10852.863694893858, 11365.510660405858, 10344.476517176505, 12907.650537583555, 10353.483131183142, 11382.477657604562, 10359.587263702211, 12932.882140051403, 10886.058838320298, 10394.738843745083, 10399.584773147506, 12456.381512885617, 11433.06648298563, 10933.82783442608, 14010.306043897977, 10940.179700057546, 10429.619976878834, 10951.760116804682, 13001.453692463996, 10960.45592508942, 11473.257559559353, 11474.591813788611, 12505.224177839224, 14043.075449556201, 12000.769578888228, 12001.41602765594, 11494.1410227909, 10474.196794212232, 11507.687608577999, 11000.455761817453, 11003.34916567069, 11523.730269601587, 10511.165706609232, 10514.49233027014, 12051.867396640202, 12574.34831117591, 11042.5958439948, 10234.300339816857, 11557.846022688407, 12067.26368225841, 10235.746320161217, 10235.517925982364, 10236.510610882118, 12591.415704722142, 10237.199453801035, 10239.436164588522, 10239.426591887035, 10558.474675369838, 13118.71539096504, 10240.604657248541, 10240.610694478708, 11076.503178048042, 11077.74570844957, 11592.045299430769, 11081.474878723011, 12109.083665536718, 10752.497579714454, 11092.952666860672, 10244.60442143182, 12120.84651464764, 10245.475523865254, 10245.336890266104, 11612.66661080008, 10754.482275336122, 10245.22337257753, 10596.762232276435, 10248.62450488276, 11626.736633135264, 11627.69176817335, 10606.246713557795, 11633.65578636358, 13175.94021728936, 12152.217326822345, 10618.282032286008, 11133.549478560088, 12157.35451139332, 13193.073033856155, 12174.813946833248, 10640.91511151461, 10644.741155805325, 13725.118240294561, 12196.888632349886, 11698.152196149025, 11193.805278864971, 12220.402527463082, 10691.539471285685, 13255.779896326156, 10702.285014068237, 11215.762094240623, 11726.394769022783, 11736.926216822802, 10715.772956121125, 11229.151354556287, 12257.602435746227, 11250.224261420693, 11763.602026296867, 10234.850041624195, 10235.651778823623, 10236.52618173746, 10237.899032233494, 10238.863793599789, 10239.942452200969] 148\n"
     ]
    },
    {
     "name": "stderr",
     "output_type": "stream",
     "text": [
      "9 : cable-cut_outer_insulation label's deleting process: 100%|█████████████████████████| 1/1 [00:00<00:00, 1001.74it/s]\n"
     ]
    },
    {
     "name": "stdout",
     "output_type": "stream",
     "text": [
      "del:  ./data/train/10249.png\n"
     ]
    },
    {
     "name": "stderr",
     "output_type": "stream",
     "text": [
      "9 : cable-cut_outer_insulation label's augmentation process: 100%|███████████████████| 148/148 [01:18<00:00,  1.88it/s]\n"
     ]
    },
    {
     "name": "stdout",
     "output_type": "stream",
     "text": [
      "[13828, 13320, 10761, 13832, 12815, 11794, 12315, 13344, 11809, 13856, 10278, 10280, 12333, 10817, 12872, 10833, 12881, 10836, 13397, 12890, 10335, 11360, 12385, 11877, 11366, 12390, 12392, 13415, 13418, 10862, 10873, 12933, 12939, 11404, 13964, 13968, 12437, 13465, 10911, 11429, 11432, 10409, 13487, 10932, 10421, 13492, 10424, 10438, 10442, 13010, 10963, 13525, 13016, 10969, 12505, 13530, 14040, 11493, 10472, 13036, 14063, 13040, 12536, 11513, 10491, 12542, 11008, 12544, 13568, 13572, 11016, 13069, 13582, 14094, 13079, 14104, 10232, 10522, 13596, 10014, 12070, 10535, 12072, 11566, 12080, 13621, 10038, 10039, 10550, 12598, 11072, 12609, 13644, 13646, 11092, 14164, 14172, 12643, 11621, 13158, 11115, 12141, 10606, 10610, 13682, 14207, 14212, 11653, 12678, 13702, 10633, 10636, 13708, 12175, 10646, 14238, 14241, 10147, 11688, 13225, 12202, 10158, 10162, 10163, 10171, 12731, 12735, 11717, 13765, 13257, 12234, 13260, 12751, 11228, 10205, 12765, 13791, 10208, 11751, 12263, 12266, 13805, 12271, 11760, 13808, 13816, 12793, 13818, 13822] 149\n",
      "[13826.564171831915, 13816.685458731896, 11787.56478700813, 12300.157292402144, 13579.937120232034, 11019.153968732986, 11791.418379829069, 11407.38338441417, 13579.86732882859, 10642.56522111023, 10643.963705295975, 12308.558182618443, 10646.689655660652, 10646.400994392518, 10647.287767252836, 10522.394357508681, 13339.875757787217, 10529.500441653257, 13604.37882713918, 12453.788379027395, 10533.266027940728, 13991.145802576462, 10280.614951369882, 10535.137538256293, 13224.91048609695, 10159.708303998574, 10032.49327949892, 10163.120547432083, 13492.210720474566, 10037.525704374764, 12470.194000406955, 10038.156904313566, 10427.2864730814, 12603.247928735742, 12489.872252329887, 10318.80821863541, 11086.35680301052, 11087.001365806338, 12755.393944461046, 14170.5667050263, 12891.787618915692, 13276.287275579227, 10845.110874333797, 10974.136643267182, 13534.051168423559, 11229.241305676682, 11231.088085349136, 11362.25831975029, 11740.721771969545, 11236.814096269954, 10725.532861435438, 12393.369844634384, 13162.729165595643, 10608.977677853822, 12532.026986085477, 12791.229347773282, 13816.816357731064, 11002.701979193382, 10620.443951102015] 59\n"
     ]
    },
    {
     "name": "stderr",
     "output_type": "stream",
     "text": [
      "10 : cable-good label's deleting process: 100%|████████████████████████████████████| 149/149 [00:00<00:00, 3157.36it/s]\n"
     ]
    },
    {
     "name": "stdout",
     "output_type": "stream",
     "text": [
      "del:  ./data/train/13828.png\n",
      "del:  ./data/train/13320.png\n",
      "del:  ./data/train/10761.png\n",
      "del:  ./data/train/13832.png\n",
      "del:  ./data/train/12815.png\n",
      "del:  ./data/train/11794.png\n",
      "del:  ./data/train/12315.png\n",
      "del:  ./data/train/13344.png\n",
      "del:  ./data/train/11809.png\n",
      "del:  ./data/train/13856.png\n",
      "del:  ./data/train/10278.png\n",
      "del:  ./data/train/10280.png\n",
      "del:  ./data/train/12333.png\n",
      "del:  ./data/train/10817.png\n",
      "del:  ./data/train/12872.png\n",
      "del:  ./data/train/10833.png\n",
      "del:  ./data/train/12881.png\n",
      "del:  ./data/train/10836.png\n",
      "del:  ./data/train/13397.png\n",
      "del:  ./data/train/12890.png\n",
      "del:  ./data/train/10335.png\n",
      "del:  ./data/train/11360.png\n",
      "del:  ./data/train/12385.png\n",
      "del:  ./data/train/11877.png\n",
      "del:  ./data/train/11366.png\n",
      "del:  ./data/train/12390.png\n",
      "del:  ./data/train/12392.png\n",
      "del:  ./data/train/13415.png\n",
      "del:  ./data/train/13418.png\n",
      "del:  ./data/train/10862.png\n",
      "del:  ./data/train/10873.png\n",
      "del:  ./data/train/12933.png\n",
      "del:  ./data/train/12939.png\n",
      "del:  ./data/train/11404.png\n",
      "del:  ./data/train/13964.png\n",
      "del:  ./data/train/13968.png\n",
      "del:  ./data/train/12437.png\n",
      "del:  ./data/train/13465.png\n",
      "del:  ./data/train/10911.png\n",
      "del:  ./data/train/11429.png\n",
      "del:  ./data/train/11432.png\n",
      "del:  ./data/train/10409.png\n",
      "del:  ./data/train/13487.png\n",
      "del:  ./data/train/10932.png\n",
      "del:  ./data/train/10421.png\n",
      "del:  ./data/train/13492.png\n",
      "del:  ./data/train/10424.png\n",
      "del:  ./data/train/10438.png\n",
      "del:  ./data/train/10442.png\n",
      "del:  ./data/train/13010.png\n",
      "del:  ./data/train/10963.png\n",
      "del:  ./data/train/13525.png\n",
      "del:  ./data/train/13016.png\n",
      "del:  ./data/train/10969.png\n",
      "del:  ./data/train/12505.png\n",
      "del:  ./data/train/13530.png\n",
      "del:  ./data/train/14040.png\n",
      "del:  ./data/train/11493.png\n",
      "del:  ./data/train/10472.png\n",
      "del:  ./data/train/13036.png\n",
      "del:  ./data/train/14063.png\n",
      "del:  ./data/train/13040.png\n",
      "del:  ./data/train/12536.png\n",
      "del:  ./data/train/11513.png\n",
      "del:  ./data/train/10491.png\n",
      "del:  ./data/train/12542.png\n",
      "del:  ./data/train/11008.png\n",
      "del:  ./data/train/12544.png\n",
      "del:  ./data/train/13568.png\n",
      "del:  ./data/train/13572.png\n",
      "del:  ./data/train/11016.png\n",
      "del:  ./data/train/13069.png\n",
      "del:  ./data/train/13582.png\n",
      "del:  ./data/train/14094.png\n",
      "del:  ./data/train/13079.png\n",
      "del:  ./data/train/14104.png\n",
      "del:  ./data/train/10232.png\n",
      "del:  ./data/train/10522.png\n",
      "del:  ./data/train/13596.png\n",
      "del:  ./data/train/10014.png\n",
      "del:  ./data/train/12070.png\n",
      "del:  ./data/train/10535.png\n",
      "del:  ./data/train/12072.png\n",
      "del:  ./data/train/11566.png\n",
      "del:  ./data/train/12080.png\n",
      "del:  ./data/train/13621.png\n",
      "del:  ./data/train/10038.png\n",
      "del:  ./data/train/10039.png\n",
      "del:  ./data/train/10550.png\n",
      "del:  ./data/train/12598.png\n",
      "del:  ./data/train/11072.png\n",
      "del:  ./data/train/12609.png\n",
      "del:  ./data/train/13644.png\n",
      "del:  ./data/train/13646.png\n",
      "del:  ./data/train/11092.png\n",
      "del:  ./data/train/14164.png\n",
      "del:  ./data/train/14172.png\n",
      "del:  ./data/train/12643.png\n",
      "del:  ./data/train/11621.png\n",
      "del:  ./data/train/13158.png\n",
      "del:  ./data/train/11115.png\n",
      "del:  ./data/train/12141.png\n",
      "del:  ./data/train/10606.png\n",
      "del:  ./data/train/10610.png\n",
      "del:  ./data/train/13682.png\n",
      "del:  ./data/train/14207.png\n",
      "del:  ./data/train/14212.png\n",
      "del:  ./data/train/11653.png\n",
      "del:  ./data/train/12678.png\n",
      "del:  ./data/train/13702.png\n",
      "del:  ./data/train/10633.png\n",
      "del:  ./data/train/10636.png\n",
      "del:  ./data/train/13708.png\n",
      "del:  ./data/train/12175.png\n",
      "del:  ./data/train/10646.png\n",
      "del:  ./data/train/14238.png\n",
      "del:  ./data/train/14241.png\n",
      "del:  ./data/train/10147.png\n",
      "del:  ./data/train/11688.png\n",
      "del:  ./data/train/13225.png\n",
      "del:  ./data/train/12202.png\n",
      "del:  ./data/train/10158.png\n",
      "del:  ./data/train/10162.png\n",
      "del:  ./data/train/10163.png\n",
      "del:  ./data/train/10171.png\n",
      "del:  ./data/train/12731.png\n",
      "del:  ./data/train/12735.png\n",
      "del:  ./data/train/11717.png\n",
      "del:  ./data/train/13765.png\n",
      "del:  ./data/train/13257.png\n",
      "del:  ./data/train/12234.png\n",
      "del:  ./data/train/13260.png\n",
      "del:  ./data/train/12751.png\n",
      "del:  ./data/train/11228.png\n",
      "del:  ./data/train/10205.png\n",
      "del:  ./data/train/12765.png\n",
      "del:  ./data/train/13791.png\n",
      "del:  ./data/train/10208.png\n",
      "del:  ./data/train/11751.png\n",
      "del:  ./data/train/12263.png\n",
      "del:  ./data/train/12266.png\n",
      "del:  ./data/train/13805.png\n",
      "del:  ./data/train/12271.png\n",
      "del:  ./data/train/11760.png\n",
      "del:  ./data/train/13808.png\n",
      "del:  ./data/train/13816.png\n",
      "del:  ./data/train/12793.png\n",
      "del:  ./data/train/13818.png\n",
      "del:  ./data/train/13822.png\n"
     ]
    },
    {
     "name": "stderr",
     "output_type": "stream",
     "text": [
      "10 : cable-good label's augmentation process: 100%|████████████████████████████████████| 59/59 [00:31<00:00,  1.84it/s]\n"
     ]
    },
    {
     "name": "stdout",
     "output_type": "stream",
     "text": [
      "[10096, 11344, 12703, 10791] 4\n",
      "[13057.333065383913, 11268.066899766942, 13828.489875546395, 11780.98809226495, 11271.877208748392, 11282.931750137555, 13587.337503551767, 10518.40252346692, 10232.174947999669, 11548.172493911889, 11549.878364259825, 11036.424634821133, 11552.599034186871, 11553.107942073859, 12324.895919794986, 11301.522732404776, 11557.404327412713, 11558.502511388127, 12587.983082936427, 11568.147943448928, 11573.377520315424, 10550.783603197118, 10551.724203367265, 10808.233881760334, 11577.756458156546, 11322.253008818883, 12859.254170194159, 14137.584841455468, 10556.32718190334, 10815.748368160968, 10315.620143778513, 12619.3836196821, 11341.022899425396, 10830.654235354154, 13391.557156728726, 11598.011532150134, 11601.250040258219, 10578.59633413617, 10323.650362051127, 10836.095757628598, 10323.263263162104, 12372.617372751401, 10580.140171198776, 11605.273403423476, 13401.910966286061, 11354.434917595925, 11608.753175833432, 11610.773118117368, 12124.638355876892, 12130.141909102862, 11875.109748298944, 11106.549940660325, 11365.149721008953, 11623.690574265629, 11114.96464942254, 11883.966788363783, 13421.541919930376, 11885.911445151314, 11887.721555188511, 10608.989050985774, 11379.913591918139, 11123.114171551624, 12148.712804201326, 13176.944652573242, 11391.717352764694, 11392.240432181847, 11135.643982487398, 10370.179663172376, 11907.067447249918, 11396.548332978731, 12543.104152400572, 10886.299329742813, 11399.623542675072, 11651.691733207632, 11401.464826677908, 11402.438764101771, 12939.817372457968, 12680.686758515661, 11151.664313359292, 12441.95712405838, 13722.637046073634, 10654.466860766015, 10657.261290223014, 10658.374536544989, 12196.541989941625, 11941.38140565437, 12711.857520857506, 11433.11014729627, 10921.68388956858, 11436.778020666663, 12462.530203134165, 13742.455881580834, 11443.920493848811, 11957.733767001242, 10934.370216387295, 11959.87113424753, 12214.830524062789, 12216.763972491693, 12474.781086027318, 11198.66361610319, 14016.08221893692, 10434.512976044422, 13508.190134703545, 11462.561553906467, 10695.550669424221, 11465.171348138587, 10958.419306775682, 10447.159491128783, 12498.588441284981, 10709.084069678907, 10710.642615668963, 11480.769434423568, 11481.682027759673, 11230.74399064509, 10975.683388726997, 11493.336880124516, 10476.326219728207, 11501.536035317342, 11500.621163107495, 11248.044961965285, 13554.057389033118, 10230.678845218117, 11000.27516599792, 11516.919855563407, 13567.673232380783] 125\n"
     ]
    },
    {
     "name": "stderr",
     "output_type": "stream",
     "text": [
      "11 : cable-missing_cable label's deleting process: 100%|███████████████████████████████| 4/4 [00:00<00:00, 2004.45it/s]\n"
     ]
    },
    {
     "name": "stdout",
     "output_type": "stream",
     "text": [
      "del:  ./data/train/10096.png\n",
      "del:  ./data/train/11344.png\n",
      "del:  ./data/train/12703.png\n",
      "del:  ./data/train/10791.png\n"
     ]
    },
    {
     "name": "stderr",
     "output_type": "stream",
     "text": [
      "11 : cable-missing_cable label's augmentation process: 100%|█████████████████████████| 125/125 [01:06<00:00,  1.87it/s]\n"
     ]
    },
    {
     "name": "stdout",
     "output_type": "stream",
     "text": [
      "[13540, 11141, 10284, 13167, 14192] 5\n",
      "[13824.558337862265, 10753.55947967476, 11788.076276218262, 11789.050996129665, 12304.656009787037, 13330.814176269248, 13843.823514148868, 11282.19214501732, 13333.37031134634, 13847.58233966073, 10775.8036568255, 13337.669412600526, 13335.26062525313, 13853.805121079386, 13859.100909320461, 13859.102512999572, 11301.065433005904, 13349.27387982981, 12327.59031236021, 12328.942550267693, 10790.002111020453, 13866.24565699253, 11818.699941876645, 12336.618640708597, 13876.272719238013, 12341.825263574714, 10814.969933352511, 11329.870288824608, 13890.909361807395, 13380.057520326294, 13895.734386801985, 13387.334286501911, 10318.377977540835, 10323.077187158024, 10837.249280416043, 11351.709830462465, 10328.303912743755, 13402.651395476596, 12894.33233717596, 13407.654388276063, 12384.592164550588, 13416.087466712906, 11370.522418775807, 11882.690244720963, 10877.621682345767, 11906.132723507731, 10370.361383419262, 13443.157043130726, 13444.050302846876, 10886.160859051048, 13450.837606496027, 13460.38804309535, 13972.542875730169, 12953.562082875353, 13466.548784810955, 11419.772933363596, 13981.302126256714, 13992.81151110953, 13483.028656915872, 13996.416188111249, 12461.358049139057, 10926.861336897127, 11441.719295744466, 14004.122479016767, 13493.953140786221, 14005.173125174913, 11451.719839813893, 10428.730969481408, 12988.102815863926, 13502.399721597532, 10944.23051738183, 10435.868884701258, 10949.8331283725, 13514.755252578825, 14030.298628558314, 13518.09238503249, 11472.793742916405, 14032.501855191658, 12502.189465987594, 10968.679070326112, 10968.729192268964, 14042.300242436355, 10459.121919582092, 13532.167018889179, 10973.870170624832, 11483.759218723591, 12512.698318762465, 12001.301257400362, 13538.902047662328, 13539.602300182092, 10980.658212420156, 13026.749351072393, 10981.126058503782, 13547.36492875161, 12523.773597371437, 12528.914082785754, 13552.083087150782, 11509.16823708208, 12022.099657083161, 12029.223114265666, 11007.923432185675, 11523.817846762551, 12554.427380671055, 11025.017077503502, 14098.594428054901, 14102.731206168051, 12566.42315562496, 11034.859565808783, 13085.029693232875, 13600.917855894313, 13613.309657766327, 13110.221115799548, 10551.078351842145, 10562.172398508785, 11075.050108363661, 11587.441433431037, 10565.91916910476, 11600.116651976381, 10579.265676161685, 13652.838021054298, 13658.041907798199, 12634.244229581223, 14172.109875110631, 13661.443892513016, 12131.84976520933, 13156.611701751099, 13162.117229781023, 12145.76103088643, 13169.757236597025, 11125.948314316749, 13691.780276716276, 12668.633925591497, 11133.699601026965, 13194.132835492861, 13707.297667810724, 10636.670230973163, 12686.940848895443, 12688.351623517123, 11667.294565454853, 13204.689527771267, 13720.520602751749, 12188.226248137875, 13219.967354806253, 13234.643339545408, 12222.524305003542, 13760.20945618692, 11203.336188778358, 13252.410314999088, 11723.472714881205, 11724.900584322279, 12242.654067206317, 12755.851955864073, 12245.949456642766, 11230.440832788421, 12767.084257423938, 13287.288077917365, 13295.13727927741, 13299.038922278884, 13303.688587037741, 13307.865392731079, 11772.956119717417, 13310.574522044122, 13823.578175504614] 163\n"
     ]
    },
    {
     "name": "stderr",
     "output_type": "stream",
     "text": [
      "12 : cable-missing_wire label's deleting process: 100%|████████████████████████████████| 5/5 [00:00<00:00, 2479.78it/s]\n"
     ]
    },
    {
     "name": "stdout",
     "output_type": "stream",
     "text": [
      "del:  ./data/train/13540.png\n",
      "del:  ./data/train/11141.png\n",
      "del:  ./data/train/10284.png\n",
      "del:  ./data/train/13167.png\n",
      "del:  ./data/train/14192.png\n"
     ]
    },
    {
     "name": "stderr",
     "output_type": "stream",
     "text": [
      "12 : cable-missing_wire label's augmentation process: 100%|██████████████████████████| 163/163 [01:29<00:00,  1.81it/s]\n"
     ]
    },
    {
     "name": "stdout",
     "output_type": "stream",
     "text": [
      "[11438, 12783, 12627, 11637, 12086] 5\n",
      "[11778.419799031748, 12314.840213527672, 12316.414942743308, 11805.354030418071, 11805.381944415514, 11820.864426280754, 11820.30283337593, 11832.744088127663, 12353.087864852128, 12357.808579535425, 12360.48598616553, 11855.956215807462, 11882.452881335399, 11885.611910480044, 11896.081171536134, 11898.3776335215, 12418.221256010262, 12426.974871111408, 11916.046195918465, 12429.566086277538, 11916.936158938415, 12434.27260185611, 11930.581172407572, 12445.405356296505, 11934.967248600879, 11941.76791698191, 12456.668016870846, 12457.219500323938, 12456.669314533872, 11947.884623077094, 11949.814189686847, 11444.582711912788, 11444.011676459519, 11958.561530324216, 11958.577037979545, 11961.258109616714, 11973.007113943888, 12487.990171574138, 12493.159037343843, 11474.341936521301, 11993.816966659859, 11482.69194944985, 12507.882837814248, 11484.16885606567, 12002.918761143903, 12517.884798960322, 12519.55385780587, 11497.07436304226, 11501.720284089733, 12525.239496751592, 12529.00861532315, 12028.041360351812, 11532.386991808718, 11533.35030275543, 11541.31577074531, 12068.260101457983, 12068.259280387862, 11559.701261458658, 11563.261477877155, 12589.094045974241, 11565.242115671574, 12077.57582730629, 12592.915711639238, 12598.703737816679, 12090.166166000987, 12612.467937039111, 12104.583764198129, 12104.471324524871, 11596.03160731727, 11596.056912753047, 11601.806086298477, 11604.383530831048, 12116.590000105472, 12121.237164471375, 11613.88266850451, 12638.270950495616, 12638.433580459105, 12130.791379434042, 12131.705854301143, 11626.391680463577, 11627.42378900836, 11627.104589810468, 12653.587344160558, 12142.914387031378, 11628.566456267765, 12656.924815786952, 12657.3706109773, 12658.189096786486, 12656.873512768181, 12669.389968513175, 12670.3022732682, 12670.32846069581, 12161.429123568076, 11652.815553484033, 12166.314162078967, 12680.322980950146, 11663.851798506945, 12182.767991787356, 12695.98071340142, 12699.572880026899, 11678.82882002942, 11679.14203799757, 12204.08619188254, 12206.156543035899, 11696.518738172417, 12218.067509128425, 12730.969887844141, 11709.344377590542, 12224.40401558517, 12738.052553202622, 12739.455174946914, 12739.74477875948, 12742.168162993843, 11718.263427081256, 12743.666466453571, 12742.211269675885, 12749.229667829044, 11726.635524590916, 12243.95856298067, 12756.153735629907, 11733.446175975087, 12760.105987094756, 11742.960210853507, 12767.51837983105, 11743.325736894705, 11748.853243291738, 11748.462960233006, 11749.124445878937, 12270.400491916016, 11759.280887963092, 11766.856342745883, 12283.17558279713] 132\n"
     ]
    },
    {
     "name": "stderr",
     "output_type": "stream",
     "text": [
      "13 : cable-poke_insulation label's deleting process: 100%|█████████████████████████████| 5/5 [00:00<00:00, 3534.72it/s]\n"
     ]
    },
    {
     "name": "stdout",
     "output_type": "stream",
     "text": [
      "del:  ./data/train/11438.png\n",
      "del:  ./data/train/12783.png\n",
      "del:  ./data/train/12627.png\n",
      "del:  ./data/train/11637.png\n",
      "del:  ./data/train/12086.png\n"
     ]
    },
    {
     "name": "stderr",
     "output_type": "stream",
     "text": [
      "13 : cable-poke_insulation label's augmentation process: 100%|███████████████████████| 132/132 [01:12<00:00,  1.82it/s]\n"
     ]
    },
    {
     "name": "stdout",
     "output_type": "stream",
     "text": [
      "[10113, 13960, 10156, 10444, 13455, 13592, 12378, 11069] 8\n",
      "[11269.37371372718, 10247.674934793957, 13837.044342595997, 10261.758717694696, 10262.377410768839, 10773.170548960807, 11286.251388296578, 13851.03495031128, 11295.099457291823, 13856.476582622563, 12832.702445543258, 10274.192638343511, 13856.454455825766, 13863.477203549168, 10286.39204257897, 10292.183424486648, 13882.140071659498, 10299.411555639508, 10300.892129308599, 13894.846463647782, 13901.918692664109, 13906.537810897233, 10326.468706404481, 13911.57346993637, 13913.835327377456, 10843.202086273095, 13917.075863996766, 13923.094948306603, 13926.792656501377, 13927.918536615116, 13934.60339541046, 13935.645630102132, 10353.292802770398, 10357.650809312054, 13942.618679489207, 13945.864725073743, 13946.887395722306, 10875.909946239019, 13952.512628512366, 13957.409443354174, 13957.219446970006, 13960.59198461755, 13963.794449973344, 10379.262566002306, 13966.367858872023, 13455.902947847668, 10901.428771639688, 13974.17573863205, 13981.881055026277, 13983.606250278057, 13983.791041069158, 13983.488690299084, 10400.623118424135, 13481.204075520782, 13482.218930048088, 10409.431395962023, 10416.903642011666, 14001.624811922682, 14003.98561158945, 10420.080077869528, 13494.067501520594, 14013.582272507929, 14016.705982941598, 14017.07645816896, 14017.558432921955, 10435.215475743802, 10947.575465018781, 10438.81908088197, 10442.312032438967, 12491.895589392396, 13522.946426771996, 13011.069764475626, 14039.38088762958, 10456.499782461413, 13529.834812565257, 13530.357272053454, 13529.866362038027, 14045.485873252572, 10466.487100883076, 14051.042302671067, 13542.457439374375, 10984.476767273936, 10473.43239072774, 14061.86670290033, 13563.55722854284, 10496.777370293543, 13571.139263998737, 11526.734013479594, 10504.89629274253, 10504.782203128065, 10528.231515737345, 13602.649239359427, 13603.739185847484, 13611.442950242732, 10541.205014299356, 11053.429768758599, 13619.051216682234, 10548.289418029175, 10551.941154205591, 10552.948067870511, 10554.512332316512, 13636.256607111465, 11080.246366875665, 11083.089638588983, 12118.23340057925, 13656.441791295374, 12127.800546619786, 13666.125578190882, 13694.503454961705, 10632.297905080557, 11154.841835091685, 10133.258203478976, 10133.130811236944, 10146.502349494722, 10153.743204418117, 10159.36788978067, 10166.847678398371, 10170.07435121246, 11198.19222637077, 10174.917590741372, 10688.186609589196, 13768.889140317386, 10697.302721594348, 10708.031270752103, 13782.78975990622, 10198.358423607391, 13278.822936317607, 10221.952014776709, 10231.214782088924, 10744.840250315407, 11263.598674136516] 131\n"
     ]
    },
    {
     "name": "stderr",
     "output_type": "stream",
     "text": [
      "14 : capsule-crack label's deleting process: 100%|█████████████████████████████████████| 8/8 [00:00<00:00, 2673.23it/s]\n"
     ]
    },
    {
     "name": "stdout",
     "output_type": "stream",
     "text": [
      "del:  ./data/train/10113.png\n",
      "del:  ./data/train/13960.png\n",
      "del:  ./data/train/10156.png\n",
      "del:  ./data/train/10444.png\n",
      "del:  ./data/train/13455.png\n",
      "del:  ./data/train/13592.png\n",
      "del:  ./data/train/12378.png\n",
      "del:  ./data/train/11069.png\n"
     ]
    },
    {
     "name": "stderr",
     "output_type": "stream",
     "text": [
      "14 : capsule-crack label's augmentation process: 100%|███████████████████████████████| 131/131 [01:10<00:00,  1.85it/s]\n"
     ]
    },
    {
     "name": "stdout",
     "output_type": "stream",
     "text": [
      "[11779, 12483, 13221, 10473, 12984, 12443, 12094] 7\n",
      "[11776.181401435219, 11779.287887288172, 11779.278648080555, 11779.185645933992, 11785.26888579805, 11785.96557874709, 11785.929885657668, 11786.980670985382, 11277.349052194228, 11786.259671488895, 11289.038100015925, 11803.470126906113, 11804.414067664049, 11805.299748164718, 10779.773524215732, 12831.660907005296, 11803.648740578124, 11812.461209833273, 11316.797262137843, 12860.662673339619, 11329.376771901345, 11856.714625012783, 11866.83212959518, 10858.823451925293, 11389.393464138911, 12942.929169656929, 12944.080447243772, 13457.086718338858, 11923.53351781513, 12440.832956760914, 11928.353327163533, 12451.180648811654, 12452.565298968642, 12458.726509632424, 12973.52625275206, 12465.782004918161, 11447.578498088706, 12471.436025072719, 11958.606384793216, 11450.078503741135, 11452.051066480699, 12477.084322407922, 11454.54767032609, 12476.939853159804, 11453.203773104487, 11970.88393015877, 11482.135522174576, 11482.037497595556, 12509.375702264808, 11999.641855026024, 12000.453925830509, 12005.234702898719, 13034.962132292014, 12526.843867676698, 12526.518925765893, 12021.449967853607, 13049.535093047922, 11513.853436071357, 12030.625785449622, 12032.448501552983, 10510.066300339653, 11536.796573640324, 12560.911251455938, 13083.703400131435, 12061.30288002221, 11571.2256519642, 12084.02355269796, 13110.312059024518, 13111.844206066658, 13114.585785772164, 11579.30372450019, 11580.697467259828, 12603.526409333712, 13115.091648828153, 12607.329858141411, 11581.355143100463, 12609.644461380964, 12098.1768133902, 12609.311908934063, 12614.112754639902, 12619.990503738101, 13646.720389060894, 11601.635604421304, 11601.57687292654, 13138.57037002511, 11606.937763974332, 11607.52061347052, 12630.926318132224, 11099.50186573004, 11615.273303024416, 11622.50222314891, 11114.735842206113, 12142.141347346804, 12143.222509474987, 13170.857014099445, 11639.498719416004, 13181.397654593242, 11647.941641940655, 10626.157773253268, 12168.53278550994, 13201.266517397686, 13203.826453351761, 11671.578465154365, 11166.74948110423, 11679.523286141877, 11683.475458545281, 11684.520153844554, 11683.71834961571, 10671.849030702588, 11697.290723981656, 12725.320589274503, 11195.605798376142, 12232.612276279258, 11725.655094086978, 12245.37930630247, 12760.230366655744, 11737.955189763818, 11739.068650788571, 13790.170525794125, 13794.333752403629, 12263.306080022896, 11243.13490461635, 13293.175056893646, 11761.106596552445, 12788.605899154918, 11768.783592543787, 12793.797028776415] 127\n"
     ]
    },
    {
     "name": "stderr",
     "output_type": "stream",
     "text": [
      "15 : capsule-faulty_imprint label's deleting process: 100%|████████████████████████████| 7/7 [00:00<00:00, 3506.11it/s]\n"
     ]
    },
    {
     "name": "stdout",
     "output_type": "stream",
     "text": [
      "del:  ./data/train/11779.png\n",
      "del:  ./data/train/12483.png\n",
      "del:  ./data/train/13221.png\n",
      "del:  ./data/train/10473.png\n",
      "del:  ./data/train/12984.png\n",
      "del:  ./data/train/12443.png\n",
      "del:  ./data/train/12094.png\n"
     ]
    },
    {
     "name": "stderr",
     "output_type": "stream",
     "text": [
      "15 : capsule-faulty_imprint label's augmentation process: 100%|██████████████████████| 127/127 [01:10<00:00,  1.81it/s]\n"
     ]
    },
    {
     "name": "stdout",
     "output_type": "stream",
     "text": [
      "[12289, 11266, 11786, 13835, 12813, 13838, 10255, 13843, 11801, 13850, 10778, 10785, 11811, 11812, 13352, 12331, 10796, 11309, 10286, 13869, 12848, 12850, 12852, 10807, 11319, 12855, 10298, 10815, 11843, 12361, 12375, 11865, 10330, 11869, 12893, 10847, 13414, 12903, 10347, 11372, 11375, 13423, 12922, 10876, 11903, 13440, 11908, 10896, 12946, 12948, 12438, 13975, 13473, 11938, 10920, 13480, 11946, 13998, 11440, 11953, 14003, 14004, 13495, 12484, 10960, 11984, 10962, 14035, 13014, 14041, 13018, 12509, 14048, 14050, 10979, 14060, 13039, 10999, 12024, 11002, 13061, 12552, 13064, 11020, 10510, 13075, 12567, 10521, 11043, 12579, 11558, 10024, 12077, 11568, 12592, 10546, 11061, 14138, 12093, 12611, 12111, 13135, 13136, 13147, 13153, 13154, 11112, 10603, 10604, 14189, 14194, 10100, 13684, 10617, 13690, 11135, 11648, 10625, 13185, 13188, 12681, 11663, 12687, 11672, 11162, 13218, 13732, 11175, 12204, 12205, 12719, 11697, 11699, 12723, 11703, 14269, 12222, 13251, 10181, 10695, 11720, 11722, 11211, 12746, 10189, 12755, 12244, 11223, 11230, 12767, 10720, 11232, 13282, 12774, 11244, 13293, 12270, 11766, 12283] 159\n",
      "[11906.861617481576, 11010.04323124681, 13187.922182082095, 13702.50379099406, 10504.436791984012, 13066.647384216898, 13835.078710419484, 13835.926295621408, 12813.153243337034, 11019.299507383525, 10506.245583644102, 13968.148986046483, 13968.336788509789, 10510.30127176093, 13075.202774790518, 11284.26737380502, 12685.382827475903, 10908.168604375303, 13216.123470533817, 13473.441314207652, 13729.643475323153, 10915.599493791859, 13220.480873256924, 10022.02504311486, 11945.058788769242, 10618.725709395832, 10288.293194597414, 12848.391646278167, 11572.27108173884, 12214.16023759639, 14012.342143144047, 13502.511741665863, 12682.183699718309, 12099.90805709988, 11849.34284259927, 10826.673312991185, 12364.426718437826, 12111.199601871773, 13140.812541736657, 13403.19185752969, 11356.405388863965, 14045.188857674682, 10974.685133832045, 12123.21353621617, 13661.81256128443, 12128.331366398801, 11228.059555569116, 13414.86412285646, 11372.319290067966, 11116.35697504694, 13292.247196076276, 14191.840436958726, 12531.475244168163, 11636.025504260555, 13685.296792910844, 14198.00483307597, 10999.746637817443, 13302.196179864452, 11001.480466772911, 10618.69447010491, 11003.7875802024, 11004.52894647525, 14205.377940806979] 63\n"
     ]
    },
    {
     "name": "stderr",
     "output_type": "stream",
     "text": [
      "16 : capsule-good label's deleting process: 100%|██████████████████████████████████| 159/159 [00:00<00:00, 3625.67it/s]\n"
     ]
    },
    {
     "name": "stdout",
     "output_type": "stream",
     "text": [
      "del:  ./data/train/12289.png\n",
      "del:  ./data/train/11266.png\n",
      "del:  ./data/train/11786.png\n",
      "del:  ./data/train/13835.png\n",
      "del:  ./data/train/12813.png\n",
      "del:  ./data/train/13838.png\n",
      "del:  ./data/train/10255.png\n",
      "del:  ./data/train/13843.png\n",
      "del:  ./data/train/11801.png\n",
      "del:  ./data/train/13850.png\n",
      "del:  ./data/train/10778.png\n",
      "del:  ./data/train/10785.png\n",
      "del:  ./data/train/11811.png\n",
      "del:  ./data/train/11812.png\n",
      "del:  ./data/train/13352.png\n",
      "del:  ./data/train/12331.png\n",
      "del:  ./data/train/10796.png\n",
      "del:  ./data/train/11309.png\n",
      "del:  ./data/train/10286.png\n",
      "del:  ./data/train/13869.png\n",
      "del:  ./data/train/12848.png\n",
      "del:  ./data/train/12850.png\n",
      "del:  ./data/train/12852.png\n",
      "del:  ./data/train/10807.png\n",
      "del:  ./data/train/11319.png\n",
      "del:  ./data/train/12855.png\n",
      "del:  ./data/train/10298.png\n",
      "del:  ./data/train/10815.png\n",
      "del:  ./data/train/11843.png\n",
      "del:  ./data/train/12361.png\n",
      "del:  ./data/train/12375.png\n",
      "del:  ./data/train/11865.png\n",
      "del:  ./data/train/10330.png\n",
      "del:  ./data/train/11869.png\n",
      "del:  ./data/train/12893.png\n",
      "del:  ./data/train/10847.png\n",
      "del:  ./data/train/13414.png\n",
      "del:  ./data/train/12903.png\n",
      "del:  ./data/train/10347.png\n",
      "del:  ./data/train/11372.png\n",
      "del:  ./data/train/11375.png\n",
      "del:  ./data/train/13423.png\n",
      "del:  ./data/train/12922.png\n",
      "del:  ./data/train/10876.png\n",
      "del:  ./data/train/11903.png\n",
      "del:  ./data/train/13440.png\n",
      "del:  ./data/train/11908.png\n",
      "del:  ./data/train/10896.png\n",
      "del:  ./data/train/12946.png\n",
      "del:  ./data/train/12948.png\n",
      "del:  ./data/train/12438.png\n",
      "del:  ./data/train/13975.png\n",
      "del:  ./data/train/13473.png\n",
      "del:  ./data/train/11938.png\n",
      "del:  ./data/train/10920.png\n",
      "del:  ./data/train/13480.png\n",
      "del:  ./data/train/11946.png\n",
      "del:  ./data/train/13998.png\n",
      "del:  ./data/train/11440.png\n",
      "del:  ./data/train/11953.png\n",
      "del:  ./data/train/14003.png\n",
      "del:  ./data/train/14004.png\n",
      "del:  ./data/train/13495.png\n",
      "del:  ./data/train/12484.png\n",
      "del:  ./data/train/10960.png\n",
      "del:  ./data/train/11984.png\n",
      "del:  ./data/train/10962.png\n",
      "del:  ./data/train/14035.png\n",
      "del:  ./data/train/13014.png\n",
      "del:  ./data/train/14041.png\n",
      "del:  ./data/train/13018.png\n",
      "del:  ./data/train/12509.png\n",
      "del:  ./data/train/14048.png\n",
      "del:  ./data/train/14050.png\n",
      "del:  ./data/train/10979.png\n",
      "del:  ./data/train/14060.png\n",
      "del:  ./data/train/13039.png\n",
      "del:  ./data/train/10999.png\n",
      "del:  ./data/train/12024.png\n",
      "del:  ./data/train/11002.png\n",
      "del:  ./data/train/13061.png\n",
      "del:  ./data/train/12552.png\n",
      "del:  ./data/train/13064.png\n",
      "del:  ./data/train/11020.png\n",
      "del:  ./data/train/10510.png\n",
      "del:  ./data/train/13075.png\n",
      "del:  ./data/train/12567.png\n",
      "del:  ./data/train/10521.png\n",
      "del:  ./data/train/11043.png\n",
      "del:  ./data/train/12579.png\n",
      "del:  ./data/train/11558.png\n",
      "del:  ./data/train/10024.png\n",
      "del:  ./data/train/12077.png\n",
      "del:  ./data/train/11568.png\n",
      "del:  ./data/train/12592.png\n",
      "del:  ./data/train/10546.png\n",
      "del:  ./data/train/11061.png\n",
      "del:  ./data/train/14138.png\n",
      "del:  ./data/train/12093.png\n",
      "del:  ./data/train/12611.png\n",
      "del:  ./data/train/12111.png\n",
      "del:  ./data/train/13135.png\n",
      "del:  ./data/train/13136.png\n",
      "del:  ./data/train/13147.png\n",
      "del:  ./data/train/13153.png\n",
      "del:  ./data/train/13154.png\n",
      "del:  ./data/train/11112.png\n",
      "del:  ./data/train/10603.png\n",
      "del:  ./data/train/10604.png\n",
      "del:  ./data/train/14189.png\n",
      "del:  ./data/train/14194.png\n",
      "del:  ./data/train/10100.png\n",
      "del:  ./data/train/13684.png\n",
      "del:  ./data/train/10617.png\n",
      "del:  ./data/train/13690.png\n",
      "del:  ./data/train/11135.png\n",
      "del:  ./data/train/11648.png\n",
      "del:  ./data/train/10625.png\n",
      "del:  ./data/train/13185.png\n",
      "del:  ./data/train/13188.png\n",
      "del:  ./data/train/12681.png\n",
      "del:  ./data/train/11663.png\n",
      "del:  ./data/train/12687.png\n",
      "del:  ./data/train/11672.png\n",
      "del:  ./data/train/11162.png\n",
      "del:  ./data/train/13218.png\n",
      "del:  ./data/train/13732.png\n",
      "del:  ./data/train/11175.png\n",
      "del:  ./data/train/12204.png\n",
      "del:  ./data/train/12205.png\n",
      "del:  ./data/train/12719.png\n",
      "del:  ./data/train/11697.png\n",
      "del:  ./data/train/11699.png\n",
      "del:  ./data/train/12723.png\n",
      "del:  ./data/train/11703.png\n",
      "del:  ./data/train/14269.png\n",
      "del:  ./data/train/12222.png\n",
      "del:  ./data/train/13251.png\n",
      "del:  ./data/train/10181.png\n",
      "del:  ./data/train/10695.png\n",
      "del:  ./data/train/11720.png\n",
      "del:  ./data/train/11722.png\n",
      "del:  ./data/train/11211.png\n",
      "del:  ./data/train/12746.png\n",
      "del:  ./data/train/10189.png\n",
      "del:  ./data/train/12755.png\n",
      "del:  ./data/train/12244.png\n",
      "del:  ./data/train/11223.png\n",
      "del:  ./data/train/11230.png\n",
      "del:  ./data/train/12767.png\n",
      "del:  ./data/train/10720.png\n",
      "del:  ./data/train/11232.png\n",
      "del:  ./data/train/13282.png\n",
      "del:  ./data/train/12774.png\n",
      "del:  ./data/train/11244.png\n",
      "del:  ./data/train/13293.png\n",
      "del:  ./data/train/12270.png\n",
      "del:  ./data/train/11766.png\n",
      "del:  ./data/train/12283.png\n"
     ]
    },
    {
     "name": "stderr",
     "output_type": "stream",
     "text": [
      "16 : capsule-good label's augmentation process: 100%|██████████████████████████████████| 63/63 [00:34<00:00,  1.85it/s]\n"
     ]
    },
    {
     "name": "stdout",
     "output_type": "stream",
     "text": [
      "[14180, 11785, 12470, 14043, 11999] 5\n",
      "[12800.144600925702, 11776.5208608429, 11782.744892302086, 12295.569621325403, 11274.973005975793, 13836.10524261862, 12821.713528878596, 11805.835945965082, 12320.07751892598, 11809.734743669334, 10274.716952410348, 12327.196585962334, 11830.516218084927, 10812.243748990342, 12353.311526721534, 11342.789847154369, 13908.396499451412, 12885.388333618188, 13913.493592658264, 12381.362099966482, 13919.2064973609, 11871.622481391241, 13919.50441483785, 11875.202857024036, 12902.189383166926, 11368.49128924348, 10857.49446931449, 12906.213677173722, 13933.748213825185, 12398.34549694066, 12915.628756881675, 13940.230831365778, 11892.230084334704, 12408.744345791643, 13432.464773453918, 10876.071094181096, 11900.588564885054, 13949.322183142009, 12415.942268112838, 13952.284063780662, 12419.845664693301, 12425.33812726869, 11914.222058113048, 13963.888084613032, 12938.071321676138, 12941.212332887506, 12430.503426239846, 11405.92353672478, 11919.031031052422, 12433.69422610353, 13965.056428452894, 13984.531633316676, 10408.519853169097, 11433.700664046064, 10411.635583233287, 10927.341466801034, 12464.102734683944, 14007.121324646148, 14019.19151541312, 10948.825781556696, 14021.84691549818, 11991.325961076698, 14047.743533571636, 12001.518839153214, 12002.827281664613, 14051.078020625582, 10468.32802918277, 11491.534648453107, 14057.522072792466, 11498.459463575884, 14062.73339479949, 11503.897837188788, 14069.244651279752, 14069.219745281527, 11000.021863318989, 14073.82287973911, 14077.904876254206, 14078.813947134227, 13056.885131740304, 14081.796473294822, 13573.068707495077, 10510.02617942742, 12051.928456390091, 12051.93456221303, 12054.78001232862, 11031.467689336901, 12061.750421561852, 11040.77080550845, 11042.87962766832, 11043.07901595749, 14121.61902213493, 14133.619001461704, 14133.676819330241, 14135.781325003682, 11065.126414795199, 12090.776067098204, 11066.830484591472, 12604.124074923297, 11069.263143697663, 11585.536816689366, 11586.828589853867, 11076.376868819649, 10574.640937774953, 13137.85710726808, 14171.337719133875, 12651.07694557475, 12140.633403367729, 12142.72575518085, 13170.56696709385, 12794.867627568592, 11636.825517906213, 11125.891949851479, 10118.710071046507, 10119.20212797277, 12172.840075013735, 12186.251970588452, 12194.427031913103, 10665.948246228552, 12203.222485916593, 12204.488020110522, 10685.394770327292, 12222.086589951261, 13757.198653755244, 11719.816244493828, 11214.198200377725, 12766.578415582817, 10720.234319645697, 13797.549055672369, 10221.165737013736, 10377.694534858607, 11255.119031921931, 12282.834998052282] 132\n"
     ]
    },
    {
     "name": "stderr",
     "output_type": "stream",
     "text": [
      "17 : capsule-poke label's deleting process: 100%|██████████████████████████████████████| 5/5 [00:00<00:00, 2504.96it/s]\n"
     ]
    },
    {
     "name": "stdout",
     "output_type": "stream",
     "text": [
      "del:  ./data/train/14180.png\n",
      "del:  ./data/train/11785.png\n",
      "del:  ./data/train/12470.png\n",
      "del:  ./data/train/14043.png\n",
      "del:  ./data/train/11999.png\n"
     ]
    },
    {
     "name": "stderr",
     "output_type": "stream",
     "text": [
      "17 : capsule-poke label's augmentation process: 100%|████████████████████████████████| 132/132 [01:13<00:00,  1.79it/s]\n"
     ]
    },
    {
     "name": "stdout",
     "output_type": "stream",
     "text": [
      "[13442, 12739, 12966, 11656, 12781, 13849] 6\n",
      "[11521.333404055129, 11779.750388176593, 11780.870227485297, 11781.299635630561, 11523.15612741284, 11012.988165773075, 12549.338767112162, 11526.419882907567, 13067.93600679425, 13331.868409352253, 11028.099528162933, 13845.214496799405, 11797.050242494439, 13591.156042843762, 12824.83984895786, 13337.173334328678, 11802.769732597324, 11291.634399816363, 11546.920439871139, 11806.050293103503, 12574.410519615285, 11042.734188863962, 12841.073553965636, 11817.476451225513, 12587.957146804736, 11568.289038096504, 12607.188539943123, 11840.267583084295, 13120.52367580247, 12873.311124966136, 11850.480064887362, 11339.638281602958, 13129.32920220415, 11592.581692045555, 11854.064415510162, 11594.866410343437, 13136.645093301104, 12882.953238795451, 11858.040349774654, 11091.74728490744, 13140.689514718953, 11862.205208223217, 11607.147110811904, 12888.482183763708, 11608.990298315935, 11609.629563217793, 11611.568377501166, 11611.572434025482, 12636.16330930913, 11614.696783947613, 11614.723597533364, 11617.901999743604, 11876.60348951284, 11108.54110497856, 12644.364162271271, 11367.430079243919, 12648.335594907485, 13673.862375048979, 11889.405049261191, 12794.217280310293, 11891.71521147104, 13171.703033927626, 12918.590612560976, 13174.738208221981, 12921.305923891126, 13433.35351662837, 11642.435950154115, 11643.814352617335, 13692.540606238856, 13440.41915641275, 11906.72757889924, 13445.978752079276, 13701.60541240477, 12688.476638616756, 11410.377842954807, 13459.428524725066, 12953.840064114742, 11418.660758756381, 11419.383254515273, 11674.086754822392, 12967.634273423946, 13488.282990489732, 13233.217894659072, 11446.634235844356, 10934.122372245401, 12727.061849499598, 13752.127900332447, 11705.522595851931, 11705.377826734992, 13241.057336710948, 13242.684454295751, 11456.17658863199, 11456.782602147521, 13251.08933247128, 12740.657436948955, 13002.848456669048, 13002.754636279431, 11468.632062676787, 12748.306881425964, 11470.168934992449, 11214.314461475951, 10705.04018525573, 12755.209733203466, 13272.303403454463, 11483.19469632064, 13027.997750091386, 13798.038886703767, 12777.17614343996, 13034.613802036145, 11503.641268644, 13295.546900567691, 11760.247156477808, 13560.560561230717, 12794.232383889612, 12797.889396215061, 11518.70976671851] 116\n"
     ]
    },
    {
     "name": "stderr",
     "output_type": "stream",
     "text": [
      "18 : capsule-scratch label's deleting process: 100%|███████████████████████████████████| 6/6 [00:00<00:00, 3007.03it/s]\n"
     ]
    },
    {
     "name": "stdout",
     "output_type": "stream",
     "text": [
      "del:  ./data/train/13442.png\n",
      "del:  ./data/train/12739.png\n",
      "del:  ./data/train/12966.png\n",
      "del:  ./data/train/11656.png\n",
      "del:  ./data/train/12781.png\n",
      "del:  ./data/train/13849.png\n"
     ]
    },
    {
     "name": "stderr",
     "output_type": "stream",
     "text": [
      "18 : capsule-scratch label's augmentation process: 100%|█████████████████████████████| 116/116 [01:03<00:00,  1.84it/s]\n"
     ]
    },
    {
     "name": "stdout",
     "output_type": "stream",
     "text": [
      "[10343, 14217, 12715, 12311, 12632, 11613, 10110] 7\n",
      "[11776.047179459556, 11777.886161993825, 11778.646955983459, 13832.32204044337, 10762.70927278496, 11791.568019668388, 10110.284921514978, 12823.456640765444, 12312.659654953406, 12319.481882876762, 12321.234872915224, 12327.236651780851, 12327.989931936838, 10284.877562243993, 10284.647156501818, 11827.397532375777, 10300.7610206624, 13373.462273735955, 12350.312093883815, 12354.25045477176, 10307.717052481508, 12354.498989770176, 10311.936407424888, 12877.214865691298, 10318.668357972272, 13391.20680036122, 10330.28603927416, 13921.433490349566, 10338.842613353872, 12385.510977832957, 13959.601140331388, 12425.1629184123, 12434.685560513171, 10905.885293734598, 12447.616435672555, 12449.217688995359, 13986.83114751343, 10110.789129566278, 10110.496684767208, 10110.491353628744, 10110.224509481417, 14004.169598774643, 10110.14984088786, 10110.367262040912, 12473.133497872353, 10110.345102233681, 12987.478609910071, 12991.83462259175, 12479.369836194284, 14022.814056417721, 12487.318228573977, 12490.360407684699, 10966.741372982895, 12503.858261124975, 12503.861938374183, 13541.038559400551, 13542.416273092462, 12529.647614216477, 12530.83063386259, 12531.664940070916, 13562.158370144905, 12542.63835778793, 12547.581521618988, 10500.891263075302, 12551.072559133461, 12554.900325993452, 12555.752669041194, 13579.691495854744, 14095.727913803237, 11023.224570186596, 10110.108139506292, 10110.03966804411, 12055.564126194211, 10520.822356218665, 12055.63546964877, 14107.519497008503, 12569.062382894128, 10110.599610446841, 14114.73401571225, 12583.721861337015, 12584.77652503699, 12585.835561730928, 14122.267556372826, 14127.289778553542, 11574.477596903196, 12600.100038527678, 12604.236320834858, 14150.246551744482, 12617.581520615277, 12617.465799127047, 12631.087556869417, 14172.193201514843, 13149.517103581737, 12641.812495186845, 14178.867677851842, 12643.538497064377, 11619.678342025, 12643.565520617081, 12651.813922173236, 12654.425418160676, 12660.055122717864, 14198.261410173585, 12663.198467612394, 11127.025802302674, 12665.025917224482, 12665.081052783695, 10110.147248978294, 10110.467178753632, 10110.347889983703, 10110.738163489716, 10110.06175755415, 10110.652321076375, 10110.37285721218, 10117.732588445004, 10118.52666601609, 10110.265477224564, 10110.909143794788, 12682.649904067574, 13707.905247944314, 12684.341770253484, 10110.250997640773, 12690.911152022198, 12692.824710928393, 10110.704523093511, 10110.952846341948, 12698.843835187736, 12707.486991230951, 12712.5558302434, 10157.212897802667, 11693.617007288154, 10162.69924330056, 10183.819835071205, 10186.28467949395, 12236.984159649486, 12752.266876721045, 10200.948431028233, 10204.861523285323, 10208.721189364927, 13797.151767917721, 12779.882446248836, 12268.869167389508, 10226.40376362233, 10230.420186945124] 143\n"
     ]
    },
    {
     "name": "stderr",
     "output_type": "stream",
     "text": [
      "19 : capsule-squeeze label's deleting process: 100%|███████████████████████████████████| 7/7 [00:00<00:00, 3507.78it/s]\n"
     ]
    },
    {
     "name": "stdout",
     "output_type": "stream",
     "text": [
      "del:  ./data/train/10343.png\n",
      "del:  ./data/train/14217.png\n",
      "del:  ./data/train/12715.png\n",
      "del:  ./data/train/12311.png\n",
      "del:  ./data/train/12632.png\n",
      "del:  ./data/train/11613.png\n",
      "del:  ./data/train/10110.png\n"
     ]
    },
    {
     "name": "stderr",
     "output_type": "stream",
     "text": [
      "19 : capsule-squeeze label's augmentation process: 100%|█████████████████████████████| 143/143 [01:18<00:00,  1.83it/s]\n"
     ]
    },
    {
     "name": "stdout",
     "output_type": "stream",
     "text": [
      "[11340, 14125, 10866, 11891, 11065] 5\n",
      "[10766.455528022676, 11281.84629974679, 11286.981242486136, 11289.923723935088, 10778.813333728242, 10777.463459227332, 10782.956811330689, 11307.92173423051, 11316.148121070879, 13888.549557408669, 13891.926681788496, 11845.819703346007, 10824.80874683981, 11336.417207055401, 11862.71920529536, 11864.32075680647, 11865.677420398239, 11866.946263268597, 11865.834787036913, 11868.382578310528, 11865.690425820727, 10849.923292566918, 11877.163395211239, 11878.633179151106, 11880.802717282115, 11880.838418842648, 10858.223645051079, 13929.087670790965, 11884.312634368544, 11885.740302610217, 11881.179121170588, 13935.346876677071, 10864.199549952857, 10875.43394463362, 11391.287510004971, 10886.606540490906, 13960.29600174639, 10892.655607904459, 10894.490294892665, 13967.847828100428, 10894.864942399305, 11407.067578425966, 10898.714144097386, 11406.169844915781, 10907.217728801412, 13987.457804886002, 14002.434981999842, 11451.38514658938, 14015.551325562934, 11461.401114299866, 10954.309590277544, 11467.445400650162, 10956.26068567026, 10957.415808119662, 10969.388695441778, 10980.377905117737, 14059.880759076286, 14063.392946069715, 10995.438746566717, 11509.497989861175, 10997.594885514303, 11013.251110373247, 14089.241765795106, 11530.425189735992, 11530.473992377942, 11532.554954654868, 14092.267605062194, 11533.094272392287, 11021.145757958104, 11024.541444504704, 11042.036615283285, 11048.40839579417, 11050.075312756635, 14128.161861119866, 11057.349802638106, 11057.50532881252, 11059.588923750349, 13619.359614728868, 13622.400079447476, 14135.291266733053, 14136.841341193845, 14137.076427074306, 14135.258773867012, 14137.818782829756, 11581.968603624584, 14135.410034464003, 11583.66727520369, 11073.666983215377, 14151.657874364659, 14153.187895667372, 14154.50325882925, 14158.769379401729, 14159.931767629196, 14158.065120144323, 14161.389328379595, 13648.606392076073, 13653.66014734908, 14165.179072834037, 14168.656851029025, 14168.709118924397, 11609.033556779848, 14173.693017822568, 14176.206957810544, 11106.910015892621, 14179.71737563397, 14180.135088570216, 14181.785557255616, 14181.874294924928, 10598.674055224928, 14181.61991734171, 14181.209956961846, 11624.754923648878, 14186.41121283391, 10600.709017644967, 11118.132752456013, 14193.058853907769, 14197.474091995906, 13686.647888824353, 14197.398980661885, 14204.252360793998, 14205.201742299863, 14208.140116896566, 14208.214091018654, 14209.743330744868, 14209.466090721431, 14212.577314918897, 11139.46254064028, 11145.96245492077, 13707.414876931056, 10637.688211198025, 11154.23443474297, 11674.927631983188, 13722.210568515655, 13731.40879633644, 13735.750859499682, 11178.67826930429, 13740.372682445084, 11693.813334954906, 11184.36033710207, 11191.531165693286, 11191.760180531961, 10680.926265577966, 11710.220302216585, 11204.540892578925, 11717.00682309517, 11721.317782507398, 13775.093023424579, 10704.395639133165, 10705.768793623738, 11222.466304146683, 13785.175279262474, 13788.240391550054, 10723.243161732928, 11241.58225808352, 11243.318096244908, 10735.717908376178, 11771.675303934726, 10751.07246998718] 158\n"
     ]
    },
    {
     "name": "stderr",
     "output_type": "stream",
     "text": [
      "20 : carpet-color label's deleting process: 100%|██████████████████████████████████████| 5/5 [00:00<00:00, 2546.01it/s]\n"
     ]
    },
    {
     "name": "stdout",
     "output_type": "stream",
     "text": [
      "del:  ./data/train/11340.png\n",
      "del:  ./data/train/14125.png\n",
      "del:  ./data/train/10866.png\n",
      "del:  ./data/train/11891.png\n",
      "del:  ./data/train/11065.png\n"
     ]
    },
    {
     "name": "stderr",
     "output_type": "stream",
     "text": [
      "20 : carpet-color label's augmentation process: 100%|████████████████████████████████| 158/158 [00:34<00:00,  4.59it/s]\n"
     ]
    },
    {
     "name": "stdout",
     "output_type": "stream",
     "text": [
      "[11033, 13117, 13407] 3\n",
      "[13312.565744963844, 11265.918906967085, 13317.643266051296, 11277.048813326908, 13327.26328294339, 11286.588913087546, 13340.320388751126, 13342.697768777107, 11295.874245235767, 13344.477447896881, 11300.37107736256, 11301.82392348589, 11305.193088880755, 13355.585800371662, 13363.881838273113, 11320.355757697404, 11321.170070113225, 13369.82120634794, 13371.235752567558, 11325.235424769591, 13383.030517121828, 13389.558101215987, 11348.28019032017, 13398.639583043852, 13399.67077085498, 13405.489959657756, 13407.354969322992, 13408.70567855832, 13409.590686148731, 13408.09126263949, 11363.666122187942, 13407.61014837712, 13407.87375616871, 13412.839180248226, 13409.737445241013, 13416.120102798055, 13416.86215704405, 13416.953269574027, 13416.829690129609, 13414.214119690972, 11374.33778845038, 13422.632240593886, 11380.21752835556, 13429.029983182088, 13430.117693602304, 13431.313333839835, 13433.615769002547, 13433.715630191986, 11386.457306249778, 11387.545750775158, 13431.678336175573, 13432.192809179905, 13444.447299119875, 13444.457845483286, 13449.327671570863, 13455.41305215113, 13456.736811384313, 13458.087201287508, 13458.676728667675, 13458.716604698357, 11414.698947501935, 13463.051612652305, 13464.437931737986, 13465.336503477776, 13468.280009561659, 11423.085706742604, 13474.102841092497, 13477.553781678123, 13477.497413974781, 13480.284304872499, 13481.939417813563, 13482.418056540153, 11441.118101262493, 11449.96006480588, 11454.951594084609, 11498.657795119187, 11512.174920566107, 11530.128578738533, 11541.8292879096, 11543.153210576811, 11036.266198675941, 11037.448877843199, 13086.899092289916, 13092.2284176372, 13093.298727740617, 13093.329729676874, 13094.505738895583, 13096.708236722616, 13096.56776649287, 13099.51072894934, 13099.574384287122, 13101.840451175933, 13102.855254740145, 11061.958395484464, 11573.949738775078, 11063.263577911166, 13113.041258199508, 13114.435543555519, 13114.151957581906, 13115.235671688264, 13114.149197686087, 13118.547544941292, 13119.149215796666, 13120.099749503228, 13123.889806760995, 13123.92805787084, 11591.921366589007, 13128.271864616967, 11083.222632911109, 11260.105131594917, 13134.43598516555, 13135.54761608061, 13137.370768374356, 11606.11124525797, 11364.280094449192, 11097.92003807003, 11098.195789450576, 11099.589871686161, 11101.822502885198, 13149.083263357938, 11104.149127251663, 11623.042305870205, 13160.04258201262, 11111.226215038321, 11111.084346047612, 11116.502702517715, 11116.519281204748, 13166.80503772046, 13170.709276861066, 11639.613816633715, 11129.549474608963, 11642.934392722671, 13181.518530353387, 13181.724612642143, 13407.623676278517, 13182.892555746323, 13185.956011478216, 13407.705210474955, 13194.674639341647, 11146.496090111157, 11151.04904362923, 11154.695624860378, 11157.864658529601, 11159.46471670231, 11162.948957500492, 13214.890546409466, 13216.491097396669, 13216.061602512464, 13219.433556965605, 11175.401181507077, 11181.256174815751, 11695.225637107287, 11196.5312220397, 11204.669982607518, 11229.715976005242, 13280.091306759792, 11233.657707159751, 11234.730497299024, 11235.583815521937, 11242.882965592911, 11243.025663698649, 13295.375198025638, 11254.092260410345, 13305.487502559097, 11260.816997669068] 165\n"
     ]
    },
    {
     "name": "stderr",
     "output_type": "stream",
     "text": [
      "21 : carpet-cut label's deleting process: 100%|████████████████████████████████████████| 3/3 [00:00<00:00, 3009.55it/s]\n"
     ]
    },
    {
     "name": "stdout",
     "output_type": "stream",
     "text": [
      "del:  ./data/train/11033.png\n",
      "del:  ./data/train/13117.png\n",
      "del:  ./data/train/13407.png\n"
     ]
    },
    {
     "name": "stderr",
     "output_type": "stream",
     "text": [
      "21 : carpet-cut label's augmentation process: 100%|██████████████████████████████████| 165/165 [00:35<00:00,  4.71it/s]\n"
     ]
    },
    {
     "name": "stdout",
     "output_type": "stream",
     "text": [
      "[12802, 10755, 11274, 12811, 11277, 12305, 12310, 12826, 13339, 10267, 11292, 12318, 12828, 10782, 12833, 10788, 10282, 10795, 13355, 12334, 11320, 13368, 11835, 10812, 12351, 10816, 12865, 13889, 11331, 10311, 12363, 12878, 13903, 11858, 13908, 11354, 10332, 12900, 11883, 10348, 10350, 10864, 11377, 10354, 12915, 10868, 13940, 12410, 13437, 12928, 11394, 11397, 13448, 12425, 12426, 13961, 10892, 11922, 12949, 12441, 12954, 10907, 11939, 10406, 10918, 12967, 11433, 10411, 10924, 10417, 11441, 10931, 10420, 11956, 14007, 13499, 11453, 14013, 13503, 10944, 12481, 12994, 12487, 13005, 12497, 12499, 11478, 11483, 13025, 10469, 12007, 10984, 13031, 12010, 12522, 13543, 14059, 12014, 10994, 12533, 11510, 14075, 11005, 10494, 10495, 12543, 13055, 13577, 13068, 12562, 10517, 10518, 11029, 12569, 11034, 12578, 13605, 14117, 11049, 13105, 11058, 13624, 10041, 13632, 13121, 13635, 12116, 10070, 11099, 13663, 10083, 11624, 12137, 12652, 13164, 10611, 11123, 12148, 12662, 13687, 13172, 10105, 11641, 11131, 11132, 10621, 12669, 13177, 13697, 10626, 11142, 12174, 10127, 13199, 14225, 10643, 13205, 12182, 11159, 14229, 12705, 12194, 12709, 10670, 12209, 13745, 10164, 10687, 13247, 13759, 12742, 11213, 13261, 13267, 11742, 11235, 10213, 13797, 13798, 11754, 12267, 11756, 13802, 13299, 13813, 11255, 12285, 13310, 11775] 189\n",
      "[10500.379952620711, 11142.789685453412, 11142.938880392407, 13448.070448253495, 12815.848085689722, 11925.91410626162, 11160.467184878158, 10908.33445499758, 13087.194254746957, 12963.989364717272, 13610.493989614664, 13360.624329977205, 11954.036986454259, 10931.928579151907, 12854.820379019802, 10807.728750140985, 10424.391404589678, 10815.682448533367, 12358.785921235269, 11982.9805523044, 13008.952357475213, 13137.807772025457, 13783.662438327108, 12127.624037172784, 13281.245620030271, 12898.218431581196, 11108.929328613262, 14058.686822726511, 13802.259031958814, 10219.185482608835, 10477.45516375446, 10351.320532888833, 13172.638130658175, 12665.510245345362, 12540.969307031279, 10494.848782445973] 36\n"
     ]
    },
    {
     "name": "stderr",
     "output_type": "stream",
     "text": [
      "22 : carpet-good label's deleting process: 100%|███████████████████████████████████| 189/189 [00:00<00:00, 3255.02it/s]\n"
     ]
    },
    {
     "name": "stdout",
     "output_type": "stream",
     "text": [
      "del:  ./data/train/12802.png\n",
      "del:  ./data/train/10755.png\n",
      "del:  ./data/train/11274.png\n",
      "del:  ./data/train/12811.png\n",
      "del:  ./data/train/11277.png\n",
      "del:  ./data/train/12305.png\n",
      "del:  ./data/train/12310.png\n",
      "del:  ./data/train/12826.png\n",
      "del:  ./data/train/13339.png\n",
      "del:  ./data/train/10267.png\n",
      "del:  ./data/train/11292.png\n",
      "del:  ./data/train/12318.png\n",
      "del:  ./data/train/12828.png\n",
      "del:  ./data/train/10782.png\n",
      "del:  ./data/train/12833.png\n",
      "del:  ./data/train/10788.png\n",
      "del:  ./data/train/10282.png\n",
      "del:  ./data/train/10795.png\n",
      "del:  ./data/train/13355.png\n",
      "del:  ./data/train/12334.png\n",
      "del:  ./data/train/11320.png\n",
      "del:  ./data/train/13368.png\n",
      "del:  ./data/train/11835.png\n",
      "del:  ./data/train/10812.png\n",
      "del:  ./data/train/12351.png\n",
      "del:  ./data/train/10816.png\n",
      "del:  ./data/train/12865.png\n",
      "del:  ./data/train/13889.png\n",
      "del:  ./data/train/11331.png\n",
      "del:  ./data/train/10311.png\n",
      "del:  ./data/train/12363.png\n",
      "del:  ./data/train/12878.png\n",
      "del:  ./data/train/13903.png\n",
      "del:  ./data/train/11858.png\n",
      "del:  ./data/train/13908.png\n",
      "del:  ./data/train/11354.png\n",
      "del:  ./data/train/10332.png\n",
      "del:  ./data/train/12900.png\n",
      "del:  ./data/train/11883.png\n",
      "del:  ./data/train/10348.png\n",
      "del:  ./data/train/10350.png\n",
      "del:  ./data/train/10864.png\n",
      "del:  ./data/train/11377.png\n",
      "del:  ./data/train/10354.png\n",
      "del:  ./data/train/12915.png\n",
      "del:  ./data/train/10868.png\n",
      "del:  ./data/train/13940.png\n",
      "del:  ./data/train/12410.png\n",
      "del:  ./data/train/13437.png\n",
      "del:  ./data/train/12928.png\n",
      "del:  ./data/train/11394.png\n",
      "del:  ./data/train/11397.png\n",
      "del:  ./data/train/13448.png\n",
      "del:  ./data/train/12425.png\n",
      "del:  ./data/train/12426.png\n",
      "del:  ./data/train/13961.png\n",
      "del:  ./data/train/10892.png\n",
      "del:  ./data/train/11922.png\n",
      "del:  ./data/train/12949.png\n",
      "del:  ./data/train/12441.png\n",
      "del:  ./data/train/12954.png\n",
      "del:  ./data/train/10907.png\n",
      "del:  ./data/train/11939.png\n",
      "del:  ./data/train/10406.png\n",
      "del:  ./data/train/10918.png\n",
      "del:  ./data/train/12967.png\n",
      "del:  ./data/train/11433.png\n",
      "del:  ./data/train/10411.png\n",
      "del:  ./data/train/10924.png\n",
      "del:  ./data/train/10417.png\n",
      "del:  ./data/train/11441.png\n",
      "del:  ./data/train/10931.png\n",
      "del:  ./data/train/10420.png\n",
      "del:  ./data/train/11956.png\n",
      "del:  ./data/train/14007.png\n",
      "del:  ./data/train/13499.png\n",
      "del:  ./data/train/11453.png\n",
      "del:  ./data/train/14013.png\n",
      "del:  ./data/train/13503.png\n",
      "del:  ./data/train/10944.png\n",
      "del:  ./data/train/12481.png\n",
      "del:  ./data/train/12994.png\n",
      "del:  ./data/train/12487.png\n",
      "del:  ./data/train/13005.png\n",
      "del:  ./data/train/12497.png\n",
      "del:  ./data/train/12499.png\n",
      "del:  ./data/train/11478.png\n",
      "del:  ./data/train/11483.png\n",
      "del:  ./data/train/13025.png\n",
      "del:  ./data/train/10469.png\n",
      "del:  ./data/train/12007.png\n",
      "del:  ./data/train/10984.png\n",
      "del:  ./data/train/13031.png\n",
      "del:  ./data/train/12010.png\n",
      "del:  ./data/train/12522.png\n",
      "del:  ./data/train/13543.png\n",
      "del:  ./data/train/14059.png\n",
      "del:  ./data/train/12014.png\n",
      "del:  ./data/train/10994.png\n",
      "del:  ./data/train/12533.png\n",
      "del:  ./data/train/11510.png\n",
      "del:  ./data/train/14075.png\n",
      "del:  ./data/train/11005.png\n",
      "del:  ./data/train/10494.png\n",
      "del:  ./data/train/10495.png\n",
      "del:  ./data/train/12543.png\n",
      "del:  ./data/train/13055.png\n",
      "del:  ./data/train/13577.png\n",
      "del:  ./data/train/13068.png\n",
      "del:  ./data/train/12562.png\n",
      "del:  ./data/train/10517.png\n",
      "del:  ./data/train/10518.png\n",
      "del:  ./data/train/11029.png\n",
      "del:  ./data/train/12569.png\n",
      "del:  ./data/train/11034.png\n",
      "del:  ./data/train/12578.png\n",
      "del:  ./data/train/13605.png\n",
      "del:  ./data/train/14117.png\n",
      "del:  ./data/train/11049.png\n",
      "del:  ./data/train/13105.png\n",
      "del:  ./data/train/11058.png\n",
      "del:  ./data/train/13624.png\n",
      "del:  ./data/train/10041.png\n",
      "del:  ./data/train/13632.png\n",
      "del:  ./data/train/13121.png\n",
      "del:  ./data/train/13635.png\n",
      "del:  ./data/train/12116.png\n",
      "del:  ./data/train/10070.png\n",
      "del:  ./data/train/11099.png\n",
      "del:  ./data/train/13663.png\n",
      "del:  ./data/train/10083.png\n",
      "del:  ./data/train/11624.png\n",
      "del:  ./data/train/12137.png\n",
      "del:  ./data/train/12652.png\n",
      "del:  ./data/train/13164.png\n",
      "del:  ./data/train/10611.png\n",
      "del:  ./data/train/11123.png\n",
      "del:  ./data/train/12148.png\n",
      "del:  ./data/train/12662.png\n",
      "del:  ./data/train/13687.png\n",
      "del:  ./data/train/13172.png\n",
      "del:  ./data/train/10105.png\n",
      "del:  ./data/train/11641.png\n",
      "del:  ./data/train/11131.png\n",
      "del:  ./data/train/11132.png\n",
      "del:  ./data/train/10621.png\n",
      "del:  ./data/train/12669.png\n",
      "del:  ./data/train/13177.png\n",
      "del:  ./data/train/13697.png\n",
      "del:  ./data/train/10626.png\n",
      "del:  ./data/train/11142.png\n",
      "del:  ./data/train/12174.png\n",
      "del:  ./data/train/10127.png\n",
      "del:  ./data/train/13199.png\n",
      "del:  ./data/train/14225.png\n",
      "del:  ./data/train/10643.png\n",
      "del:  ./data/train/13205.png\n",
      "del:  ./data/train/12182.png\n",
      "del:  ./data/train/11159.png\n",
      "del:  ./data/train/14229.png\n",
      "del:  ./data/train/12705.png\n",
      "del:  ./data/train/12194.png\n",
      "del:  ./data/train/12709.png\n",
      "del:  ./data/train/10670.png\n",
      "del:  ./data/train/12209.png\n",
      "del:  ./data/train/13745.png\n",
      "del:  ./data/train/10164.png\n",
      "del:  ./data/train/10687.png\n",
      "del:  ./data/train/13247.png\n",
      "del:  ./data/train/13759.png\n",
      "del:  ./data/train/12742.png\n",
      "del:  ./data/train/11213.png\n",
      "del:  ./data/train/13261.png\n",
      "del:  ./data/train/13267.png\n",
      "del:  ./data/train/11742.png\n",
      "del:  ./data/train/11235.png\n",
      "del:  ./data/train/10213.png\n",
      "del:  ./data/train/13797.png\n",
      "del:  ./data/train/13798.png\n",
      "del:  ./data/train/11754.png\n",
      "del:  ./data/train/12267.png\n",
      "del:  ./data/train/11756.png\n",
      "del:  ./data/train/13802.png\n",
      "del:  ./data/train/13299.png\n",
      "del:  ./data/train/13813.png\n",
      "del:  ./data/train/11255.png\n",
      "del:  ./data/train/12285.png\n",
      "del:  ./data/train/13310.png\n",
      "del:  ./data/train/11775.png\n"
     ]
    },
    {
     "name": "stderr",
     "output_type": "stream",
     "text": [
      "22 : carpet-good label's augmentation process: 100%|███████████████████████████████████| 36/36 [00:07<00:00,  4.66it/s]\n"
     ]
    },
    {
     "name": "stdout",
     "output_type": "stream",
     "text": [
      "[10711, 12260, 14030, 12432, 10641, 12823, 10010] 7\n",
      "[12806.628270524321, 10247.1399493226, 11789.252236067772, 12303.288643075268, 10263.661673843602, 12315.772485131287, 12316.11164920929, 12325.427649103101, 12326.754448275957, 12332.990320572777, 10289.81437958038, 12338.933149963581, 12338.337144187517, 10295.211651687208, 13879.1112029515, 10821.813999258426, 12360.27588300916, 11856.160451700489, 10837.86563191133, 10326.070192009205, 12888.098962090953, 12379.055454920854, 12390.291862689075, 10349.910162021542, 10352.190941814659, 10359.638504985192, 12408.150933222973, 11897.932897414263, 10371.561310161447, 12421.257920564307, 12423.721517035903, 12425.753365034872, 11916.08413226981, 12434.770153920226, 10386.9257128218, 10386.597258694625, 10390.6885034228, 10392.62274999487, 10393.389312084637, 10394.510674589845, 10395.721926831637, 11420.501654512822, 10405.515028290967, 13480.714599603973, 10921.476337786555, 10410.45701862416, 11968.273612363824, 12485.876953418516, 12486.865264304235, 13521.611710907931, 10450.67485806612, 12516.599987686002, 10469.900086017162, 10475.667778875164, 10477.720454155477, 12526.12640810331, 12527.335108613986, 10480.736482302415, 10494.795921028692, 12551.24659727577, 10509.552461689025, 10515.957448453213, 12057.188774086135, 10522.88388569674, 12578.705449191206, 13604.943309875438, 10022.499004156918, 10539.222832988793, 10540.757961966725, 13611.212317114758, 10043.673765836633, 10557.234235110307, 10562.343232669835, 12613.650970160917, 12615.645021210223, 12105.350809938478, 10064.316081713243, 10587.88603277236, 12281.869023160905, 10590.819824459615, 12641.874580347276, 13155.944812063222, 11113.81836598376, 10601.408707015218, 13678.95019190441, 10096.527307229506, 12657.777144134661, 13169.540337457425, 12657.252379244725, 10102.797441197767, 10103.369720113322, 10104.751931498662, 10106.744947915668, 12667.857014516972, 12672.761701515548, 12673.363702850422, 12674.95058775631, 10627.978316432927, 12677.198017146658, 10630.911639145794, 10630.295627729014, 10122.236635766083, 12685.623415502965, 10129.365152077242, 11154.79875612675, 10649.703524305387, 12707.708327655002, 10662.465447151944, 10663.210539169258, 12208.265025958111, 12209.767701496046, 11699.284825493198, 12220.262934882043, 11711.776079266283, 12736.424821714527, 10178.675835188407, 11715.349249324963, 11717.274008300812, 10697.56314308718, 10700.672994204946, 13773.729553455092, 10701.214713157915, 10703.502618885317, 12751.72836087118, 10707.134521107964, 10203.85385414855, 11741.591970946904, 10207.327103548147, 12772.487273372484, 12266.102812444236, 12271.8627692404, 12272.014497780092, 10225.761306450324, 11765.177728171402, 12790.918704015507, 12281.931462338212, 12282.146156943889] 137\n"
     ]
    },
    {
     "name": "stderr",
     "output_type": "stream",
     "text": [
      "23 : carpet-hole label's deleting process: 100%|███████████████████████████████████████| 7/7 [00:00<00:00, 3444.41it/s]\n"
     ]
    },
    {
     "name": "stdout",
     "output_type": "stream",
     "text": [
      "del:  ./data/train/10711.png\n",
      "del:  ./data/train/12260.png\n",
      "del:  ./data/train/14030.png\n",
      "del:  ./data/train/12432.png\n",
      "del:  ./data/train/10641.png\n",
      "del:  ./data/train/12823.png\n",
      "del:  ./data/train/10010.png\n"
     ]
    },
    {
     "name": "stderr",
     "output_type": "stream",
     "text": [
      "23 : carpet-hole label's augmentation process: 100%|█████████████████████████████████| 137/137 [00:29<00:00,  4.70it/s]\n"
     ]
    },
    {
     "name": "stdout",
     "output_type": "stream",
     "text": [
      "[11859, 11158, 12879] 3\n",
      "[10242.099309917183, 11276.9019607893, 11277.083891679009, 12832.8902567134, 11175.471890241124, 10822.526891621255, 12879.298241684714, 12880.148301287396, 12881.527396110538, 12883.121105871984, 12883.840623829097, 10326.030916869531, 11863.014956153349, 11863.021493448865, 12887.825509376516, 12890.795888478693, 10843.890448463646, 12889.019896120039, 11869.446287665432, 12887.084703676983, 12892.535901363326, 11868.566926277, 12386.738623509247, 11356.232646286657, 11177.809706186838, 12892.58824797827, 11878.8898234751, 11894.673861302539, 11894.13911041644, 11905.218567998765, 12419.687407354713, 11396.25112167285, 11908.340506349396, 12428.963546204632, 11919.700063992033, 11923.990136782886, 12451.097093416285, 11958.863136317497, 11966.603320040249, 10953.787221623968, 10954.231943369889, 10956.067026359733, 10959.850561202631, 10962.74042232463, 10963.771597073706, 10968.126302539154, 10971.608740338757, 10980.487281486641, 11515.060207744858, 10495.16554781182, 12043.362717665736, 11019.831648102792, 11540.66071357056, 11030.319413155601, 11553.639736972435, 11044.585494710507, 12073.656810623661, 12075.875956749062, 12593.696504845899, 10549.727636454161, 11062.061308000924, 11070.81172629742, 11072.906632713593, 11079.8220106536, 11095.497484120116, 11096.760752189823, 10585.362166263407, 12635.86861996024, 11099.395539705212, 12125.392398090262, 12639.118509070342, 11104.912476070971, 11114.53787380052, 11115.063472529582, 12141.447041405056, 11120.851024591466, 11122.558185971919, 11166.51046956508, 12665.689750854792, 11134.241417350418, 12159.860076038753, 11138.235273472897, 11142.117453424855, 11170.61081185166, 12175.74942098249, 11665.470785078258, 11665.65510430661, 11161.166633114968, 11162.76122212667, 11163.751581515764, 11174.760327459071, 11165.664437673002, 11166.356741417587, 11167.965221718992, 11167.91561018287, 11175.52774027181, 11170.713463490329, 11169.252141891366, 11172.732738482358, 11170.031044782803, 11174.530004531745, 11174.130773466004, 11176.474967492833, 11176.115654186227, 11176.355069790836, 11174.553899079972, 10156.068195556756, 11181.830223627678, 11182.556464158433, 11183.782639978468, 11184.665519766115, 11183.796666950648, 11185.047402107797, 11188.041989986912, 11188.022404552696, 11184.915269941832, 11188.59210114253, 11191.914460324893, 11190.76529551026, 11190.714222339264, 11189.864820787276, 10173.397509674374, 11191.996777211334, 11181.994857790396, 11182.222854601012, 11182.5515448735, 11718.74229912605, 10696.432474791145, 11209.90489991182, 11183.947269035163, 11183.504056155445, 11212.324455642607, 11183.965631217092, 11185.418351694952, 11735.562767996364, 11187.723314875962, 11746.892804416837, 11188.015286762338, 12775.13800559253, 10218.800719755129, 11242.074977789089, 11242.548975607902, 10740.594607283509, 11773.62131230401] 144\n"
     ]
    },
    {
     "name": "stderr",
     "output_type": "stream",
     "text": [
      "24 : carpet-metal_contamination label's deleting process: 100%|██████████████████████████████████| 3/3 [00:00<?, ?it/s]\n"
     ]
    },
    {
     "name": "stdout",
     "output_type": "stream",
     "text": [
      "del:  ./data/train/11859.png\n",
      "del:  ./data/train/11158.png\n",
      "del:  ./data/train/12879.png\n"
     ]
    },
    {
     "name": "stderr",
     "output_type": "stream",
     "text": [
      "24 : carpet-metal_contamination label's augmentation process: 100%|██████████████████| 144/144 [00:32<00:00,  4.36it/s]\n"
     ]
    },
    {
     "name": "stdout",
     "output_type": "stream",
     "text": [
      "[12560, 13620, 10470] 3\n",
      "[12806.431489702118, 10769.02120500627, 10773.572225465574, 13849.710460483946, 10781.867307980689, 13343.129046734653, 13345.102934531607, 10787.206171826414, 13863.925770313266, 10791.204162681368, 10791.192803921424, 13354.348478929252, 12847.601783922993, 13885.75803191502, 10814.558765550262, 12871.043603142347, 10826.3209772388, 13900.218332397038, 13900.972699207336, 10835.618308092695, 13907.238890022189, 10837.524324059834, 13911.484223916634, 13913.55177194381, 10844.883199389607, 10849.150673232554, 10338.335232271318, 13924.73042112077, 13925.794299423644, 10852.090737657827, 10856.861974236703, 13423.826150109004, 13423.772697386314, 10867.66727710085, 13945.455064446522, 13444.735257349395, 12423.41188225744, 12423.450539323472, 12429.086572830582, 10393.102238147434, 12444.459742365223, 12960.911886852373, 10916.749483162048, 10924.708789550903, 13486.069359357205, 10416.549863717462, 10929.46752130205, 10928.412103589915, 10416.2137820949, 12464.314316288232, 10421.547641157607, 10422.041412034507, 12471.819228868953, 12475.111104699256, 10432.687855981949, 12486.01574461876, 10440.087714261108, 10954.39136595931, 12493.309617759774, 10447.31304311105, 12512.041123145977, 13034.426856616845, 13562.034134441932, 12540.341653550351, 12540.323125024188, 10496.155933466642, 10503.220575629479, 13063.32681740589, 12553.809369791446, 10505.084208092101, 12561.208159231448, 12563.903998437267, 12572.737854824745, 12572.652283066884, 10535.56307853074, 12584.016693969575, 10540.655379591733, 13105.363134413214, 12604.185005486475, 10561.148666230329, 10561.585581277157, 10564.431700935143, 10564.593745554099, 10569.656835868493, 13131.634468635619, 13643.666950709974, 10572.70756816668, 12623.847541516803, 10575.380878293703, 12626.113555899805, 10581.66257832383, 12632.424492645525, 12637.251080504655, 10592.898093876693, 13678.140864437526, 12657.091342632453, 13683.64783318948, 13175.880400486452, 10617.482010861, 12666.935141171169, 12671.84901241005, 13699.41618901319, 12679.5606007617, 12681.762070644927, 12682.210235908244, 10635.080404897803, 10636.828860620839, 10635.539880489308, 10638.287807154533, 13714.142869752664, 13719.672995788136, 10647.400859933936, 10671.063068679123, 10677.508144478223, 10684.39069816788, 10684.96202225533, 10684.402103714692, 13245.441831199287, 12738.431173660072, 13251.041944641474, 10695.108655253576, 12749.790875823224, 13264.35355583766, 10712.868239623613, 10719.319599280907, 10732.71257463517, 10735.402222141392, 10735.40440343614, 10751.514012554951] 129\n"
     ]
    },
    {
     "name": "stderr",
     "output_type": "stream",
     "text": [
      "25 : carpet-thread label's deleting process: 100%|█████████████████████████████████████| 3/3 [00:00<00:00, 3005.95it/s]\n"
     ]
    },
    {
     "name": "stdout",
     "output_type": "stream",
     "text": [
      "del:  ./data/train/12560.png\n",
      "del:  ./data/train/13620.png\n",
      "del:  ./data/train/10470.png\n"
     ]
    },
    {
     "name": "stderr",
     "output_type": "stream",
     "text": [
      "25 : carpet-thread label's augmentation process: 100%|███████████████████████████████| 129/129 [00:27<00:00,  4.68it/s]\n"
     ]
    },
    {
     "name": "stdout",
     "output_type": "stream",
     "text": [
      "[13392, 10582, 12230] 3\n",
      "[11777.50679011728, 12551.445796657543, 13575.339426740444, 13577.114527471567, 13576.277174473938, 13838.495852285207, 13838.294991357781, 13585.963585001611, 13586.3866589846, 11027.418737287497, 13844.096943253837, 13589.540334262609, 13846.296487637144, 13847.184786673342, 13589.083099667563, 13079.261722058882, 13083.907692186924, 12829.873847438099, 13343.584152097208, 13347.951274070147, 12838.94074767957, 12071.23188019024, 12589.366052737147, 10801.80069199617, 13617.507851870176, 12339.158389785733, 10803.591632788231, 11829.12732319465, 12596.905195533884, 11574.940797469466, 11577.801509085013, 13115.59907921265, 13119.536485500137, 13376.952943524646, 10817.897955164475, 11075.920776198429, 13637.855041195055, 12617.971524597353, 12362.888938479075, 13388.211029575146, 11091.269534165249, 13145.57968587933, 13402.758414081705, 13658.646310809147, 13404.405004270848, 11356.565485395195, 13404.817468630597, 13407.532417136768, 12385.529448542953, 11874.811494075273, 10849.362403774065, 12900.111944485261, 11885.151283584017, 12912.684605728546, 13685.092877655421, 13688.851140834498, 13691.140898622867, 13697.066268446471, 12931.939687480546, 13444.863318676116, 12163.876653364718, 13702.860996401603, 11659.579813953898, 10894.233165676667, 11153.228001853011, 13714.599735026828, 13818.622197591118, 13818.702604152562, 13461.797496404604, 13462.331072129922, 12440.174624265159, 13465.809101012495, 13723.478646039346, 12701.239453441296, 12967.749180980389, 13480.894277834375, 10663.540608315663, 12458.136093239706, 13743.308113625286, 11183.870705116618, 13490.775711409173, 12722.994939937415, 12722.881531615309, 12470.96978904483, 10939.679162432942, 12733.728918592971, 13758.509645927501, 12735.214478151387, 13761.335790765648, 13507.312148417943, 10948.518714714812, 13765.83956292007, 13257.066939786164, 11210.165472702294, 13516.59732278786, 13004.573676809445, 13007.878562201982, 11983.615337595718, 10706.278655281982, 11475.679271345414, 13524.672106123408, 12758.982412261266, 12506.947660115922, 13530.95833509421, 13787.357484737611, 10715.517490155984, 10721.737831975874, 12769.608159347192, 12260.306486209009, 13541.121336328391, 13801.837512058515, 10730.517269335674, 11243.871201684482, 12267.588578860388, 13038.683290698815, 13807.113311134552, 13552.64375982702, 12016.59593449982, 12272.306821626345, 13817.863397595316, 13818.19659874753, 13563.652691842686] 122\n"
     ]
    },
    {
     "name": "stderr",
     "output_type": "stream",
     "text": [
      "26 : grid-bent label's deleting process: 100%|█████████████████████████████████████████| 3/3 [00:00<00:00, 3008.11it/s]\n"
     ]
    },
    {
     "name": "stdout",
     "output_type": "stream",
     "text": [
      "del:  ./data/train/13392.png\n",
      "del:  ./data/train/10582.png\n",
      "del:  ./data/train/12230.png\n"
     ]
    },
    {
     "name": "stderr",
     "output_type": "stream",
     "text": [
      "26 : grid-bent label's augmentation process: 100%|███████████████████████████████████| 122/122 [00:35<00:00,  3.45it/s]\n"
     ]
    },
    {
     "name": "stdout",
     "output_type": "stream",
     "text": [
      "[13989, 13067, 10292, 10679, 11259] 5\n",
      "[13315.699806808154, 10766.222250380068, 11280.361852672344, 12311.755411430446, 13847.367623713571, 12826.82202261408, 10782.361600203667, 13343.851296919203, 10789.517435781449, 12329.812978739752, 12331.09787749049, 13873.892664298757, 13877.975139165428, 10299.921391529524, 11324.663876074352, 13890.030151687017, 10306.116721022343, 10312.858404268392, 13385.972836290688, 10314.779373510788, 11337.656195387279, 10318.833253065603, 10318.822307076069, 11856.501893763076, 13902.413236486784, 11347.160083155073, 10325.235529883825, 10838.579786998871, 11352.375753484563, 12889.041381807943, 11355.121491590564, 10843.04725672141, 10337.05685031517, 12897.26039085647, 10341.780527389872, 12393.282363267033, 13938.090535395719, 11379.77707286882, 13944.045145802256, 13436.478648448008, 12414.966839853283, 10880.749583742983, 12928.482738298002, 12416.237401852397, 11911.633194979371, 12425.941277160659, 10378.608212051418, 11918.078150302255, 10389.521239162545, 12951.244319107946, 12951.14045964487, 10914.491543844808, 10916.19880253262, 10405.231736553464, 10410.436593196884, 10410.423143975448, 10930.380112696836, 10422.110050625975, 13496.115822604066, 14009.421953834479, 11972.198405332056, 10949.537605988815, 10444.675155043005, 13009.152240082689, 10451.116308507728, 10453.843992246751, 11486.208219660597, 10978.62518225504, 10981.73574073051, 14053.089872056578, 14056.131351928443, 14059.435696650784, 10988.773531652338, 10989.210728682987, 12524.421317199698, 10482.685406658602, 10487.802662880733, 10999.924391267525, 13051.675769797914, 11008.666846870092, 11011.050224538607, 13600.837073391414, 14113.44455526991, 10531.793063254274, 11556.403516886927, 10540.458437176214, 14129.158124420263, 12083.897244856587, 13110.167895531948, 12601.600896006868, 14138.595254655424, 10567.803186146397, 13641.200841258249, 11091.546817407234, 13659.388575703792, 10591.390099605469, 11107.114849263331, 12647.025872447159, 13162.177839759852, 10606.771129446808, 14190.391399656086, 10613.496834641492, 11126.390504110186, 11127.544260932827, 11130.652450563104, 12671.250808503853, 14209.600637852378, 14212.189257232085, 11141.387778042445, 13188.746316010725, 10628.743544437306, 11148.244872362578, 14220.723587050055, 14220.730011762129, 11152.492271248995, 11158.970041896726, 13719.30791432743, 11159.43185721345, 14230.267524584942, 10650.090309303523, 13722.881452216672, 13210.302592896931, 13212.117461712278, 13727.708045433621, 11168.238209335495, 14250.72366378074, 13739.951222137533, 11178.872514481844, 13234.383776561826, 10676.570956423857, 10684.350569227287, 11715.655520661008, 13260.631151018712, 13774.205030002478, 12247.51553843401, 13783.22740080434, 10718.523198342296, 13284.197816286061, 10724.866786451761, 10724.817254391959, 10727.89869536036, 12776.539322939674, 10738.664287045824, 12794.14197849841, 11261.384101634862] 145\n"
     ]
    },
    {
     "name": "stderr",
     "output_type": "stream",
     "text": [
      "27 : grid-broken label's deleting process: 100%|███████████████████████████████████████| 5/5 [00:00<00:00, 5012.31it/s]\n"
     ]
    },
    {
     "name": "stdout",
     "output_type": "stream",
     "text": [
      "del:  ./data/train/13989.png\n",
      "del:  ./data/train/13067.png\n",
      "del:  ./data/train/10292.png\n",
      "del:  ./data/train/10679.png\n",
      "del:  ./data/train/11259.png\n"
     ]
    },
    {
     "name": "stderr",
     "output_type": "stream",
     "text": [
      "27 : grid-broken label's augmentation process: 100%|█████████████████████████████████| 145/145 [00:39<00:00,  3.66it/s]\n"
     ]
    },
    {
     "name": "stdout",
     "output_type": "stream",
     "text": [
      "[11798, 10509, 11182, 11919] 4\n",
      "[13323.172841806236, 10768.372414504656, 11792.817735010887, 11284.072993752707, 11798.772595786064, 11290.17712937198, 11803.25105798985, 11808.72254120627, 11297.55817392958, 10799.188265260778, 11823.232768107951, 11311.799226826386, 12850.703224448795, 11828.456433049201, 11831.781141820791, 12346.366257033786, 11840.692919860525, 12352.380318758263, 11331.635934357693, 11843.063687922335, 11843.762969102403, 13384.496976211825, 11339.196925934995, 12899.837854622707, 10851.06248745409, 10853.674089766258, 10857.409015215675, 11886.093086391622, 11889.153628184538, 11890.125359904314, 11891.879941562109, 11892.898256971948, 11897.512470646128, 11386.786924836724, 11389.168330795921, 11901.199470851154, 10877.34302569545, 13440.457925300618, 11905.429001917128, 12416.077308566128, 11902.383898695902, 11910.921053201548, 12422.859534326957, 11916.184043673213, 11918.429865137816, 11920.252818839519, 11921.112623750949, 12946.43415790186, 11414.132435589829, 10902.58477914348, 10909.306198770646, 10911.275617799944, 10913.079977332829, 13475.74337114706, 11427.080192812506, 11949.108903267672, 10928.248934951456, 10929.34147783506, 12465.441584447015, 10931.835578118365, 11443.379809448084, 11962.115615102075, 12992.484851521564, 11972.624231314721, 11464.808589805418, 12492.58265005987, 11469.793916525143, 13521.885983225211, 13522.216741019189, 11473.573260949255, 11990.780548588633, 12504.481514805666, 12516.771529318034, 12520.070943166114, 13036.231353116784, 13561.058766669046, 13049.63230014459, 11008.626857566016, 13069.597294476403, 13582.482263328813, 13079.727937824342, 13085.059109634953, 13601.735059403827, 13602.944880962987, 13097.237339401345, 12587.58007004333, 11565.698906657623, 11057.177851012779, 11570.714212340354, 13107.89710064298, 12090.638653800303, 11066.5755377471, 11074.907223732882, 11595.643639879212, 12108.751343428463, 12627.546625037385, 11604.921663864661, 12124.345009061322, 13671.96664666164, 13671.978691672553, 11624.841310799053, 11638.270807887351, 12667.285356917819, 12675.570637778104, 11653.358635523036, 13191.112986408418, 12169.254978668005, 10638.606679915381, 12176.548360453304, 10674.094155062627, 11189.927926147582, 11191.419588696284, 11191.427352340552, 13244.471099445389, 12222.03966640361, 11200.768216050978, 11200.686995601081, 13250.819521329075, 11201.511574076183, 12228.844089539361, 11717.603928487983, 13264.867549283936, 10712.07398904879, 11226.781525289653, 11742.452720426369, 12773.741534321733, 11759.440737204364, 11254.831050983596, 10745.87086283589] 129\n"
     ]
    },
    {
     "name": "stderr",
     "output_type": "stream",
     "text": [
      "28 : grid-glue label's deleting process: 100%|█████████████████████████████████████████| 4/4 [00:00<00:00, 4030.08it/s]\n"
     ]
    },
    {
     "name": "stdout",
     "output_type": "stream",
     "text": [
      "del:  ./data/train/11798.png\n",
      "del:  ./data/train/10509.png\n",
      "del:  ./data/train/11182.png\n",
      "del:  ./data/train/11919.png\n"
     ]
    },
    {
     "name": "stderr",
     "output_type": "stream",
     "text": [
      "28 : grid-glue label's augmentation process: 100%|███████████████████████████████████| 129/129 [00:38<00:00,  3.32it/s]\n"
     ]
    },
    {
     "name": "stdout",
     "output_type": "stream",
     "text": [
      "[11777, 13826, 10768, 13841, 11288, 13337, 11803, 10780, 13343, 11810, 11817, 12841, 10285, 13358, 13363, 11829, 11318, 12342, 11324, 12860, 13886, 11328, 10306, 12866, 13901, 11345, 10323, 12883, 10329, 12889, 13915, 11870, 11359, 11871, 12388, 11365, 13926, 13928, 11882, 12907, 13932, 12397, 11888, 13425, 11890, 11386, 13948, 11392, 12417, 10370, 10374, 12935, 11413, 11925, 13982, 11937, 13990, 10408, 13481, 13993, 12472, 10428, 10951, 11976, 13512, 13514, 11468, 12493, 12496, 10961, 11985, 13008, 13012, 11481, 14045, 14047, 10464, 10978, 13549, 10481, 12529, 12022, 13558, 12538, 12028, 13056, 14084, 12038, 12550, 13574, 12041, 11535, 11025, 12049, 14098, 11545, 12057, 11040, 11556, 11045, 12580, 12079, 12081, 11571, 12084, 12595, 12600, 13116, 11581, 14143, 14146, 14151, 10056, 12617, 12107, 11085, 11093, 11094, 14166, 14169, 10586, 12123, 12125, 10592, 14177, 10596, 13161, 13676, 12653, 13677, 11119, 10608, 13680, 13170, 12661, 11640, 13689, 12154, 12668, 13189, 10630, 11655, 10632, 13706, 12693, 10647, 10648, 11671, 10658, 11687, 12713, 11179, 11692, 13234, 11701, 13750, 12216, 11195, 11201, 13253, 13254, 10696, 12744, 10188, 12753, 11222, 11737, 12249, 12761, 10717, 12256, 13792, 10211, 13796, 12262, 11245, 10222, 10229, 12792] 179\n",
      "[12037.435821085379, 13702.974686707706, 12938.926000749718, 12682.263538802577, 10642.821030064286, 11923.323101865224, 11923.111101795057, 12442.734392924642, 11546.194260798047, 11932.00558409781, 11681.641253498203, 12580.78002576443, 13609.806281554964, 12586.116527409704, 12588.40638754355, 11181.09389151478, 11438.752858261048, 12595.58296125925, 12211.138126788852, 13750.389102265453, 11323.899763814097, 11452.082906151161, 13115.824613734852, 14267.082894341183, 12997.22241125652, 13900.885136480747, 12236.21230594379, 11089.544089228686, 10965.121721651822, 11094.687442882323, 13914.2931122799, 12890.146425645626, 10077.705146672019, 11870.307677701825, 10593.637847412088, 10980.259128676149, 10603.349224412043, 12396.353220312403, 13676.554272945532, 13165.238191246402, 12783.741314907595, 13937.872028248854, 12658.140848250107, 13555.992337771255, 13556.763205612167, 11640.679596734446, 12027.451354402989, 10366.75288517582, 12543.968595383161] 49\n"
     ]
    },
    {
     "name": "stderr",
     "output_type": "stream",
     "text": [
      "29 : grid-good label's deleting process: 100%|█████████████████████████████████████| 179/179 [00:00<00:00, 4273.25it/s]\n"
     ]
    },
    {
     "name": "stdout",
     "output_type": "stream",
     "text": [
      "del:  ./data/train/11777.png\n",
      "del:  ./data/train/13826.png\n",
      "del:  ./data/train/10768.png\n",
      "del:  ./data/train/13841.png\n",
      "del:  ./data/train/11288.png\n",
      "del:  ./data/train/13337.png\n",
      "del:  ./data/train/11803.png\n",
      "del:  ./data/train/10780.png\n",
      "del:  ./data/train/13343.png\n",
      "del:  ./data/train/11810.png\n",
      "del:  ./data/train/11817.png\n",
      "del:  ./data/train/12841.png\n",
      "del:  ./data/train/10285.png\n",
      "del:  ./data/train/13358.png\n",
      "del:  ./data/train/13363.png\n",
      "del:  ./data/train/11829.png\n",
      "del:  ./data/train/11318.png\n",
      "del:  ./data/train/12342.png\n",
      "del:  ./data/train/11324.png\n",
      "del:  ./data/train/12860.png\n",
      "del:  ./data/train/13886.png\n",
      "del:  ./data/train/11328.png\n",
      "del:  ./data/train/10306.png\n",
      "del:  ./data/train/12866.png\n",
      "del:  ./data/train/13901.png\n",
      "del:  ./data/train/11345.png\n",
      "del:  ./data/train/10323.png\n",
      "del:  ./data/train/12883.png\n",
      "del:  ./data/train/10329.png\n",
      "del:  ./data/train/12889.png\n",
      "del:  ./data/train/13915.png\n",
      "del:  ./data/train/11870.png\n",
      "del:  ./data/train/11359.png\n",
      "del:  ./data/train/11871.png\n",
      "del:  ./data/train/12388.png\n",
      "del:  ./data/train/11365.png\n",
      "del:  ./data/train/13926.png\n",
      "del:  ./data/train/13928.png\n",
      "del:  ./data/train/11882.png\n",
      "del:  ./data/train/12907.png\n",
      "del:  ./data/train/13932.png\n",
      "del:  ./data/train/12397.png\n",
      "del:  ./data/train/11888.png\n",
      "del:  ./data/train/13425.png\n",
      "del:  ./data/train/11890.png\n",
      "del:  ./data/train/11386.png\n",
      "del:  ./data/train/13948.png\n",
      "del:  ./data/train/11392.png\n",
      "del:  ./data/train/12417.png\n",
      "del:  ./data/train/10370.png\n",
      "del:  ./data/train/10374.png\n",
      "del:  ./data/train/12935.png\n",
      "del:  ./data/train/11413.png\n",
      "del:  ./data/train/11925.png\n",
      "del:  ./data/train/13982.png\n",
      "del:  ./data/train/11937.png\n",
      "del:  ./data/train/13990.png\n",
      "del:  ./data/train/10408.png\n",
      "del:  ./data/train/13481.png\n",
      "del:  ./data/train/13993.png\n",
      "del:  ./data/train/12472.png\n",
      "del:  ./data/train/10428.png\n",
      "del:  ./data/train/10951.png\n",
      "del:  ./data/train/11976.png\n",
      "del:  ./data/train/13512.png\n",
      "del:  ./data/train/13514.png\n",
      "del:  ./data/train/11468.png\n",
      "del:  ./data/train/12493.png\n",
      "del:  ./data/train/12496.png\n",
      "del:  ./data/train/10961.png\n",
      "del:  ./data/train/11985.png\n",
      "del:  ./data/train/13008.png\n",
      "del:  ./data/train/13012.png\n",
      "del:  ./data/train/11481.png\n",
      "del:  ./data/train/14045.png\n",
      "del:  ./data/train/14047.png\n",
      "del:  ./data/train/10464.png\n",
      "del:  ./data/train/10978.png\n",
      "del:  ./data/train/13549.png\n",
      "del:  ./data/train/10481.png\n",
      "del:  ./data/train/12529.png\n",
      "del:  ./data/train/12022.png\n",
      "del:  ./data/train/13558.png\n",
      "del:  ./data/train/12538.png\n",
      "del:  ./data/train/12028.png\n",
      "del:  ./data/train/13056.png\n",
      "del:  ./data/train/14084.png\n",
      "del:  ./data/train/12038.png\n",
      "del:  ./data/train/12550.png\n",
      "del:  ./data/train/13574.png\n",
      "del:  ./data/train/12041.png\n",
      "del:  ./data/train/11535.png\n",
      "del:  ./data/train/11025.png\n",
      "del:  ./data/train/12049.png\n",
      "del:  ./data/train/14098.png\n",
      "del:  ./data/train/11545.png\n",
      "del:  ./data/train/12057.png\n",
      "del:  ./data/train/11040.png\n",
      "del:  ./data/train/11556.png\n",
      "del:  ./data/train/11045.png\n",
      "del:  ./data/train/12580.png\n",
      "del:  ./data/train/12079.png\n",
      "del:  ./data/train/12081.png\n",
      "del:  ./data/train/11571.png\n",
      "del:  ./data/train/12084.png\n",
      "del:  ./data/train/12595.png\n",
      "del:  ./data/train/12600.png\n",
      "del:  ./data/train/13116.png\n",
      "del:  ./data/train/11581.png\n",
      "del:  ./data/train/14143.png\n",
      "del:  ./data/train/14146.png\n",
      "del:  ./data/train/14151.png\n",
      "del:  ./data/train/10056.png\n",
      "del:  ./data/train/12617.png\n",
      "del:  ./data/train/12107.png\n",
      "del:  ./data/train/11085.png\n",
      "del:  ./data/train/11093.png\n",
      "del:  ./data/train/11094.png\n",
      "del:  ./data/train/14166.png\n",
      "del:  ./data/train/14169.png\n",
      "del:  ./data/train/10586.png\n",
      "del:  ./data/train/12123.png\n",
      "del:  ./data/train/12125.png\n",
      "del:  ./data/train/10592.png\n",
      "del:  ./data/train/14177.png\n",
      "del:  ./data/train/10596.png\n",
      "del:  ./data/train/13161.png\n",
      "del:  ./data/train/13676.png\n",
      "del:  ./data/train/12653.png\n",
      "del:  ./data/train/13677.png\n",
      "del:  ./data/train/11119.png\n",
      "del:  ./data/train/10608.png\n",
      "del:  ./data/train/13680.png\n",
      "del:  ./data/train/13170.png\n",
      "del:  ./data/train/12661.png\n",
      "del:  ./data/train/11640.png\n",
      "del:  ./data/train/13689.png\n",
      "del:  ./data/train/12154.png\n",
      "del:  ./data/train/12668.png\n",
      "del:  ./data/train/13189.png\n",
      "del:  ./data/train/10630.png\n",
      "del:  ./data/train/11655.png\n",
      "del:  ./data/train/10632.png\n",
      "del:  ./data/train/13706.png\n",
      "del:  ./data/train/12693.png\n",
      "del:  ./data/train/10647.png\n",
      "del:  ./data/train/10648.png\n",
      "del:  ./data/train/11671.png\n",
      "del:  ./data/train/10658.png\n",
      "del:  ./data/train/11687.png\n",
      "del:  ./data/train/12713.png\n",
      "del:  ./data/train/11179.png\n",
      "del:  ./data/train/11692.png\n",
      "del:  ./data/train/13234.png\n",
      "del:  ./data/train/11701.png\n",
      "del:  ./data/train/13750.png\n",
      "del:  ./data/train/12216.png\n",
      "del:  ./data/train/11195.png\n",
      "del:  ./data/train/11201.png\n",
      "del:  ./data/train/13253.png\n",
      "del:  ./data/train/13254.png\n",
      "del:  ./data/train/10696.png\n",
      "del:  ./data/train/12744.png\n",
      "del:  ./data/train/10188.png\n",
      "del:  ./data/train/12753.png\n",
      "del:  ./data/train/11222.png\n",
      "del:  ./data/train/11737.png\n",
      "del:  ./data/train/12249.png\n",
      "del:  ./data/train/12761.png\n",
      "del:  ./data/train/10717.png\n",
      "del:  ./data/train/12256.png\n",
      "del:  ./data/train/13792.png\n",
      "del:  ./data/train/10211.png\n",
      "del:  ./data/train/13796.png\n",
      "del:  ./data/train/12262.png\n",
      "del:  ./data/train/11245.png\n",
      "del:  ./data/train/10222.png\n",
      "del:  ./data/train/10229.png\n",
      "del:  ./data/train/12792.png\n"
     ]
    },
    {
     "name": "stderr",
     "output_type": "stream",
     "text": [
      "29 : grid-good label's augmentation process: 100%|█████████████████████████████████████| 49/49 [00:15<00:00,  3.19it/s]\n"
     ]
    },
    {
     "name": "stdout",
     "output_type": "stream",
     "text": [
      "[11024, 12969, 12827] 3\n",
      "[13312.953560194168, 11778.041184823825, 13339.037030715752, 12839.052661299003, 12848.532655203015, 12855.729568712, 12855.740983853044, 12859.215086208736, 13376.48550684284, 11334.377150294124, 12875.75226526177, 12876.677918292951, 13904.326489331466, 13905.727524434535, 12884.496780534542, 13398.776478607117, 12888.826870887686, 12891.607850862301, 13920.586517746957, 13409.637994051182, 13925.330439124913, 12391.204733773917, 13417.908157947568, 13421.473490041546, 13422.573278396729, 12914.543434236613, 13943.190748025994, 13435.263280572193, 13949.446548328428, 13951.69667343124, 13952.924039101563, 13444.434594231952, 12933.594662514079, 13446.107613866065, 12935.208429664073, 11399.230464956892, 13449.224811052658, 13962.045193997097, 11915.927904347845, 12938.188132749834, 12942.674586874904, 13456.557746209724, 13460.255016018571, 12950.39297982896, 12952.344777746695, 11421.131132523635, 13982.363001976035, 13987.240276006913, 13995.909260688455, 13485.876607889875, 12974.127885118247, 12462.863854992673, 14002.970406665945, 12986.293309169976, 12988.740135446707, 12996.700156783421, 12999.44202055155, 12487.151610478624, 11468.822297660832, 13010.285757160063, 13020.730497218547, 13543.84998996194, 13031.664884357233, 13549.21263516712, 13037.805549156203, 13044.209505484085, 12024.868069835306, 12028.911171174375, 12549.786646996505, 13573.012801575082, 13064.645951632201, 13065.441459143167, 13579.780934210525, 11027.494134106306, 13595.624348339448, 11037.86856672835, 11037.300900629769, 13088.377849454922, 11041.838132150355, 14116.527772964731, 13097.080452355434, 13622.98715792123, 14137.204366309015, 13625.179745224936, 11068.631378934013, 13631.892880922534, 13121.943014109203, 11587.590223092073, 11075.114964723842, 12611.353291568646, 11076.455477400956, 12103.20468647542, 11105.322364282127, 11113.039390048765, 14189.44877848652, 11120.536029588253, 14194.18741598661, 11634.623534357836, 13178.874553625046, 13178.841773850807, 11132.891821501576, 11137.89769208082, 13185.273047222629, 11140.437949592093, 13704.89406797463, 14218.63764851513, 11659.814909881055, 13203.134468880044, 12191.167451351186, 13728.583365541645, 11169.93937380983, 13219.35686377106, 11185.858145882634, 11185.927581643482, 11187.950222384901, 13747.66486243976, 11702.140030511944, 11197.676131922897, 13249.802562576153, 13263.853852093496, 11222.92938413995, 11227.318525032933, 13277.771779284669, 11232.88483767655, 12771.55078633559, 11236.323079724421, 13284.3418491188, 13799.39219974788, 13295.279796958892, 13303.080215740016, 13818.077529922062, 12285.398634956035] 132\n"
     ]
    },
    {
     "name": "stderr",
     "output_type": "stream",
     "text": [
      "30 : grid-metal_contamination label's deleting process: 100%|██████████████████████████| 3/3 [00:00<00:00, 3008.83it/s]\n"
     ]
    },
    {
     "name": "stdout",
     "output_type": "stream",
     "text": [
      "del:  ./data/train/11024.png\n",
      "del:  ./data/train/12969.png\n",
      "del:  ./data/train/12827.png\n"
     ]
    },
    {
     "name": "stderr",
     "output_type": "stream",
     "text": [
      "30 : grid-metal_contamination label's augmentation process: 100%|████████████████████| 132/132 [00:37<00:00,  3.49it/s]\n"
     ]
    },
    {
     "name": "stdout",
     "output_type": "stream",
     "text": [
      "[11562, 11470] 2\n",
      "[11266.027142499392, 13827.26104351487, 12804.379052181424, 11267.230429487267, 11783.30488849901, 11784.914552680606, 13327.684426746466, 13842.201484665218, 11796.865577175751, 11797.149434785293, 13849.21532943963, 12315.155062809667, 11805.231374708139, 12321.584493869621, 13861.151525769277, 13350.549348201004, 13869.155123999988, 11309.445242397478, 11309.054620005249, 13366.044824363917, 11324.255684987844, 13885.304870520737, 11324.406607775885, 11329.635481457492, 12354.067585017547, 11850.176088880857, 11854.658770719538, 12369.764149613628, 13908.113205635069, 11863.880071812928, 12375.490317984022, 11357.46429578936, 11872.556084897662, 12385.051601456093, 11370.228377313411, 12394.958325711457, 11888.145120432944, 12918.92494103019, 11383.128863154847, 13949.236238240868, 13975.41170954519, 11417.67260248874, 12443.545609301513, 13980.079777758277, 13980.13658274353, 11423.912353601518, 13984.864510334204, 13987.82804209346, 13989.870966859653, 11942.334371822884, 12991.527769679784, 11456.31674008292, 11973.413954385602, 11974.415044473928, 11477.950161753073, 11478.248183395446, 11478.683781996411, 11482.072042489335, 11482.32903436636, 11483.626554618404, 10971.812302651522, 11488.382011215646, 11488.389196981552, 11493.225311228138, 11493.143115129124, 13554.217356884557, 11001.323532784194, 11514.029376136903, 11514.846122588244, 13053.347181110175, 13053.231726251879, 11524.428269065385, 11527.905090613462, 11026.247638709694, 11028.587240115357, 13077.688644057698, 11540.009295676866, 12055.291923536952, 11028.76446741746, 11554.363817845206, 11554.769434423384, 11558.108067977491, 11563.736463506122, 13614.1883975041, 13107.755187369712, 11061.798840670419, 13632.887537530381, 11586.425978092559, 13636.618189233399, 13645.193834425925, 13655.264741892383, 11105.822442258801, 11106.340870547589, 13669.883748500624, 13161.899398207388, 13678.182424001656, 11632.217074182347, 11122.72365348116, 11130.833099112553, 13690.560271818542, 11647.58089399232, 11137.329434292604, 13706.644853418391, 13706.017920513434, 11659.317848914989, 12173.707672960705, 11662.69836815064, 11151.281196998127, 12685.935883525844, 13214.523424063416, 11167.586716518248, 11172.325784315226, 11689.445559898342, 11182.287031378772, 13746.684398804, 11707.342902125121, 11708.588935227079, 11709.100347699352, 11718.4252348087, 11721.593527781406, 11724.789515623484, 12240.353448079446, 11737.53305437741, 11738.4188600243, 11225.434924410087, 11232.038754463649, 12260.44898159299, 13797.27083701791, 13810.464726849586, 11772.462629461732] 130\n"
     ]
    },
    {
     "name": "stderr",
     "output_type": "stream",
     "text": [
      "31 : grid-thread label's deleting process: 100%|█████████████████████████████████████████████████| 2/2 [00:00<?, ?it/s]\n"
     ]
    },
    {
     "name": "stdout",
     "output_type": "stream",
     "text": [
      "del:  ./data/train/11562.png\n",
      "del:  ./data/train/11470.png\n"
     ]
    },
    {
     "name": "stderr",
     "output_type": "stream",
     "text": [
      "31 : grid-thread label's augmentation process: 100%|█████████████████████████████████| 130/130 [00:39<00:00,  3.29it/s]\n"
     ]
    },
    {
     "name": "stdout",
     "output_type": "stream",
     "text": [
      "[12864, 12354, 14086, 13959, 11209, 10033, 12696] 7\n",
      "[11777.952759894037, 14081.45594014124, 13570.143043237404, 13830.677273876172, 12550.894093959821, 11276.843664310883, 11788.385047235975, 12558.255620742406, 12560.529972097727, 12819.115548478856, 10772.900951126177, 11288.340480464709, 12570.917985266778, 10267.541231796886, 12831.910903614918, 12832.238015668183, 13856.584770480842, 11300.155590424683, 13604.460558285604, 12069.68013928327, 12842.08838487762, 12844.507515584057, 13105.664458504794, 12596.095236197427, 12853.218444540758, 12854.277643894953, 10039.534390970075, 13880.063377873734, 10039.506707119941, 10041.530181151147, 10049.694480236529, 10050.07919216693, 10050.14704691541, 12613.926598456706, 10054.288720842484, 12872.7624137913, 12619.890286378719, 12364.571318878256, 12628.692465700138, 10069.66062467136, 10071.64191024987, 10072.847696490157, 10073.197206851077, 10071.352134600358, 12382.308066598898, 10081.631073276272, 10082.38716068597, 10082.593346354579, 10852.052410253596, 13928.542094783083, 12394.116066760214, 10347.298599862865, 12396.12758810817, 10861.939519149055, 12910.657321914929, 12912.520183778428, 13680.923464749121, 10362.333342551667, 12923.88181422268, 12666.85269543489, 11902.734128578473, 13951.27882878647, 12926.091993583532, 13953.775024840179, 12675.642968897362, 12677.333837824503, 13704.000331365603, 12683.155935137373, 13197.844419284867, 12697.026882114602, 12445.242654637932, 12957.25223980663, 12192.968350984775, 12706.755141700132, 12963.747630048214, 10148.141461229494, 12454.77793159058, 11174.049249569389, 12715.812312312966, 12464.197761717965, 10931.267048135416, 12469.44988784778, 14010.796179720604, 12731.547976051881, 12989.304145203309, 14014.208123073719, 12733.926143446653, 10175.950598693304, 14017.173996826414, 14018.180902259053, 13767.809316414525, 10952.285819740691, 13768.586560181368, 12748.496560446943, 14029.669559870954, 12748.43248041371, 13772.072807895118, 13777.449415544688, 12499.888943741315, 12755.501214510987, 14038.559099877506, 13016.86223487159, 10712.189718293233, 12506.548230082277, 10972.867617842774, 14045.127337220367, 12510.766596196108, 10973.50383574847, 12514.665871510198, 12771.846819555702, 14052.741891884574, 13797.707174710287, 13800.765547162659, 11753.615917283498, 11501.923370521494, 12527.478184334506, 12527.200653713557, 12529.082114278104, 13042.39678673376, 10223.937427981196, 12786.54878278154, 14069.816087084748, 12274.468325185673, 12786.653625024454, 11515.944266568253] 125\n"
     ]
    },
    {
     "name": "stderr",
     "output_type": "stream",
     "text": [
      "32 : hazelnut-crack label's deleting process: 100%|████████████████████████████████████| 7/7 [00:00<00:00, 3483.64it/s]\n"
     ]
    },
    {
     "name": "stdout",
     "output_type": "stream",
     "text": [
      "del:  ./data/train/12864.png\n",
      "del:  ./data/train/12354.png\n",
      "del:  ./data/train/14086.png\n",
      "del:  ./data/train/13959.png\n",
      "del:  ./data/train/11209.png\n",
      "del:  ./data/train/10033.png\n",
      "del:  ./data/train/12696.png\n"
     ]
    },
    {
     "name": "stderr",
     "output_type": "stream",
     "text": [
      "32 : hazelnut-crack label's augmentation process: 100%|██████████████████████████████| 125/125 [01:10<00:00,  1.77it/s]\n"
     ]
    },
    {
     "name": "stdout",
     "output_type": "stream",
     "text": [
      "[12034, 12486, 12809, 12914, 10200, 10942] 6\n",
      "[11272.36216603878, 11275.650298650096, 12299.82882736428, 12816.875649724077, 13330.378275646524, 10264.95094791578, 12313.13851806603, 11290.705068809828, 11290.632312313275, 12826.647765288668, 12829.591059653421, 10781.67887969218, 10271.21182586275, 12834.299247880648, 10276.845679755606, 12840.934834331261, 11309.912361646953, 10286.548854611176, 12848.010859923324, 12848.646522412295, 11314.273623825327, 11317.634557109253, 11320.262961849894, 13371.636860697328, 11839.433468164634, 11844.299340818845, 12870.291911745026, 12870.617814079811, 10824.607573113572, 12876.562163281806, 11341.19980719973, 12880.88994698146, 10834.099478502592, 11349.148585454986, 11353.228854170264, 12897.547937245798, 11363.422343314856, 11363.482597692237, 10341.401110814651, 12906.871811157347, 11374.476657488, 11903.194773681946, 12934.153733632265, 12426.324257396562, 12940.297920013723, 10383.0561169552, 11416.169223239214, 11420.17771236344, 11422.19788901123, 13472.263935963767, 11937.719330261285, 11431.563258428236, 11952.953693936575, 12980.708202073922, 12471.209416916186, 13500.906556479791, 12995.586183828935, 10952.82111908137, 11464.712941771284, 11985.80737188268, 13017.766764108825, 12505.641953737984, 11484.37030923469, 12510.097187924981, 11998.648944941055, 10977.553413681504, 10982.348685400131, 10983.494454584677, 10984.694542626468, 11499.919294472227, 10992.571363283434, 12532.439530857224, 12537.739029418279, 12538.063168824914, 11003.944825828119, 11017.2171583941, 12042.772947876922, 12559.178859020445, 13587.212080768037, 11540.1546562676, 10519.565047651511, 11038.19910604262, 11551.255221664413, 12071.622772101897, 13097.314606231661, 12589.269937271183, 12595.309161030133, 11572.388027082272, 13109.20913904888, 12085.738550414513, 12599.137753070456, 12092.039022821351, 12611.225569808124, 12620.61538717613, 10577.328216621372, 12115.879227364067, 12628.87730681636, 12630.518577963854, 10583.60279938206, 12632.505818425929, 10591.217014275056, 10594.090228486712, 13672.556411030482, 12650.384973467477, 12651.038180273785, 12146.085500432622, 12658.250968380004, 10619.918830382845, 11132.921744874282, 11136.662808803698, 11138.571527092885, 12163.038438387284, 13188.246697010085, 12678.366619105505, 12678.111225593397, 11144.467155704857, 13190.369021055527, 10632.551503410163, 12169.577490096866, 12176.14979118261, 10645.616959192705, 12697.100830875332, 11176.579724390214, 12201.352317319452, 13225.195303180473, 11180.665417550794, 11182.040517843296, 11207.480807015214, 13255.67224937669, 12747.88889367141, 11213.903881280163, 12754.411779098458, 13267.15379088797, 12757.925794982964, 10204.20907652024, 11228.70892566385, 11757.037829904777, 12782.881444523306, 11775.827718824028] 139\n"
     ]
    },
    {
     "name": "stderr",
     "output_type": "stream",
     "text": [
      "33 : hazelnut-cut label's deleting process: 100%|██████████████████████████████████████| 6/6 [00:00<00:00, 3010.63it/s]\n"
     ]
    },
    {
     "name": "stdout",
     "output_type": "stream",
     "text": [
      "del:  ./data/train/12034.png\n",
      "del:  ./data/train/12486.png\n",
      "del:  ./data/train/12809.png\n",
      "del:  ./data/train/12914.png\n",
      "del:  ./data/train/10200.png\n",
      "del:  ./data/train/10942.png\n"
     ]
    },
    {
     "name": "stderr",
     "output_type": "stream",
     "text": [
      "33 : hazelnut-cut label's augmentation process: 100%|████████████████████████████████| 139/139 [01:20<00:00,  1.72it/s]\n"
     ]
    },
    {
     "name": "stdout",
     "output_type": "stream",
     "text": [
      "[11265, 10245, 11270, 13833, 12299, 12300, 13323, 11276, 11279, 11280, 11282, 13842, 12822, 13340, 13345, 10274, 12836, 13348, 11814, 13862, 11816, 12843, 11821, 12846, 13876, 13367, 10301, 12862, 11326, 13890, 13382, 11851, 12877, 10318, 12367, 10322, 13395, 10848, 13408, 12901, 12394, 11884, 10349, 10865, 12402, 13427, 12411, 12924, 12412, 11387, 11391, 11901, 10369, 10881, 10884, 11396, 13445, 10889, 12941, 11918, 12431, 10389, 13461, 13463, 10906, 11931, 10397, 12445, 12446, 13983, 10405, 11942, 12970, 11437, 10926, 13997, 13489, 10935, 11450, 12479, 14016, 14018, 13508, 11975, 14025, 13002, 10443, 12491, 10957, 12494, 11467, 11469, 13518, 10450, 12498, 14029, 10454, 10967, 13526, 11482, 12507, 13020, 11485, 10974, 10465, 12513, 11494, 10471, 12008, 11498, 10475, 13547, 10477, 11504, 12530, 13556, 10997, 13045, 11509, 13562, 11515, 13563, 11519, 12546, 14083, 10500, 12037, 10506, 12557, 11533, 14096, 11026, 10515, 10516, 11540, 10519, 12055, 12570, 13087, 10529, 13090, 14115, 10532, 11557, 11046, 10025, 10539, 11052, 10541, 12078, 10031, 14126, 12593, 14132, 13109, 12602, 12606, 12607, 10560, 11073, 14142, 14145, 12102, 11591, 13128, 13639, 11768, 10572, 14157, 13140, 12280, 12635, 11263, 11616, 12641, 11618, 10087, 13160, 13162, 11114, 11116, 13163, 11118, 10607, 11626, 13169, 11630, 11633, 12146, 10102, 10107, 12158, 12679, 13703, 12682, 12172, 10637, 10125, 13200, 14231, 10136, 12702, 13726, 13727, 13217, 14247, 14026, 12714, 13739, 12201, 11694, 10673, 10161, 14257, 12727, 13240, 14267, 14268, 10173, 11710, 12738, 11208, 10185, 13258, 11724, 13774, 10703, 13263, 12756, 12246, 12759, 11736, 10713, 10714, 10203, 12764, 11234, 11746, 13284, 11748, 10214, 10215, 12776, 11757, 11246, 11758, 13296, 11761, 10738, 13809, 10224, 12791, 13304, 12282, 12797, 13311] 256\n",
      "[] 0\n"
     ]
    },
    {
     "name": "stderr",
     "output_type": "stream",
     "text": [
      "34 : hazelnut-good label's deleting process: 100%|█████████████████████████████████| 256/256 [00:00<00:00, 3600.72it/s]\n"
     ]
    },
    {
     "name": "stdout",
     "output_type": "stream",
     "text": [
      "del:  ./data/train/11265.png\n",
      "del:  ./data/train/10245.png\n",
      "del:  ./data/train/11270.png\n",
      "del:  ./data/train/13833.png\n",
      "del:  ./data/train/12299.png\n",
      "del:  ./data/train/12300.png\n",
      "del:  ./data/train/13323.png\n",
      "del:  ./data/train/11276.png\n",
      "del:  ./data/train/11279.png\n",
      "del:  ./data/train/11280.png\n",
      "del:  ./data/train/11282.png\n",
      "del:  ./data/train/13842.png\n",
      "del:  ./data/train/12822.png\n",
      "del:  ./data/train/13340.png\n",
      "del:  ./data/train/13345.png\n",
      "del:  ./data/train/10274.png\n",
      "del:  ./data/train/12836.png\n",
      "del:  ./data/train/13348.png\n",
      "del:  ./data/train/11814.png\n",
      "del:  ./data/train/13862.png\n",
      "del:  ./data/train/11816.png\n",
      "del:  ./data/train/12843.png\n",
      "del:  ./data/train/11821.png\n",
      "del:  ./data/train/12846.png\n",
      "del:  ./data/train/13876.png\n",
      "del:  ./data/train/13367.png\n",
      "del:  ./data/train/10301.png\n",
      "del:  ./data/train/12862.png\n",
      "del:  ./data/train/11326.png\n",
      "del:  ./data/train/13890.png\n",
      "del:  ./data/train/13382.png\n",
      "del:  ./data/train/11851.png\n",
      "del:  ./data/train/12877.png\n",
      "del:  ./data/train/10318.png\n",
      "del:  ./data/train/12367.png\n",
      "del:  ./data/train/10322.png\n",
      "del:  ./data/train/13395.png\n",
      "del:  ./data/train/10848.png\n",
      "del:  ./data/train/13408.png\n",
      "del:  ./data/train/12901.png\n",
      "del:  ./data/train/12394.png\n",
      "del:  ./data/train/11884.png\n",
      "del:  ./data/train/10349.png\n",
      "del:  ./data/train/10865.png\n",
      "del:  ./data/train/12402.png\n",
      "del:  ./data/train/13427.png\n",
      "del:  ./data/train/12411.png\n",
      "del:  ./data/train/12924.png\n",
      "del:  ./data/train/12412.png\n",
      "del:  ./data/train/11387.png\n",
      "del:  ./data/train/11391.png\n",
      "del:  ./data/train/11901.png\n",
      "del:  ./data/train/10369.png\n",
      "del:  ./data/train/10881.png\n",
      "del:  ./data/train/10884.png\n",
      "del:  ./data/train/11396.png\n",
      "del:  ./data/train/13445.png\n",
      "del:  ./data/train/10889.png\n",
      "del:  ./data/train/12941.png\n",
      "del:  ./data/train/11918.png\n",
      "del:  ./data/train/12431.png\n",
      "del:  ./data/train/10389.png\n",
      "del:  ./data/train/13461.png\n",
      "del:  ./data/train/13463.png\n",
      "del:  ./data/train/10906.png\n",
      "del:  ./data/train/11931.png\n",
      "del:  ./data/train/10397.png\n",
      "del:  ./data/train/12445.png\n",
      "del:  ./data/train/12446.png\n",
      "del:  ./data/train/13983.png\n",
      "del:  ./data/train/10405.png\n",
      "del:  ./data/train/11942.png\n",
      "del:  ./data/train/12970.png\n",
      "del:  ./data/train/11437.png\n",
      "del:  ./data/train/10926.png\n",
      "del:  ./data/train/13997.png\n",
      "del:  ./data/train/13489.png\n",
      "del:  ./data/train/10935.png\n",
      "del:  ./data/train/11450.png\n",
      "del:  ./data/train/12479.png\n",
      "del:  ./data/train/14016.png\n",
      "del:  ./data/train/14018.png\n",
      "del:  ./data/train/13508.png\n",
      "del:  ./data/train/11975.png\n",
      "del:  ./data/train/14025.png\n",
      "del:  ./data/train/13002.png\n",
      "del:  ./data/train/10443.png\n",
      "del:  ./data/train/12491.png\n",
      "del:  ./data/train/10957.png\n",
      "del:  ./data/train/12494.png\n",
      "del:  ./data/train/11467.png\n",
      "del:  ./data/train/11469.png\n",
      "del:  ./data/train/13518.png\n",
      "del:  ./data/train/10450.png\n",
      "del:  ./data/train/12498.png\n",
      "del:  ./data/train/14029.png\n",
      "del:  ./data/train/10454.png\n",
      "del:  ./data/train/10967.png\n",
      "del:  ./data/train/13526.png\n",
      "del:  ./data/train/11482.png\n",
      "del:  ./data/train/12507.png\n",
      "del:  ./data/train/13020.png\n",
      "del:  ./data/train/11485.png\n",
      "del:  ./data/train/10974.png\n",
      "del:  ./data/train/10465.png\n",
      "del:  ./data/train/12513.png\n",
      "del:  ./data/train/11494.png\n",
      "del:  ./data/train/10471.png\n",
      "del:  ./data/train/12008.png\n",
      "del:  ./data/train/11498.png\n",
      "del:  ./data/train/10475.png\n",
      "del:  ./data/train/13547.png\n",
      "del:  ./data/train/10477.png\n",
      "del:  ./data/train/11504.png\n",
      "del:  ./data/train/12530.png\n",
      "del:  ./data/train/13556.png\n",
      "del:  ./data/train/10997.png\n",
      "del:  ./data/train/13045.png\n",
      "del:  ./data/train/11509.png\n",
      "del:  ./data/train/13562.png\n",
      "del:  ./data/train/11515.png\n",
      "del:  ./data/train/13563.png\n",
      "del:  ./data/train/11519.png\n",
      "del:  ./data/train/12546.png\n",
      "del:  ./data/train/14083.png\n",
      "del:  ./data/train/10500.png\n",
      "del:  ./data/train/12037.png\n",
      "del:  ./data/train/10506.png\n",
      "del:  ./data/train/12557.png\n",
      "del:  ./data/train/11533.png\n",
      "del:  ./data/train/14096.png\n",
      "del:  ./data/train/11026.png\n",
      "del:  ./data/train/10515.png\n",
      "del:  ./data/train/10516.png\n",
      "del:  ./data/train/11540.png\n",
      "del:  ./data/train/10519.png\n",
      "del:  ./data/train/12055.png\n",
      "del:  ./data/train/12570.png\n",
      "del:  ./data/train/13087.png\n",
      "del:  ./data/train/10529.png\n",
      "del:  ./data/train/13090.png\n",
      "del:  ./data/train/14115.png\n",
      "del:  ./data/train/10532.png\n",
      "del:  ./data/train/11557.png\n",
      "del:  ./data/train/11046.png\n",
      "del:  ./data/train/10025.png\n",
      "del:  ./data/train/10539.png\n",
      "del:  ./data/train/11052.png\n",
      "del:  ./data/train/10541.png\n",
      "del:  ./data/train/12078.png\n",
      "del:  ./data/train/10031.png\n",
      "del:  ./data/train/14126.png\n",
      "del:  ./data/train/12593.png\n",
      "del:  ./data/train/14132.png\n",
      "del:  ./data/train/13109.png\n",
      "del:  ./data/train/12602.png\n",
      "del:  ./data/train/12606.png\n",
      "del:  ./data/train/12607.png\n",
      "del:  ./data/train/10560.png\n",
      "del:  ./data/train/11073.png\n",
      "del:  ./data/train/14142.png\n",
      "del:  ./data/train/14145.png\n",
      "del:  ./data/train/12102.png\n",
      "del:  ./data/train/11591.png\n",
      "del:  ./data/train/13128.png\n",
      "del:  ./data/train/13639.png\n",
      "del:  ./data/train/11768.png\n",
      "del:  ./data/train/10572.png\n",
      "del:  ./data/train/14157.png\n",
      "del:  ./data/train/13140.png\n",
      "del:  ./data/train/12280.png\n",
      "del:  ./data/train/12635.png\n",
      "del:  ./data/train/11263.png\n",
      "del:  ./data/train/11616.png\n",
      "del:  ./data/train/12641.png\n",
      "del:  ./data/train/11618.png\n",
      "del:  ./data/train/10087.png\n",
      "del:  ./data/train/13160.png\n",
      "del:  ./data/train/13162.png\n",
      "del:  ./data/train/11114.png\n",
      "del:  ./data/train/11116.png\n",
      "del:  ./data/train/13163.png\n",
      "del:  ./data/train/11118.png\n",
      "del:  ./data/train/10607.png\n",
      "del:  ./data/train/11626.png\n",
      "del:  ./data/train/13169.png\n",
      "del:  ./data/train/11630.png\n",
      "del:  ./data/train/11633.png\n",
      "del:  ./data/train/12146.png\n",
      "del:  ./data/train/10102.png\n",
      "del:  ./data/train/10107.png\n",
      "del:  ./data/train/12158.png\n",
      "del:  ./data/train/12679.png\n",
      "del:  ./data/train/13703.png\n",
      "del:  ./data/train/12682.png\n",
      "del:  ./data/train/12172.png\n",
      "del:  ./data/train/10637.png\n",
      "del:  ./data/train/10125.png\n",
      "del:  ./data/train/13200.png\n",
      "del:  ./data/train/14231.png\n",
      "del:  ./data/train/10136.png\n",
      "del:  ./data/train/12702.png\n",
      "del:  ./data/train/13726.png\n",
      "del:  ./data/train/13727.png\n",
      "del:  ./data/train/13217.png\n",
      "del:  ./data/train/14247.png\n",
      "del:  ./data/train/14026.png\n",
      "del:  ./data/train/12714.png\n",
      "del:  ./data/train/13739.png\n",
      "del:  ./data/train/12201.png\n",
      "del:  ./data/train/11694.png\n",
      "del:  ./data/train/10673.png\n",
      "del:  ./data/train/10161.png\n",
      "del:  ./data/train/14257.png\n",
      "del:  ./data/train/12727.png\n",
      "del:  ./data/train/13240.png\n",
      "del:  ./data/train/14267.png\n",
      "del:  ./data/train/14268.png\n",
      "del:  ./data/train/10173.png\n",
      "del:  ./data/train/11710.png\n",
      "del:  ./data/train/12738.png\n",
      "del:  ./data/train/11208.png\n",
      "del:  ./data/train/10185.png\n",
      "del:  ./data/train/13258.png\n",
      "del:  ./data/train/11724.png\n",
      "del:  ./data/train/13774.png\n",
      "del:  ./data/train/10703.png\n",
      "del:  ./data/train/13263.png\n",
      "del:  ./data/train/12756.png\n",
      "del:  ./data/train/12246.png\n",
      "del:  ./data/train/12759.png\n",
      "del:  ./data/train/11736.png\n",
      "del:  ./data/train/10713.png\n",
      "del:  ./data/train/10714.png\n",
      "del:  ./data/train/10203.png\n",
      "del:  ./data/train/12764.png\n",
      "del:  ./data/train/11234.png\n",
      "del:  ./data/train/11746.png\n",
      "del:  ./data/train/13284.png\n",
      "del:  ./data/train/11748.png\n",
      "del:  ./data/train/10214.png\n",
      "del:  ./data/train/10215.png\n",
      "del:  ./data/train/12776.png\n",
      "del:  ./data/train/11757.png\n",
      "del:  ./data/train/11246.png\n",
      "del:  ./data/train/11758.png\n",
      "del:  ./data/train/13296.png\n",
      "del:  ./data/train/11761.png\n",
      "del:  ./data/train/10738.png\n",
      "del:  ./data/train/13809.png\n",
      "del:  ./data/train/10224.png\n",
      "del:  ./data/train/12791.png\n",
      "del:  ./data/train/13304.png\n",
      "del:  ./data/train/12282.png\n",
      "del:  ./data/train/12797.png\n",
      "del:  ./data/train/13311.png\n"
     ]
    },
    {
     "name": "stderr",
     "output_type": "stream",
     "text": [
      "34 : hazelnut-good label's augmentation process: 0it [00:00, ?it/s]\n"
     ]
    },
    {
     "name": "stdout",
     "output_type": "stream",
     "text": [
      "[10688, 12088, 12090, 13237] 4\n",
      "[11784.297591500941, 13835.18452259724, 11277.57209863613, 13851.185905242019, 13853.451469004114, 12325.94192470777, 11305.632264275602, 11308.054197169025, 12846.15132380308, 11842.04657555297, 11848.288124269971, 13384.18508161834, 11850.083816572436, 11343.758221582564, 10324.390086444011, 10332.36126572825, 13916.682647096668, 13411.587166356669, 11878.85650455784, 11366.933813923202, 10346.15567789134, 10348.81182708586, 13935.800431371776, 11890.307020828666, 10866.5555182118, 13428.959010138395, 11380.64729968462, 11388.88841380718, 11390.292362917187, 11392.685154106826, 11393.679627299534, 11394.056393863963, 11394.463905312417, 11394.870283915112, 10377.262135479294, 13963.462340824166, 13963.401139392092, 13968.712573876257, 10909.531573882743, 11421.508792861649, 11426.963598054548, 11429.248721870426, 11947.824058757154, 11437.429191401112, 13491.664050723972, 11446.842981961661, 11447.335737857506, 11450.88991948848, 10431.30286201705, 10441.81477746191, 10957.889594588918, 14030.615480359947, 10959.645862078492, 11473.441825855585, 10961.735092205778, 13523.474264026532, 14039.72031811417, 10456.9588137633, 10459.260015437036, 14045.382110010934, 11486.542048439542, 13538.735169263693, 13542.69508208491, 11497.848181100613, 12009.389048816449, 13547.22955791537, 14059.10673776453, 13041.554891043446, 14066.794179743416, 12024.710647873027, 11520.549448786142, 13569.3881899018, 14090.930722059296, 11535.067099422075, 14096.408534293083, 12069.248041388455, 11056.935102138628, 10544.834631826412, 12088.594754006275, 12088.262275294563, 12089.416082755995, 12088.794767391719, 12089.909964131859, 12089.062742417264, 12089.107827555246, 12089.284031309153, 12089.731211634611, 12089.663813347077, 10556.502199999955, 10565.36268015167, 11606.174717896329, 13662.856108704138, 10553.258004296287, 13671.217690468182, 11639.849693580456, 10619.098511848846, 11650.491805251808, 11142.989974674354, 12088.855280365813, 12088.414740464817, 12088.311392261023, 12088.91776414192, 12089.407608506825, 12089.038155831611, 12089.7695124899, 13722.926204061005, 13722.960399237318, 10647.143033240176, 13725.723244963696, 12089.298098851417, 12089.04779186354, 11170.914569500297, 13732.080328668268, 13736.545996223906, 13739.012024968853, 11182.59899753405, 10672.231882244614, 13234.949004532687, 11702.261324984265, 11708.723789307145, 11721.15915577988, 11210.491178585444, 12235.642329214781, 11724.072888392382, 11733.120438571774, 13272.914029258742, 11738.689174098494, 10721.331139449412, 11233.09288565039, 12261.229501368653, 13797.061192015492, 12273.162226590483, 10741.065033115734] 133\n"
     ]
    },
    {
     "name": "stderr",
     "output_type": "stream",
     "text": [
      "35 : hazelnut-hole label's deleting process: 100%|█████████████████████████████████████| 4/4 [00:00<00:00, 2005.88it/s]\n"
     ]
    },
    {
     "name": "stdout",
     "output_type": "stream",
     "text": [
      "del:  ./data/train/10688.png\n",
      "del:  ./data/train/12088.png\n",
      "del:  ./data/train/12090.png\n",
      "del:  ./data/train/13237.png\n"
     ]
    },
    {
     "name": "stderr",
     "output_type": "stream",
     "text": [
      "35 : hazelnut-hole label's augmentation process: 100%|███████████████████████████████| 133/133 [01:14<00:00,  1.78it/s]\n"
     ]
    },
    {
     "name": "stdout",
     "output_type": "stream",
     "text": [
      "[10599, 11048, 13769, 10710, 10808] 5\n",
      "[10755.473476099976, 13829.55507411323, 12806.959630948328, 10761.447484324171, 10766.605981798102, 13329.613990331207, 10770.863513087816, 10770.120192815555, 12818.491537540986, 13333.837121833958, 10775.142889619652, 10775.271035911981, 10778.583769287061, 10781.345228236643, 12830.412111176418, 10783.347273607087, 13862.365987870056, 10793.27831935172, 10794.266920971579, 10796.742722012512, 12852.311936439923, 10805.607696995334, 13369.589824960995, 13373.182461991451, 10814.75176954652, 13379.242441517501, 12875.46341309707, 10829.672815016425, 13906.117448098541, 13909.495647603979, 12886.027663146262, 10844.7033689049, 13921.213378578885, 13922.450659662129, 13410.470878515884, 12902.606552932888, 12903.108044281467, 13932.334602339479, 10863.675918727684, 10865.563382662735, 13431.40409655958, 10878.772891257651, 12928.705449300536, 10884.659289256919, 12938.986762907707, 12939.951920219351, 10896.255320597487, 13457.401131642622, 10911.1455650745, 10911.497684635518, 10920.959374256303, 10921.566999642919, 13996.530266116511, 13487.570646998938, 13489.97346781965, 13494.32222504665, 10945.563164199531, 13512.710868102127, 14027.266294462639, 13007.577835475075, 13008.448953558865, 10962.563582112829, 10963.673560076813, 13014.05390083704, 10973.227150235161, 13028.033878586772, 13038.485603022087, 13553.564072250098, 10996.15568896067, 10997.087232224767, 13558.371369773022, 13049.903469614075, 13562.916551791373, 11004.408383493708, 13061.84228340699, 11018.623923554125, 11024.650018496059, 13585.150787113826, 11031.235714970491, 13112.936715253523, 13627.361855024476, 13132.837680632721, 13655.302720832819, 13668.771681113187, 13173.463573832782, 10616.091885241818, 10621.666160988689, 13697.400133750813, 10644.401139920676, 13717.459019073112, 13720.899041434803, 13210.857034385726, 13723.231406320287, 13213.618185567675, 13216.210484588413, 12707.23213765631, 12709.901440507969, 12710.032041146436, 12710.486875762315, 13736.1465164042, 12709.896364105989, 13738.220177910423, 10666.042255817576, 13228.989632361143, 13737.837820107356, 12718.308648431237, 12710.750002268465, 12716.792920435122, 13237.764801757496, 10681.84987598355, 10681.177892885771, 12729.381863113806, 12730.683297105956, 10684.26136912754, 12729.426136954939, 12731.84257700274, 12733.343114144658, 10686.726673971853, 12738.098136432125, 12736.5900583773, 10685.141263407206, 10694.508461554704, 10704.118982984346, 10705.219151948919, 10714.248670873683, 13281.584725557033, 10722.935201470438, 10681.891852163197, 12779.819221691758, 13806.63433559543, 10739.093204680314, 10740.43037443154, 10741.73020162133, 13310.827235985666, 10751.677843071118] 135\n"
     ]
    },
    {
     "name": "stderr",
     "output_type": "stream",
     "text": [
      "36 : hazelnut-print label's deleting process: 100%|████████████████████████████████████| 5/5 [00:00<00:00, 2502.27it/s]\n"
     ]
    },
    {
     "name": "stdout",
     "output_type": "stream",
     "text": [
      "del:  ./data/train/10599.png\n",
      "del:  ./data/train/11048.png\n",
      "del:  ./data/train/13769.png\n",
      "del:  ./data/train/10710.png\n",
      "del:  ./data/train/10808.png\n"
     ]
    },
    {
     "name": "stderr",
     "output_type": "stream",
     "text": [
      "36 : hazelnut-print label's augmentation process: 100%|██████████████████████████████| 135/135 [01:15<00:00,  1.79it/s]\n"
     ]
    },
    {
     "name": "stdout",
     "output_type": "stream",
     "text": [
      "[14152, 12716, 13230, 12309, 12023, 11294] 6\n",
      "[11781.01322770297, 12308.34739789516, 13347.642595601115, 11817.052763472335, 12332.092962172233, 12334.026053971873, 11320.4689257578, 11838.61489161297, 11839.074535851141, 12869.221150092875, 11343.087450912184, 11865.282536908326, 11871.441472613711, 13407.102137339543, 13410.893972476955, 11879.871276631446, 11884.712368823468, 11884.74106137249, 11887.271509843104, 11888.79626012271, 13425.791988009762, 11376.899939069699, 12915.448000004715, 13425.702932871063, 11894.407414715672, 11905.58554644308, 11910.492118324515, 11915.36949896241, 13964.331149646765, 13971.637288348089, 11927.228717146292, 12954.182117300526, 11942.069372413898, 11949.612825946399, 11953.079323247011, 14004.653898535707, 14004.778510648388, 11958.482898890883, 11962.441627258646, 12990.778795512717, 14015.876340630688, 11969.606555745837, 11457.862174264888, 11974.82722973829, 11983.323305696476, 11984.695047070258, 11991.749360129343, 11997.525751432773, 11999.977955502205, 11500.174470811084, 12014.499633624206, 12015.410869757037, 13040.255534136346, 12015.343094983578, 13556.824371739478, 12023.914464056536, 13561.326207546792, 12537.453200762928, 12537.462819888182, 13561.456555054361, 13567.132266431747, 13058.377724830629, 12548.236783938753, 13063.686156291835, 12555.227871074136, 13581.101288911246, 12557.119644612982, 13079.857770682514, 12055.19465846507, 13596.988703691586, 14113.553504804573, 11561.584559696363, 14122.047202074897, 13612.826286252423, 14126.838152170392, 12596.660450695654, 11576.613824944978, 13626.498677965077, 12093.879077400697, 14144.226783041498, 13634.022583056481, 13634.028197894411, 14149.548513999152, 12102.89323697651, 12616.269726903878, 12107.92753586487, 12109.482723021769, 13649.304990181949, 13139.937909191736, 12124.094698500976, 13669.349595600732, 11622.641577572485, 13673.424960692146, 11633.546420258448, 13683.906463740288, 13687.214366466264, 12158.784465127705, 13186.033599047081, 12675.050013097294, 12168.748397410087, 13197.93626696585, 12174.926575710848, 13199.43482650496, 12692.322692831867, 11670.857348801035, 11671.76266095861, 13206.027224706302, 13209.175056684186, 12704.628074774491, 12705.392588454095, 13732.363041185563, 13233.503584977647, 13745.901091505293, 12215.851489282977, 12216.096437509705, 13754.55240011742, 13247.492327841188, 13249.088427249164, 13250.226791754794, 12743.759994146792, 13260.222002803106, 12243.678926764387, 13281.75638248096, 13797.894940963437, 13293.028757854941, 13810.635083690933, 13307.959843505605, 13308.662333892542] 128\n"
     ]
    },
    {
     "name": "stderr",
     "output_type": "stream",
     "text": [
      "37 : leather-color label's deleting process: 100%|█████████████████████████████████████| 6/6 [00:00<00:00, 3007.75it/s]\n"
     ]
    },
    {
     "name": "stdout",
     "output_type": "stream",
     "text": [
      "del:  ./data/train/14152.png\n",
      "del:  ./data/train/12716.png\n",
      "del:  ./data/train/13230.png\n",
      "del:  ./data/train/12309.png\n",
      "del:  ./data/train/12023.png\n",
      "del:  ./data/train/11294.png\n"
     ]
    },
    {
     "name": "stderr",
     "output_type": "stream",
     "text": [
      "37 : leather-color label's augmentation process: 100%|███████████████████████████████| 128/128 [00:53<00:00,  2.38it/s]\n"
     ]
    },
    {
     "name": "stdout",
     "output_type": "stream",
     "text": [
      "[14245, 10279, 11240, 11920, 13298, 11125, 10230, 10618] 8\n",
      "[11266.05558658511, 10242.901529001832, 13828.384809346715, 10242.437824800512, 10244.86209295749, 10242.300303477055, 12810.965471619065, 10253.880779798053, 13326.119817793167, 11792.065672351613, 10261.253439434442, 11800.117356838022, 13849.487369087405, 10267.982001484643, 12317.844617045077, 10270.537774088865, 10786.660815550278, 10275.335597003152, 13348.544525105579, 12325.730817155214, 11815.980948503839, 11304.83482108636, 11322.33380804924, 11323.645802666682, 11326.191093670946, 11327.114856082, 13377.206887605716, 13890.013204891817, 13388.465524425732, 13396.483139834878, 11863.044127030584, 11866.412750226411, 13410.800762021601, 13928.79390429876, 10346.754245897064, 13420.500488622174, 11885.36250697535, 10864.375961225387, 10361.606692991309, 10873.246499829582, 12923.776877040398, 12412.383320525827, 13956.713296567812, 10383.832383255227, 12945.039549209061, 11412.707787237103, 10906.420548899174, 11933.376848263553, 11422.664900946758, 11427.629479674502, 11430.883481777211, 10923.834260629188, 10414.735734373942, 10930.165566969783, 10930.170844827846, 11957.319237886555, 13497.975630177887, 10428.412041498816, 14013.987991827731, 10954.046938646035, 13005.242722171095, 13008.143497088027, 13522.534750487885, 10465.054091418619, 10470.102199309156, 10984.432798233735, 14057.670975306643, 10476.600463698396, 12524.773309665768, 13552.781543445491, 12532.327618507032, 10998.773206342286, 14071.379284432884, 11001.40913415266, 13563.130286846534, 11004.72908816511, 10492.1517078901, 10496.55383662972, 11014.91266707909, 14095.795598651785, 10513.390563935389, 14099.210409684048, 11540.34325264005, 12574.07036770469, 11551.11820776323, 11555.568148065455, 10540.495064308174, 11052.054969423043, 13614.02385984002, 10552.097361396101, 11065.246012136662, 10553.88983654788, 14140.012663613456, 12093.280071617766, 13125.903373487934, 11596.3408575033, 13644.36737806761, 14160.796747306524, 10582.141906601722, 10585.902801579947, 11119.90834341723, 11140.894906670128, 10633.821506833776, 11149.611803742919, 11160.741105232153, 11165.399675614797, 13728.66546014822, 12706.129030039356, 11173.68571267795, 13735.898916900745, 11176.788100750196, 11182.818750451923, 11184.859590687285, 11192.02776136439, 13757.954699690436, 11198.527670177065, 11200.262310568876, 10697.486316107099, 11211.203662702554, 13773.337975548633, 11216.192445056646, 11735.286859608968, 11223.057017694953, 13275.426163760161, 11227.418656061733, 11231.842317191771, 13793.169612419075, 12771.648001575277, 13801.676808581955, 11764.588028917487, 10230.157140076712, 10231.309680420276, 13823.396075068176] 133\n"
     ]
    },
    {
     "name": "stderr",
     "output_type": "stream",
     "text": [
      "38 : leather-cut label's deleting process: 100%|███████████████████████████████████████| 8/8 [00:00<00:00, 4010.33it/s]\n"
     ]
    },
    {
     "name": "stdout",
     "output_type": "stream",
     "text": [
      "del:  ./data/train/14245.png\n",
      "del:  ./data/train/10279.png\n",
      "del:  ./data/train/11240.png\n",
      "del:  ./data/train/11920.png\n",
      "del:  ./data/train/13298.png\n",
      "del:  ./data/train/11125.png\n",
      "del:  ./data/train/10230.png\n",
      "del:  ./data/train/10618.png\n"
     ]
    },
    {
     "name": "stderr",
     "output_type": "stream",
     "text": [
      "38 : leather-cut label's augmentation process: 100%|█████████████████████████████████| 133/133 [01:06<00:00,  1.99it/s]\n"
     ]
    },
    {
     "name": "stdout",
     "output_type": "stream",
     "text": [
      "[12675, 10154, 13713, 13233, 13662] 5\n",
      "[11786.190072589205, 12811.723752394191, 13323.661625529221, 13325.855209502486, 13342.962197844445, 13363.086348893636, 12862.459753668527, 12351.295890615937, 13377.640374255705, 11841.980158665712, 10825.46794588885, 13396.922692219181, 12893.2890523687, 13655.782341644945, 13656.286719094218, 13419.729761465785, 12397.433128450928, 13658.600021232598, 13658.580839997869, 13424.448356514184, 13438.472451086749, 12929.499863641571, 13448.386950277947, 13450.736630253996, 13451.523583098324, 13453.437068657313, 13457.71623615862, 13459.691085704151, 13471.128337465507, 13473.215020968331, 12962.808818894106, 13473.211451012397, 13475.39056467235, 10917.377657659134, 11430.365488143252, 13479.515101743362, 13483.465405346575, 13484.391220551714, 13485.663583406758, 12979.471321139297, 12983.557363375166, 13502.924737144915, 13507.604539282753, 13514.676982909958, 13518.387868018188, 13519.772418923767, 13519.502233785928, 13529.494229087193, 13530.089459502871, 13531.836611265186, 13539.689466017333, 13543.469821713781, 13552.372952113648, 13048.23064211743, 13561.755704844722, 13565.208507853244, 13054.532094069187, 12031.929603488063, 13571.917610960354, 13572.627305203785, 13571.955664836933, 13578.830276092884, 13578.459206331865, 13578.829694826023, 13588.293687605617, 13592.29273545511, 10232.484759554762, 13596.48071980358, 13597.2347056683, 13596.089711990991, 13600.562367618157, 13600.580860172808, 13600.073033533816, 13603.960980155665, 13603.104161689054, 11045.946816892172, 13089.239303501878, 13105.40111853987, 11577.534434389629, 13625.316715957033, 10560.878409489535, 13121.476586577293, 13645.028273363949, 13646.276116867008, 13647.588474405786, 13654.304745203634, 13655.805725696318, 13657.199352852023, 13657.24097288974, 13659.059950738087, 13659.618491917547, 13659.686955085213, 13661.291206849275, 13654.297666558332, 13657.30816050043, 11105.080416851783, 13665.745749847032, 13659.658821498764, 13661.288132567746, 13670.442181463595, 13673.189242520342, 13673.000914618815, 13676.152510217145, 13678.535684604902, 13682.345000110432, 13173.556975067386, 12661.492414406332, 13685.490226334212, 13689.269429008593, 13692.924600411177, 13693.787346955072, 13692.95694998816, 13695.38687844883, 13698.904915664347, 13698.141605240648, 13700.848811281698, 13188.10749499158, 13702.271043138899, 13700.694074164234, 13706.82254117877, 13708.475401252477, 11168.341185596022, 10156.180816943523, 10157.735418401371, 10159.019799953694, 10162.938276458912, 10163.55997722395, 12213.19450370517, 13240.521327316439, 10169.731840398066, 12216.195384155133, 10171.890937053255, 10172.241383296108, 10175.08901233797, 10182.284283114786, 10182.97155863384, 12239.370274462952, 12243.983832257312, 10202.816443406653, 10217.098463925044, 13290.91947352438, 11254.672147207244, 13303.447857046303, 12792.47661997312, 13308.89140998573, 13310.332543821001] 146\n"
     ]
    },
    {
     "name": "stderr",
     "output_type": "stream",
     "text": [
      "39 : leather-fold label's deleting process: 100%|██████████████████████████████████████| 5/5 [00:00<00:00, 2492.46it/s]\n"
     ]
    },
    {
     "name": "stdout",
     "output_type": "stream",
     "text": [
      "del:  ./data/train/12675.png\n",
      "del:  ./data/train/10154.png\n",
      "del:  ./data/train/13713.png\n",
      "del:  ./data/train/13233.png\n",
      "del:  ./data/train/13662.png\n"
     ]
    },
    {
     "name": "stderr",
     "output_type": "stream",
     "text": [
      "39 : leather-fold label's augmentation process:  60%|███████████████████▉             | 88/146 [00:37<00:25,  2.26it/s]"
     ]
    }
   ],
   "source": [
    "#train_y = pd.read_csv(\"data/train_df.csv\")\n",
    "\n",
    "# SMOTE oversampling  사용\n",
    "overdata = data_augmentation(\"./data/train_df.csv\")\n",
    "y = overdata[1]"
   ]
  },
  {
   "cell_type": "code",
   "execution_count": null,
   "id": "250007b5",
   "metadata": {},
   "outputs": [],
   "source": [
    "print(y)\n",
    "print(y.shape)\n",
    "y_df =pd.DataFrame(y, columns=['label'])\n",
    "y_df.to_csv('smotetomek_label.csv')\n"
   ]
  },
  {
   "cell_type": "code",
   "execution_count": null,
   "id": "a03a2e63",
   "metadata": {},
   "outputs": [],
   "source": [
    "y = pd.read_csv('smotetomek_result.csv')\n",
    "y=y.sort_values(by=['0'])\n",
    "train_labels=y['1']\n",
    "print(train_labels)\n",
    "print(type(train_labels))"
   ]
  },
  {
   "cell_type": "code",
   "execution_count": null,
   "id": "8e5ce6f7",
   "metadata": {},
   "outputs": [],
   "source": [
    "from glob import glob\n",
    "train_png = sorted(glob('data/train/*.png'))\n",
    "test_png = sorted(glob('data/test/*.png'))"
   ]
  },
  {
   "cell_type": "code",
   "execution_count": null,
   "id": "89dfda03",
   "metadata": {},
   "outputs": [],
   "source": [
    "#-------------------------------------------------------------------\n",
    "\n",
    "\n",
    "label_unique = sorted(np.unique(train_labels))\n",
    "label_unique = {key:value for key,value in zip(label_unique, range(len(label_unique)))}\n",
    "\n",
    "train_labels = [label_unique[k] for k in train_labels]\n"
   ]
  },
  {
   "cell_type": "code",
   "execution_count": null,
   "id": "d7c1011c",
   "metadata": {},
   "outputs": [],
   "source": [
    "# train, test 이미지 리사이즈\n",
    "def img_load(path):\n",
    "    img = cv2.imread(path)[:,:,::-1]\n",
    "    img = cv2.resize(img, (512, 512))\n",
    "    return img\n"
   ]
  },
  {
   "cell_type": "code",
   "execution_count": null,
   "id": "d90e55c8",
   "metadata": {},
   "outputs": [],
   "source": [
    "train_imgs = [img_load(m) for m in tqdm(train_png)]\n",
    "test_imgs = [img_load(n) for n in tqdm(test_png)]"
   ]
  },
  {
   "cell_type": "code",
   "execution_count": null,
   "id": "49ca5dfc",
   "metadata": {},
   "outputs": [],
   "source": [
    "class Custom_dataset(Dataset):\n",
    "    def __init__(self, img_paths, labels, mode='train'):\n",
    "        self.img_paths = img_paths\n",
    "        self.labels = labels\n",
    "        self.mode=mode\n",
    "    def __len__(self):\n",
    "        return len(self.img_paths)\n",
    "    def __getitem__(self, idx):\n",
    "        img = self.img_paths[idx]\n",
    "        if self.mode=='train':\n",
    "            augmentation = random.randint(0,2)\n",
    "            if augmentation==1:\n",
    "                img = img[::-1].copy()\n",
    "            elif augmentation==2:\n",
    "                img = img[:,::-1].copy()\n",
    "        img = transforms.ToTensor()(img)\n",
    "        if self.mode=='test':\n",
    "            pass\n",
    "        \n",
    "        label = self.labels[idx]\n",
    "        return img, label\n",
    "    \n",
    "class Network(nn.Module):\n",
    "    def __init__(self):\n",
    "        super(Network, self).__init__()\n",
    "        self.model = timm.create_model('efficientnet_b4', pretrained=True, num_classes=88)\n",
    "        \n",
    "    def forward(self, x):\n",
    "        x = self.model(x)\n",
    "        return x"
   ]
  },
  {
   "cell_type": "code",
   "execution_count": null,
   "id": "b82dea31",
   "metadata": {},
   "outputs": [],
   "source": [
    "batch_size = 32\n",
    "epochs = 35\n",
    "\n",
    "# Train\n",
    "train_dataset = Custom_dataset(np.array(train_imgs), np.array(train_labels), mode='train')\n",
    "train_loader = DataLoader(train_dataset, shuffle=True, batch_size=batch_size)\n",
    "\n",
    "# Test\n",
    "test_dataset = Custom_dataset(np.array(test_imgs), np.array([\"tmp\"]*len(test_imgs)), mode='test')\n",
    "test_loader = DataLoader(test_dataset, shuffle=False, batch_size=batch_size)"
   ]
  },
  {
   "cell_type": "code",
   "execution_count": null,
   "id": "c56258c3",
   "metadata": {},
   "outputs": [],
   "source": [
    "def score_function(real, pred):\n",
    "    score = f1_score(real, pred, average=\"macro\")\n",
    "    return score\n",
    "\n",
    "model = Network().to(device)\n",
    "\n",
    "# 최적화\n",
    "optimizer = torch.optim.NAdam(model.parameters(), lr=1e-3)\n",
    "# 손실함수\n",
    "criterion = nn.CrossEntropyLoss()\n",
    "# 특성별로 데이터 스케일이 다를 경우, 모든 특성의 범위를 갖게 만들어줌 \n",
    "scaler = torch.cuda.amp.GradScaler() \n",
    "\n",
    "\n",
    "\n",
    "best=0\n",
    "for epoch in range(epochs):\n",
    "    start=time.time()\n",
    "    train_loss = 0\n",
    "    train_pred=[]\n",
    "    train_y=[]\n",
    "    model.train()\n",
    "    for batch in (train_loader):\n",
    "        optimizer.zero_grad()\n",
    "        x = torch.tensor(batch[0], dtype=torch.float32, device=device)\n",
    "        y = torch.tensor(batch[1], dtype=torch.long, device=device)\n",
    "        with torch.cuda.amp.autocast():\n",
    "            pred = model(x)\n",
    "        loss = criterion(pred, y)\n",
    "\n",
    "\n",
    "        scaler.scale(loss).backward()\n",
    "        scaler.step(optimizer)\n",
    "        scaler.update()\n",
    "        \n",
    "        train_loss += loss.item()/len(train_loader)\n",
    "        train_pred += pred.argmax(1).detach().cpu().numpy().tolist()\n",
    "        train_y += y.detach().cpu().numpy().tolist()\n",
    "        \n",
    "    \n",
    "    train_f1 = score_function(train_y, train_pred)\n",
    "\n",
    "    TIME = time.time() - start\n",
    "    print(f'epoch : {epoch+1}/{epochs}    time : {TIME:.0f}s/{TIME*(epochs-epoch-1):.0f}s')\n",
    "    print(f'TRAIN    loss : {train_loss:.5f}    f1 : {train_f1:.5f}')"
   ]
  },
  {
   "cell_type": "code",
   "execution_count": null,
   "id": "f93b0722",
   "metadata": {},
   "outputs": [],
   "source": [
    "model.eval()\n",
    "f_pred = []\n",
    "\n",
    "with torch.no_grad():\n",
    "    for batch in (test_loader):\n",
    "        x = torch.tensor(batch[0], dtype = torch.float32, device = device)\n",
    "        with torch.cuda.amp.autocast():\n",
    "            pred = model(x)\n",
    "        f_pred.extend(pred.argmax(1).detach().cpu().numpy().tolist())"
   ]
  },
  {
   "cell_type": "code",
   "execution_count": null,
   "id": "7d05e907",
   "metadata": {},
   "outputs": [],
   "source": [
    "label_decoder = {val:key for key, val in label_unique.items()}\n",
    "\n",
    "f_result = [label_decoder[result] for result in f_pred]"
   ]
  },
  {
   "cell_type": "code",
   "execution_count": null,
   "id": "f8f33dd1",
   "metadata": {},
   "outputs": [],
   "source": [
    "submission = pd.read_csv(\"data/sample_submission.csv\")\n",
    "\n",
    "submission[\"label\"] = f_result\n",
    "\n",
    "submission"
   ]
  },
  {
   "cell_type": "code",
   "execution_count": null,
   "id": "a52789d1",
   "metadata": {},
   "outputs": [],
   "source": [
    "submission.to_csv(\"efficientnet_b4_smotetomek-oversampling.csv\", index = False)"
   ]
  },
  {
   "cell_type": "code",
   "execution_count": null,
   "id": "6338e306",
   "metadata": {},
   "outputs": [],
   "source": []
  }
 ],
 "metadata": {
  "kernelspec": {
   "display_name": "nas",
   "language": "python",
   "name": "nas"
  },
  "language_info": {
   "codemirror_mode": {
    "name": "ipython",
    "version": 3
   },
   "file_extension": ".py",
   "mimetype": "text/x-python",
   "name": "python",
   "nbconvert_exporter": "python",
   "pygments_lexer": "ipython3",
   "version": "3.6.13"
  }
 },
 "nbformat": 4,
 "nbformat_minor": 5
}
