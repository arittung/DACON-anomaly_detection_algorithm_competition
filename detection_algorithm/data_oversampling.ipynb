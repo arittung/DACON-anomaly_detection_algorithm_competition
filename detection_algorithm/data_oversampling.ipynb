{
 "cells": [
  {
   "cell_type": "code",
   "execution_count": 1,
   "id": "ab79573d",
   "metadata": {},
   "outputs": [],
   "source": [
    "from imblearn.over_sampling import RandomOverSampler\n",
    "from collections import Counter\n",
    "import pandas as pd\n",
    "import numpy as np\n",
    "import matplotlib.pyplot as plt\n",
    "from imblearn.over_sampling import SMOTE\n",
    "from imblearn.combine import *\n",
    "from imblearn.under_sampling import TomekLinks\n"
   ]
  },
  {
   "cell_type": "code",
   "execution_count": 2,
   "id": "e0887ce7",
   "metadata": {},
   "outputs": [],
   "source": [
    "def count_and_plot(y): \n",
    "    counter = Counter(y)\n",
    "    print(counter)\n",
    "    for k,v in counter.items():\n",
    "        print('Class=%s, n=%d (%.3f%%)' % (k, v, v / len(y) * 100))\n",
    "    plt.bar(counter.keys(), counter.values())\n",
    "    plt.show()"
   ]
  },
  {
   "cell_type": "code",
   "execution_count": 3,
   "id": "38003544",
   "metadata": {},
   "outputs": [],
   "source": [
    "# random over sampling 방법\n",
    "def random_oversampling1(path):\n",
    "    df = pd.read_csv(path)\n",
    "    data = df.values\n",
    "    X, y = data[:, 1], data[:, -1]\n",
    "    X = X.reshape((4277, 1))\n",
    "    count_and_plot(y)\n",
    "    \n",
    "    # oversampling 시작\n",
    "    X_resampled, y_resampled = RandomOverSampler(random_state=0).fit_resample(X, y)\n",
    "    count_and_plot(y_resampled)\n",
    "    return [X_resampled, y_resampled]"
   ]
  },
  {
   "cell_type": "code",
   "execution_count": 4,
   "id": "d66b2fb4",
   "metadata": {},
   "outputs": [],
   "source": [
    "# smote 알고리즘 방법\n",
    "def smote_oversampling(path):\n",
    "    df = pd.read_csv(path)\n",
    "    data = df.values\n",
    "    X, y = data[:, 1], data[:, -1]\n",
    "    \n",
    "    for i in range(len(X)):\n",
    "        X[i] = X[i][:5]\n",
    "        \n",
    "    X = np.array(X, dtype = np.float64)\n",
    "    X = X.reshape((4277, 1))\n",
    "    \n",
    "    count_and_plot(y)\n",
    "    \n",
    "    # oversampling 시작\n",
    "    X_resampled, y_resampled = SMOTE(random_state=2,k_neighbors=3).fit_resample(X, y)\n",
    "    count_and_plot(y_resampled)\n",
    "    return [X_resampled, y_resampled]"
   ]
  },
  {
   "cell_type": "code",
   "execution_count": 1,
   "id": "a9e86d88",
   "metadata": {},
   "outputs": [],
   "source": [
    "def smotetomek_oversampling(path):\n",
    "    df = pd.read_csv(path)\n",
    "    data = df.values\n",
    "    X, y = data[:, 1], data[:, -1]\n",
    "    \n",
    "    for i in range(len(X)):\n",
    "        X[i] = X[i][:5]\n",
    "        \n",
    "    X = np.array(X, dtype = np.float64)\n",
    "    X = X.reshape((4277, 1))\n",
    "    \n",
    "    count_and_plot(y)\n",
    "    \n",
    "    # oversampling 시작\n",
    "    X_resampled, y_resampled = SMOTETomek(random_state=0, smote = SMOTE(k_neighbors=3)).fit_resample(X, y)\n",
    "    count_and_plot(y_resampled)\n",
    "    return [X_resampled, y_resampled]"
   ]
  },
  {
   "cell_type": "code",
   "execution_count": 6,
   "id": "29c98d07",
   "metadata": {},
   "outputs": [],
   "source": [
    "def smoteenn_oversampling(path):\n",
    "    df = pd.read_csv(path)\n",
    "    data = df.values\n",
    "    X, y = data[:, 1], data[:, -1]\n",
    "    \n",
    "    for i in range(len(X)):\n",
    "        X[i] = X[i][:5]\n",
    "        \n",
    "    X = np.array(X, dtype = np.float64)\n",
    "    X = X.reshape((4277, 1))\n",
    "    \n",
    "    count_and_plot(y)\n",
    "    \n",
    "    # oversampling 시작\n",
    "    X_resampled, y_resampled = SMOTEENN(random_state=0, smote = SMOTE(k_neighbors=3)).fit_resample(X, y)\n",
    "    count_and_plot(y_resampled)\n",
    "    return [X_resampled, y_resampled]"
   ]
  }
 ],
 "metadata": {
  "kernelspec": {
   "display_name": "nas",
   "language": "python",
   "name": "nas"
  },
  "language_info": {
   "codemirror_mode": {
    "name": "ipython",
    "version": 3
   },
   "file_extension": ".py",
   "mimetype": "text/x-python",
   "name": "python",
   "nbconvert_exporter": "python",
   "pygments_lexer": "ipython3",
   "version": "3.6.13"
  }
 },
 "nbformat": 4,
 "nbformat_minor": 5
}
